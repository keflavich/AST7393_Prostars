{
 "cells": [
  {
   "cell_type": "markdown",
   "metadata": {
    "slideshow": {
     "slide_type": "slide"
    }
   },
   "source": [
    "# Day 1\n",
    "\n",
    "* Syllabus"
   ]
  },
  {
   "cell_type": "markdown",
   "metadata": {
    "slideshow": {
     "slide_type": "slide"
    }
   },
   "source": [
    "Welcome to\n",
    "\n",
    "# AST 7939: Prostars and Antistars\n",
    "\n",
    "We will discuss stars made of protons and antiprotons!"
   ]
  },
  {
   "cell_type": "markdown",
   "metadata": {
    "slideshow": {
     "slide_type": "slide"
    }
   },
   "source": [
    "Welcome to\n",
    "\n",
    "# AST 7939: Prostars and Constars\n",
    "\n",
    "Pick your side: are you for or against stars?"
   ]
  },
  {
   "cell_type": "markdown",
   "metadata": {
    "slideshow": {
     "slide_type": "slide"
    }
   },
   "source": [
    "Welcome to\n",
    "\n",
    "# AST 7939: Prostars\n",
    "\n",
    "where we discuss those top-tier athletes. Who is the GOAT?"
   ]
  },
  {
   "cell_type": "markdown",
   "metadata": {
    "slideshow": {
     "slide_type": "slide"
    }
   },
   "source": [
    "Welcome to\n",
    "\n",
    "# AST 7939: Prostars and Planets\n",
    "\n",
    "AKA \"it's dust all the way down\"\n",
    "\n",
    "<img src=\"https://upload.wikimedia.org/wikipedia/commons/4/47/River_terrapin.jpg\">"
   ]
  },
  {
   "cell_type": "markdown",
   "metadata": {
    "slideshow": {
     "slide_type": "slide"
    }
   },
   "source": [
    "### Why Star Formation?\n",
    "\n",
    "I'm teaching a graduate course on star formation primarily for selfish reasons: I want to fill in the gaps in my own understanding.\n",
    "\n",
    "I never took a class specifically on star formation; the closest I had was an ISM class taught by John Bally, which was not all that similar to the ISM class taught by Desika Narayanan."
   ]
  },
  {
   "cell_type": "markdown",
   "metadata": {
    "slideshow": {
     "slide_type": "slide"
    }
   },
   "source": [
    "Because I haven't taught this before, I will draw from several sources:\n",
    "\n",
    "* Mark Krumholz's open book \"Notes on Star Formation\"\n",
    "\n",
    "   This will be my preferred text because it's all free and online.  However, it's very theory-focused and does not cover everything I want to go through (e.g., some features of disks are brushed over, few aspects of shocks are discussed), so we'll draw on others.\n",
    "   \n",
    "* Palla & Stahler's \"The Formation of Stars\"\n",
    "\n",
    "   This has been the most popular textbook on star formation for a while.  Much has been updated in the 18 years since its publication, though, so I did not want to use this as the primary reference.\n",
    "   \n",
    "* Lee Hartmann's \"Accretion Processes in Star Formation\"\n",
    "\n",
    "   Probably the key text for the small-scale processes in star formation.  I've not read this one as much, but I hope to refer to it.  Lee Hartmann was Jaehan Bae's advisor, so I anticipate he will teach some material from this in the future (and is probably more familiar with it than I am).\n",
    "   \n",
    "* Tom Megeath's class [\"The Secret Lives of Stars\"](http://astro1.physics.utoledo.edu/~megeath/ph6820/ph6820.html)\n",
    "\n",
    "   A set of slides, lectures, and homeworks that follows a pretty sensible structure for a course.\n",
    "   \n",
    "* [PPVII](http://ppvii.org/chapter-list/index.html) and [PPVI](https://www2.mpia-hd.mpg.de/home/ppvi/) reviews\n",
    "\n",
    "   The Protostars and Planets review series is a set of thorough reviews updated every ~7 years.  Because of COVID, PPVII has been delayed several times.  I'll try to get early access to some of the PPVII chapters, but we'll also reference material from the PPVI chapters.  In many cases, they're the most relevant and up to date reviews on the topic."
   ]
  },
  {
   "cell_type": "markdown",
   "metadata": {
    "slideshow": {
     "slide_type": "slide"
    }
   },
   "source": [
    "### Derivations\n",
    "\n",
    "We will do several derivations both in class and in homework.\n",
    "\n",
    "There are several aims to doing derivations.  These include:\n",
    "\n",
    " * **Learning the language of the field.**  Think of these derivations as a common vocabulary used by researchers.  The vocabulary consists both of words (like 'Bonnor-Ebert Sphere') and equations.  Practicing with these terms is necessary to be fluent in them, just as with language.\n",
    " * **Gain insight into physical processes.** Each derivation we do has _some_ analogue elsewhere in astronomy and physics.  Drawing associations between different scenarios driven by similar physics is one of the main ways we (humanity, scientists) understand the universe.\n",
    " * **Hone mathematical skills.**  Even if you're not a professional theorist, you will need some of these mathematical tools sometime in your career.  You spent ~10 years training in them, now you're practicing.\n",
    " * **Develop practical skills needed for experimental design.**  Many of you will submit observing proposals.  Deriving the predicted flux of your target will almost always be an important part of that.  Sometimes you can use shortcuts, like \"other people observed this target before\", but if you're ever looking for _new_ phenomena, you need to be able to predict what the telescope will detect.\n",
    " * **Practice _re_ search.**  Problem sets won't generally be self-contained.  You will need to look up some equations or other pieces of information.  Practicing _efficiently_ searching your textbooks or other important sources is a part of all of your classes.  You want to be ready, when you discover something new or interesting, to deal with it _quickly_: part of being a good researcher is finding and avoiding dead-ends without spending too much time in the rabbithole.  You also want to be able to turn around exciting discoveries into physically insightful papers quickly if you're in a particularly competitive field (e.g., transients, exoplanets).\n",
    "   "
   ]
  },
  {
   "cell_type": "markdown",
   "metadata": {
    "slideshow": {
     "slide_type": "slide"
    }
   },
   "source": [
    "### Scope\n",
    "\n",
    "You have taken, or will take, classes on:\n",
    "\n",
    " * The interstellar medium\n",
    " * Radiative processes\n",
    " * Stars\n",
    " * Galaxies & Cosmology\n",
    " * Instrumentation & observational techniques\n",
    " \n",
    "This class will include aspects of all of those classes, but focused specifically on the topic of *Star Formation*.\n",
    "\n",
    "In terms of physical scale, we will cover primarily the range from ~1 R$_\\odot$ to ~10 pc, i.e., from star to cloud scales - spanning from Stars to ISM.\n",
    "\n",
    "I will try to minimize overlap with ISM, but there will definitely be some."
   ]
  },
  {
   "cell_type": "markdown",
   "metadata": {
    "slideshow": {
     "slide_type": "slide"
    }
   },
   "source": [
    "# Big Questions in Star Formation\n",
    "(1-8 are from [Tom Megeath](http://astro1.physics.utoledo.edu/~megeath/ph6820/lecture1_ph6820.pdf))\n",
    "\n",
    " 1. What initiates star formation?\n",
    " 2. What Processes Govern Protostellar Evolution and Determine the Stellar Mass and Rotation Rate?\n",
    " 3. How do Massive Stars Form?\n",
    " 4. What is Lifetime of Molecular Clouds (and the Duration of Star Formation)?\n",
    " 5. What Physics Determines the Initial Mass Function?\n",
    " 6. What Physics Regulates the Rate & Efficiency?\n",
    " 7. What Role Does Environment Play in Star and Planet Formation?\n",
    " 8. What Physics Regulates Star Formation in Clusters?\n",
    " 9. What is the role of feedback (outflow, radiation, wind, etc) in star formation?\n",
    " 10. What is the role of disks in star and planet formation?\n",
    " 11. How do multiple systems form?"
   ]
  }
 ],
 "metadata": {
  "celltoolbar": "Slideshow",
  "kernelspec": {
   "display_name": "Python 3.9",
   "language": "python",
   "name": "py39"
  },
  "language_info": {
   "codemirror_mode": {
    "name": "ipython",
    "version": 3
   },
   "file_extension": ".py",
   "mimetype": "text/x-python",
   "name": "python",
   "nbconvert_exporter": "python",
   "pygments_lexer": "ipython3",
   "version": "3.9.6"
  },
  "rise": {
   "transition": "none"
  }
 },
 "nbformat": 4,
 "nbformat_minor": 4
}
