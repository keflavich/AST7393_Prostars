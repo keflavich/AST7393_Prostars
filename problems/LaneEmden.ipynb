{
 "cells": [
  {
   "cell_type": "code",
   "execution_count": 119,
   "id": "4d95f560-f9c7-466a-9b08-90d834b0dbad",
   "metadata": {},
   "outputs": [],
   "source": [
    "from scipy.integrate import quad, solve_ivp"
   ]
  },
  {
   "cell_type": "markdown",
   "id": "2824ff14-d188-48e8-be21-f3308b1fe031",
   "metadata": {},
   "source": [
    "# Part 1: Surface Pressure vs radius\n",
    "\n"
   ]
  },
  {
   "cell_type": "markdown",
   "id": "833ccd3f-d29f-42a7-8eb3-2ee6f8248a76",
   "metadata": {},
   "source": [
    " For the moment, assume that the gas density inside the sphere is uniform.\n",
    "    Use the virial theorem to derive a relationship between $P_{\\mathrm{s}}$\n",
    "    and the cloud radius $R$. \n",
    "    Recall:\n",
    "    $$\\frac{1}{2}\\ddot{I} = 2 (\\mathcal{T} - \\mathcal{T}_S) + \\mathcal{W}$$\n",
    "    $\\mathcal{T}_S$ is the average surface pressure, given by\n",
    "    $$\\mathcal{T}_S = \\int_S r P dS = r P \\int_S dS = 4 \\pi R^2 R P_S = 4 \\pi R^3 P_S$$\n",
    "    assuming a sphere with a constant surface pressure term. \n",
    "    \n",
    " "
   ]
  },
  {
   "cell_type": "markdown",
   "id": "ea57a419-df75-4974-a52c-38ae9c9ae0ef",
   "metadata": {},
   "source": [
    "$\\mathcal{W}$ is the gravitational potential\n",
    " $$\\mathcal{W} = -a \\frac{GM^2}{R}$$\n"
   ]
  },
  {
   "cell_type": "markdown",
   "id": "bb0bad98-b8d8-4cd6-a67a-c1a6b74e9962",
   "metadata": {},
   "source": [
    "### Solution\n",
    "\n",
    "$$2 (\\mathcal{T} - \\mathcal{T}_S) + \\mathcal{W} = 0$$"
   ]
  },
  {
   "cell_type": "markdown",
   "id": "727407f2-4834-4c21-83d6-4e441426f95f",
   "metadata": {},
   "source": [
    "$$2\\left( \\frac{3}{2} M c_s^2 - 4 \\pi R^3 P_S\\right) - a \\frac{GM^2}{R} = 0$$"
   ]
  },
  {
   "cell_type": "markdown",
   "id": "86d8e6ed-9ded-4318-a590-26c46a12367f",
   "metadata": {},
   "source": [
    "$$\\left( 3 M c_s^2 - 8 \\pi R^3 P_S\\right) - a \\frac{GM^2}{R} = 0$$"
   ]
  },
  {
   "cell_type": "markdown",
   "id": "4c0cafbf-4c41-4dee-89a7-fca87f00baed",
   "metadata": {},
   "source": [
    "$$P_S = \\frac{a GM^2}{8 \\pi R^4 } - \\frac{3 M c_s^2}{8 \\pi R^3} = \\frac{1}{8 \\pi R^3} \\left(3 M c_s^2 - \\frac{a G M^2}{R}\\right)$$"
   ]
  },
  {
   "cell_type": "markdown",
   "id": "9e883047-d3c9-4276-bb46-7b75a42b89fe",
   "metadata": {},
   "source": [
    "for $a=3/5$, \n",
    "$$P_S = \\frac{3 GM^2}{40 \\pi R^4 } - \\frac{3 M c_s^2}{8 \\pi R^3} = \\frac{1}{8 \\pi R^3} \\left(3 M c_s^2 - \\frac{3 G M^2}{5 R}\\right)\n",
    " = \\frac{3}{8 \\pi R^3} \\left( M c_s^2 - \\frac{ G M^2}{5 R}\\right) = \\frac{3 M c_s^2}{8 \\pi} \\left( \\frac{1}{R^3} - \\frac{ G M}{5 c_s^2} \\frac{1}{R^4}\\right)$$"
   ]
  },
  {
   "cell_type": "markdown",
   "id": "33e778aa-ff00-4884-873f-f13fcc6053b0",
   "metadata": {},
   "source": [
    "# Part 2: Maximum surface pressure\n",
    "\n",
    "Show that there is a maximum surface pressure $P_{\\mathrm{s,max}}$ for\n",
    "    which virial equilibrium is possible and derive its value.\n",
    "    (find an extremum of $P_S(R)$ with respect to $R$)\n"
   ]
  },
  {
   "cell_type": "markdown",
   "id": "024ed35b-c163-490b-8edf-f3be2ccef545",
   "metadata": {},
   "source": [
    "$$\\frac{d P_S}{dR} = \\frac{a GM^2}{2 \\pi R^5 } - \\frac{9 M c_s^2}{8 \\pi R^4} = 0$$"
   ]
  },
  {
   "cell_type": "markdown",
   "id": "2f8f4393-5d8b-4616-8a3f-9c8517942402",
   "metadata": {},
   "source": [
    "$$\\frac{a GM^2}{2 \\pi } - \\frac{9 M c_s^2 R }{8 \\pi} = 0$$"
   ]
  },
  {
   "cell_type": "markdown",
   "id": "a5d0dd45-e28f-4135-aed5-7464b4cc662a",
   "metadata": {},
   "source": [
    "$$R(P_{S,max}) = \\frac{4 a GM}{9 c_s^2 }$$"
   ]
  },
  {
   "cell_type": "markdown",
   "id": "acc12b96-ca17-4cea-b4f8-0f585bcbfc12",
   "metadata": {},
   "source": [
    "for $a=\\frac{3}{5}$,\n",
    "$$R(P_{S,max}) = \\frac{4  GM}{15 c_s^2 }$$"
   ]
  },
  {
   "cell_type": "markdown",
   "id": "c73b4e7a-5cc7-4466-8649-871ef2198528",
   "metadata": {},
   "source": [
    "$$P_{S,max} = -\\frac{a G M^2}{8 \\pi} \\left(\\frac{9 c_s^2}{4 a G M}\\right)^4 + \\frac{3 M c_s^2}{8\\pi} \\left(\\frac{9 c_s^2}{4 a G M}\\right)^3$$"
   ]
  },
  {
   "cell_type": "markdown",
   "id": "23041345-fc5e-467e-993c-002919c3b00b",
   "metadata": {},
   "source": [
    "$$P_{S,max} = -\\frac{3^8 c_s^8 }{2^{11} G^3 M^2 a^3 \\pi} + \\frac{3^7 c_s^8}{2^9 M^2 G^3 \\pi a^3} $$"
   ]
  },
  {
   "cell_type": "markdown",
   "id": "8944570c-ccc5-4be4-b624-27b922eeb2fe",
   "metadata": {},
   "source": [
    "$$P_{S,max} = \\left(\\frac{3^7}{2^9} - \\frac{3^8}{2^{11}}\\right) \\frac{c_s^8}{\\pi a^3 G^3 M^2} $$"
   ]
  },
  {
   "cell_type": "code",
   "execution_count": 120,
   "id": "2d035e9b-74c1-439c-a5b3-c8574f3eb641",
   "metadata": {},
   "outputs": [
    {
     "data": {
      "text/plain": [
       "1.06787109375"
      ]
     },
     "execution_count": 120,
     "metadata": {},
     "output_type": "execute_result"
    }
   ],
   "source": [
    "-(3**8/2**11-3**7/2**9)"
   ]
  },
  {
   "cell_type": "markdown",
   "id": "ede888b0-fb1a-46a4-b96e-9aa0592c25b8",
   "metadata": {},
   "source": [
    "$$P_{S,max} = 1.07 \\frac{c_s^8}{\\pi a^3 G^3 M^2} $$"
   ]
  },
  {
   "cell_type": "code",
   "execution_count": 121,
   "id": "843af1c1-afe2-4525-9b60-7815de8781a7",
   "metadata": {},
   "outputs": [
    {
     "data": {
      "text/plain": [
       "4.943847656250001"
      ]
     },
     "execution_count": 121,
     "metadata": {},
     "output_type": "execute_result"
    }
   ],
   "source": [
    "-(3**8/2**11-3**7/2**9) / (3/5.)**3"
   ]
  },
  {
   "cell_type": "markdown",
   "id": "bacd30c6-ca85-4dae-ba27-f02145c1549e",
   "metadata": {},
   "source": [
    "$$P_{S,max} = 4.94 \\frac{c_s^8}{\\pi G^3 M^2} $$"
   ]
  },
  {
   "cell_type": "code",
   "execution_count": 122,
   "id": "96d3e5af-17ee-4b4d-9298-8988ea29dcb1",
   "metadata": {},
   "outputs": [
    {
     "data": {
      "text/plain": [
       "1.573675584770938"
      ]
     },
     "execution_count": 122,
     "metadata": {},
     "output_type": "execute_result"
    }
   ],
   "source": [
    "psmax_scale = -(3**8/2**11-3**7/2**9) / (3/5.)**3 / np.pi\n",
    "psmax_scale"
   ]
  },
  {
   "cell_type": "markdown",
   "id": "9ab0bdd5-384e-486d-852e-3186045aa692",
   "metadata": {},
   "source": [
    "$$P_{S,max} = 1.574 \\frac{c_s^8}{G^3 M^2} $$"
   ]
  },
  {
   "cell_type": "markdown",
   "id": "bfc8b2b7-4633-453a-836e-4a06a5d0bc70",
   "metadata": {},
   "source": [
    "# Part 3: Density Structure\n",
    "\n",
    "Now we will compute the true density structure. Consider first the equation of hydrostatic balance,\n",
    "$$-\\frac{1}{\\rho}\\frac{d}{dr} P = \\frac{d}{dr} \\phi$$\n",
    "where $P = \\rho c_s^2$ is the pressure and $\\phi$ is the gravitational\n",
    "potential. Let $\\rho_c$ be the density at $r=0$, and choose a solution such that\n",
    "$\\phi = 0$ at $r=0$. Integrate the equation of hydrostatic balance to obtain an\n",
    "expression relating $\\rho$, $\\rho_c$, and $\\phi$.\n",
    "\n",
    "(recall: $\\frac{d }{dx}\\left(\\ln y(x)\\right) = \\frac{1}{y} \\frac{d y}{dx}$)\n",
    "\n"
   ]
  },
  {
   "cell_type": "markdown",
   "id": "108a18a1-a76d-44f9-b374-0f9d9129ecfc",
   "metadata": {},
   "source": [
    "$$P = \\rho c_s^2$$\n",
    "$$-\\frac{1}{\\rho} \\frac{d}{dr} \\rho c_s^2 = \\frac{d}{dr}\\phi$$"
   ]
  },
  {
   "cell_type": "markdown",
   "id": "e0712541-ded2-4363-b797-c344832c9d4d",
   "metadata": {},
   "source": [
    "$$-c_s^2 \\frac{d}{dr} \\ln \\rho = \\frac{d}{dr}\\phi$$"
   ]
  },
  {
   "cell_type": "markdown",
   "id": "fa66262a-b269-45a3-a8ed-f21ffff59574",
   "metadata": {},
   "source": [
    "$$-c_s^2 \\ln \\rho = \\phi + C$$\n",
    "$$\\rho = e^{-\\phi/c_s^2+C} = C e^{-\\phi/c_s^2}$$"
   ]
  },
  {
   "cell_type": "markdown",
   "id": "e5c9b238-a0ec-4b48-8865-bbe2c909503b",
   "metadata": {},
   "source": [
    "$$\\rho(r=0) = C e^{0} = \\rho_c$$\n",
    "$$C = \\rho_c $$"
   ]
  },
  {
   "cell_type": "markdown",
   "id": "7a348884-debf-4d81-bce4-c4b9f6589165",
   "metadata": {},
   "source": [
    "$$\\rho =  \\rho_c e^{-\\phi/c_s^2}$$"
   ]
  },
  {
   "cell_type": "markdown",
   "id": "f7a86170-c817-4ef1-855f-afa904cf5345",
   "metadata": {},
   "source": [
    "# Part 4: Poisson equation - derive nondimensional isothermal Lane-Emden Equation\n",
    "\n",
    "Now consider the Poisson equation for the potential,\n",
    "$$\\frac{1}{r^2}\\frac{d}{dr}\\left(r^2 \\frac{d\\phi}{dr}\\right) = 4 \\pi G \\rho$$\n",
    "Use your result from the previous part to eliminate $\\rho$, and define $\\psi \\equiv \\phi/c_s^2$. Show that the resulting equation can be non-dimensionalized to give the isothermal Lane-Emden equation:\n",
    "$$\\frac{1}{\\xi^2}\\frac{d}{d\\xi}\\left(\\xi^2 \\frac{d\\psi}{d\\xi}\\right) = e^{-\\psi}.\n",
    "$$\n",
    "where $\\xi = r/r_0$. What value of $r_0$ is required to obtain this equation?\n",
    "\n"
   ]
  },
  {
   "cell_type": "markdown",
   "id": "f2bcec14-3117-4f3c-a856-4e3c77b95280",
   "metadata": {},
   "source": [
    "#### Substitute  $\\xi = r/r_0$\n",
    "into\n",
    "$$\\frac{1}{\\xi^2}\\frac{d}{d\\xi}\\left(\\xi^2 \\frac{d\\psi}{d\\xi}\\right) = e^{-\\psi}$$"
   ]
  },
  {
   "cell_type": "markdown",
   "id": "4e1c33cb-0490-44ec-a68b-ab6015aa82cf",
   "metadata": {},
   "source": [
    "$$\\frac{r_0^2}{r^2}\\frac{r_0 d}{dr}\\left(\\left(\\frac{r}{r_0}\\right)^2 \\frac{r_0 d\\psi}{dr}\\right) = e^{-\\psi}$$"
   ]
  },
  {
   "cell_type": "markdown",
   "id": "d18e1616-9715-459c-944b-30fb4ad7e06c",
   "metadata": {},
   "source": [
    "$$r_0^2 \\frac{1}{r^2}\\frac{d}{dr}\\left(r^2 \\frac{d\\psi}{dr}\\right) = e^{-\\psi}$$"
   ]
  },
  {
   "cell_type": "markdown",
   "id": "db949539-6253-4530-bbe1-aeda1ff7d8a3",
   "metadata": {},
   "source": [
    "substitute $\\psi = \\frac{\\phi}{c_s^2}$\n",
    "$$\\frac{r_0^2}{c_s^2} \\frac{1}{r^2}\\frac{d}{dr}\\left(r^2 \\frac{d\\phi}{dr}\\right) = e^{-\\phi/c_s^2}$$"
   ]
  },
  {
   "cell_type": "markdown",
   "id": "f39ce214-014e-438c-b92e-e71fc55353d6",
   "metadata": {},
   "source": [
    "substitute $\\rho =  \\rho_c e^{-\\phi/c_s^2}$\n",
    "$$\\frac{r_0^2}{c_s^2} \\frac{1}{r^2}\\frac{d}{dr}\\left(r^2 \\frac{d\\phi}{dr}\\right) = \\frac{\\rho}{\\rho_c}$$"
   ]
  },
  {
   "cell_type": "markdown",
   "id": "ef59ae7a-0168-4814-94e1-a8d530541529",
   "metadata": {},
   "source": [
    "Rearrange\n",
    "$$ \\frac{1}{r^2}\\frac{d}{dr}\\left(r^2 \\frac{d\\phi}{dr}\\right) =\\frac{c_s^2}{r_0^2} \\frac{\\rho}{\\rho_c}$$"
   ]
  },
  {
   "cell_type": "markdown",
   "id": "354bbf16-fbeb-44b1-9c31-cfdc77049609",
   "metadata": {},
   "source": [
    "By symmetry, then, we have\n",
    "\n",
    "$$ \\frac{c_s^2}{\\rho_c r_0^2} = 4 \\pi G$$"
   ]
  },
  {
   "cell_type": "markdown",
   "id": "a647e3a9-c3a6-4ec2-8c96-34e707bc2b1a",
   "metadata": {},
   "source": [
    "which rearranges to\n",
    "$$ r_0 = \\sqrt{\\frac{c_s^2}{\\rho_c 4 \\pi G}}$$"
   ]
  },
  {
   "cell_type": "markdown",
   "id": "d43644d4-1d5d-42da-a4a9-8b688f8aa55c",
   "metadata": {},
   "source": [
    "# Part 5: Numerical Integration"
   ]
  },
  {
   "cell_type": "markdown",
   "id": "f3d1efe1-d554-46ea-bdf7-d517c4d3e413",
   "metadata": {},
   "source": [
    "$$\\frac{1}{r^2} \\frac{d}{dr} \\left(r^2 \\frac{d \\psi}{dr}\\right) = e^{-\\psi}$$"
   ]
  },
  {
   "cell_type": "markdown",
   "id": "4da9d300-5e04-4703-b549-fc9050c05ec3",
   "metadata": {},
   "source": [
    "Eqn 1:\n",
    "\n",
    "$$ \\psi ' = \\frac{d\\psi}{dr} $$\n",
    "$$\\frac{d \\psi '}{dr} = -2\\frac{\\psi '}{r} + e^{-\\psi}$$"
   ]
  },
  {
   "cell_type": "markdown",
   "id": "36e159ee-312b-414d-bafb-4cfd53396c7c",
   "metadata": {},
   "source": [
    "Boundary conditions:  $\\psi = 0$, $\\frac{d\\psi}{dr} = 0$ at $r=0$"
   ]
  },
  {
   "cell_type": "markdown",
   "id": "2ea466f1-a08d-493b-a3a5-65ad63a19367",
   "metadata": {},
   "source": [
    "$$\\psi = a_0 + a_1 z + a_2 z^2 + a_3 z^3 + ...$$ near $r=0$\n",
    "\n",
    "We get $a_0=0$ and $a_1=0$ from the boundary conditions $\\phi(0)=\\phi'(0)=0$"
   ]
  },
  {
   "cell_type": "markdown",
   "id": "7e9a28f0-a0e9-48fe-84da-fcd8f2498b15",
   "metadata": {},
   "source": [
    "Near $r=$ zero, then:\n",
    "    \n",
    "$$\\frac{d\\psi}{dr} = 2 a_2 r + 3 a_3 r^2$$\n",
    "$$\\frac{d^2\\psi}{dr^2} = 2 a_2 + 6 a_3 r$$\n"
   ]
  },
  {
   "cell_type": "markdown",
   "id": "5207d306-a719-42e1-94f5-78a06c972f2c",
   "metadata": {},
   "source": [
    "$$\\frac{1}{r^2} \\frac{d}{dr}\\left(r^2 (2 a_2 r + 3 a_3 r^2) \\right) = e^{\\psi}$$"
   ]
  },
  {
   "cell_type": "markdown",
   "id": "6d8e37e8-ba42-400a-ae97-7cac2d0d3ca8",
   "metadata": {},
   "source": [
    "$$\\frac{1}{r^2} \\frac{d}{dr}\\left( 2 a_2 r^3 + 3 a_3 r^4 \\right) = e^{\\psi}$$"
   ]
  },
  {
   "cell_type": "markdown",
   "id": "23d2184d-611f-4077-929b-4a3d031f4b71",
   "metadata": {},
   "source": [
    "$$\\frac{1}{r^2} \\left(6 a_2 r^2 + 12 a_3 r^3 \\right) = e^{\\psi}$$"
   ]
  },
  {
   "cell_type": "markdown",
   "id": "5a18db91-9171-40cd-9bbe-c94e81edbe24",
   "metadata": {},
   "source": [
    "$$ \\left(6 a_2 + 12 a_3 r \\right) = e^{\\psi} = 1 $$"
   ]
  },
  {
   "cell_type": "markdown",
   "id": "f214f4f2-9495-40e9-92b8-35df8580e210",
   "metadata": {},
   "source": [
    "using $r=0$:\n",
    "$$ 6 a_2  = 1 $$ so $$a_2 = 1/6$$"
   ]
  },
  {
   "cell_type": "markdown",
   "id": "3efc78eb-c9d1-4666-9864-bc6b55dba259",
   "metadata": {},
   "source": [
    "plugging in a_2, we get\n",
    "$$ \\left(1 + 12 a_3 r \\right)  = 1 $$\n",
    "$$ a_3 r = 0 $$\n",
    "which I guess gives us $a_3=0$?"
   ]
  },
  {
   "cell_type": "markdown",
   "id": "06637206-352e-43dc-967a-c05188ad66ff",
   "metadata": {},
   "source": [
    "Our boundary condition for $\\psi'$ gives\n",
    "$\\psi'(x) = 2 a_2 x = x / 3$\n",
    "\n",
    "For $\\psi$, we get $\\psi(x) = a_2 x^2 = x^2 / 6$"
   ]
  },
  {
   "cell_type": "code",
   "execution_count": 123,
   "id": "ee5e5944-9785-4f58-9271-d767a030ffd6",
   "metadata": {},
   "outputs": [
    {
     "data": {
      "text/plain": [
       "(True, 'The solver successfully reached the end of the integration interval.')"
      ]
     },
     "execution_count": 123,
     "metadata": {},
     "output_type": "execute_result"
    }
   ],
   "source": [
    "def derivatives(x, y):\n",
    "    # y[0] = psi\n",
    "    # y[1] = psi'\n",
    "    return [y[1], -2*y[1]/x + np.exp(-y[0])]\n",
    "\n",
    "integral_start = 0.000001\n",
    "integral_stop = 25\n",
    "psi0 = integral_start**2 / 6\n",
    "psiprime0 = integral_start / 3\n",
    "\n",
    "sol = solve_ivp(derivatives,\n",
    "                t_span=(integral_start, integral_stop),\n",
    "                y0=[psi0, psiprime0],\n",
    "                t_eval=np.linspace(integral_start, integral_stop, 100),\n",
    "               )\n",
    "sol.success, sol.message"
   ]
  },
  {
   "cell_type": "code",
   "execution_count": 124,
   "id": "cf0e08c3-bcc3-49a2-83bf-6fe54a0ebd0a",
   "metadata": {},
   "outputs": [],
   "source": [
    "def contrast(psi):\n",
    "    return np.exp(-psi)"
   ]
  },
  {
   "cell_type": "code",
   "execution_count": 125,
   "id": "d348ab66-ff13-4589-87c7-40f11a76dc83",
   "metadata": {},
   "outputs": [
    {
     "data": {
      "text/plain": [
       "<matplotlib.legend.Legend at 0x7fbd03605ee0>"
      ]
     },
     "execution_count": 125,
     "metadata": {},
     "output_type": "execute_result"
    },
    {
     "data": {
      "image/png": "[encoded data removed]",
      "text/plain": [
       "<Figure size 432x288 with 1 Axes>"
      ]
     },
     "metadata": {},
     "output_type": "display_data"
    }
   ],
   "source": [
    "pl.plot(sol.t, sol.y[0], label='$\\psi$')\n",
    "pl.plot(sol.t, contrast(sol.y[0]), label='$\\\\rho/\\\\rho_c$')\n",
    "pl.legend(loc='best')"
   ]
  },
  {
   "cell_type": "markdown",
   "id": "20401987-0189-4ce4-98a3-3917facb9af4",
   "metadata": {},
   "source": [
    "# Part 6: Enclosed Mass\n",
    "\n",
    "The total mass enclosed out to a radius $R$ is\n",
    "$$\n",
    "M = 4\\pi \\int_0^R \\rho r^2 \\, dr.\n",
    "$$\n",
    "Show that this is equivalent to\n",
    "$$\n",
    "M =\\frac{c_s^4}{\\sqrt{4\\pi G^3 P_s}} \\left(e^{-\\psi/2}\\xi^2 \\frac{d\\psi}{d\\xi}\\right)_{\\xi_s},\n",
    "$$\n",
    "where\n",
    "$$\\xi_s \\equiv \\frac{R}{r_0} $$\n",
    "$$P_s \\equiv  \\rho_s c_s^2$$\n",
    "\n",
    "$P_s$ is the pressure at the surface, and the pressure contrast is the same as the density contrast $$\\frac{P}{P_c} = \\frac{\\rho}{\\rho_c} = e^\\psi$$\n",
    "Hint: to evaluate the integral, it is helpful to use the isothermal Lane-Emden equation to substitute.\n",
    "\n"
   ]
  },
  {
   "cell_type": "markdown",
   "id": "acd10078-174b-4c9b-b2ab-4917847e5267",
   "metadata": {},
   "source": [
    "False start:\n",
    "\n",
    "Start with \n",
    "\n",
    "$$\\frac{1}{r^2}\\frac{d}{dr}\\left(r^2 \\frac{d\\phi}{dr}\\right) = 4 \\pi G \\rho$$\n",
    "$$\\rho = \\frac{1}{4\\pi G}\\frac{1}{r^2}\\frac{d}{dr}\\left(r^2 \\frac{d\\phi}{dr}\\right) $$\n",
    "\n"
   ]
  },
  {
   "cell_type": "markdown",
   "id": "eca6aeb9-cdb8-4120-a87e-3ebd526a190c",
   "metadata": {},
   "source": [
    "$$M = 4\\pi \\int_0^R \\rho r^2 \\, dr$$\n",
    "$$M = 4\\pi \\int_0^R \\frac{1}{4\\pi G}\\frac{1}{r^2}\\frac{d}{dr}\\left(r^2 \\frac{d\\phi}{dr}\\right) r^2 \\, dr$$"
   ]
  },
  {
   "cell_type": "markdown",
   "id": "fbbb65c2-338c-45bf-ae6e-ad26ca2a59ad",
   "metadata": {},
   "source": [
    "$$M = \\frac{1}{G} \\int_0^R   \\frac{d}{dr}\\left(r^2 \\frac{d\\phi}{dr}\\right)  \\, dr$$"
   ]
  },
  {
   "cell_type": "markdown",
   "id": "24d78cd6-5a64-430c-9713-631881f60e77",
   "metadata": {},
   "source": [
    "$$M = \\frac{1}{G} \\left(r^2 \\frac{d\\phi}{dr}\\right)_0^R$$"
   ]
  },
  {
   "cell_type": "markdown",
   "id": "e30285ee-cccf-4e29-9eea-ac8179701d8e",
   "metadata": {},
   "source": [
    "$$M = \\frac{1}{G} \\left(r^2 \\frac{d\\phi}{dr}\\right)_0^R$$"
   ]
  },
  {
   "cell_type": "markdown",
   "id": "49bd648e-5e0a-4743-8244-456ea882f8ab",
   "metadata": {},
   "source": [
    "Alternatively,\n",
    "\n",
    "$$\\frac{1}{\\xi^2}\\frac{d}{d\\xi}\\left(\\xi^2 \\frac{d\\psi}{d\\xi}\\right) = e^{-\\psi} = e^{-\\phi/c_s^2} = \\rho/\\rho_c$$"
   ]
  },
  {
   "cell_type": "markdown",
   "id": "f0fd1127-992c-4135-b7a6-8de7182a5336",
   "metadata": {},
   "source": [
    "$$M = 4\\pi \\int_0^R \\rho_c \\frac{1}{\\xi^2}\\frac{d}{d\\xi}\\left(\\xi^2 \\frac{d\\psi}{d\\xi}\\right) r^2 \\, dr$$\n"
   ]
  },
  {
   "cell_type": "markdown",
   "id": "8c34d6d5-9af3-4170-8350-5e3c3910dbcb",
   "metadata": {},
   "source": [
    "$$M = 4\\pi \\int_0^{\\xi_S} \\rho_c \\frac{1}{\\xi^2}\\frac{d}{d\\xi}\\left(\\xi^2 \\frac{d\\psi}{d\\xi}\\right) (r_0 \\xi)^2 \\, d(r_0 \\xi)$$\n"
   ]
  },
  {
   "cell_type": "markdown",
   "id": "001c8bf8-5efb-4c4c-8506-2500b2ca9b2a",
   "metadata": {},
   "source": [
    "$$M = 4\\pi r_0^3 \\rho_c \\int_0^{\\xi_S}  \\frac{1}{\\xi^2}\\frac{d}{d\\xi}\\left(\\xi^2 \\frac{d\\psi}{d\\xi}\\right) \\xi^2 \\, d\\xi$$\n"
   ]
  },
  {
   "cell_type": "markdown",
   "id": "10c70351-0dc3-40e8-a620-1807f83232eb",
   "metadata": {},
   "source": [
    "$$M = 4\\pi r_0^3 \\rho_c \\int_0^{\\xi_S} \\frac{d}{d\\xi}\\left(\\xi^2 \\frac{d\\psi}{d\\xi}\\right) \\, d\\xi$$\n"
   ]
  },
  {
   "cell_type": "markdown",
   "id": "a4011293-b857-4ae6-8130-deb58cde7aef",
   "metadata": {},
   "source": [
    "$$M = 4\\pi r_0^3 \\rho_c \\left(\\xi^2 \\frac{d\\psi}{d\\xi}\\right)_0^{\\xi_S} $$\n"
   ]
  },
  {
   "cell_type": "markdown",
   "id": "662f3be8-7134-4cac-99a7-7ab0db789230",
   "metadata": {},
   "source": [
    "$$ r_0 = \\sqrt{\\frac{c_s^2}{\\rho_c 4 \\pi G}}$$"
   ]
  },
  {
   "cell_type": "markdown",
   "id": "1b8d061f-24fa-40f7-9ca7-1f4e78567b1a",
   "metadata": {},
   "source": [
    "$$M = 4\\pi \\frac{c_s^3}{(4 \\pi G \\rho_c)^{3/2}} \\rho_c \\left(\\xi^2 \\frac{d\\psi}{d\\xi}\\right)_0^{\\xi_S} $$\n"
   ]
  },
  {
   "cell_type": "markdown",
   "id": "43694fc2-93b2-49cc-b773-7b682597549b",
   "metadata": {},
   "source": [
    "$$M = \\frac{c_s^3}{(4 \\pi \\rho_c G^3 )^{1/2}} \\left(\\xi^2 \\frac{d\\psi}{d\\xi}\\right)_0^{\\xi_S} $$\n"
   ]
  },
  {
   "cell_type": "markdown",
   "id": "c1d9a9e5-d3aa-4024-9a79-addaf4f6be17",
   "metadata": {},
   "source": [
    "$\\rho_S = \\rho_c e^{-\\psi}$ evaluated at the surface\n",
    "$$P_S=\\rho_S c_s^2 = \\rho_c c_s^2 e^{-\\psi}$$\n",
    "$$\\rho_c = P_S c_s^{-2} e^\\psi$$"
   ]
  },
  {
   "cell_type": "markdown",
   "id": "4881b2a6-9ecd-45d7-a914-defca4892c20",
   "metadata": {},
   "source": [
    "$$M = \\frac{c_s^3}{(4 \\pi  P_S c_s^{-2} e^\\psi G^3 )^{1/2}} \\left(\\xi^2 \\frac{d\\psi}{d\\xi}\\right)_0^{\\xi_S} $$\n"
   ]
  },
  {
   "cell_type": "markdown",
   "id": "94334ea9-bfce-442d-a133-903b5d52aedd",
   "metadata": {},
   "source": [
    "$$M = \\frac{c_s^4}{(4 \\pi  P_S  G^3 )^{1/2}} \\left( e^{-\\psi/2} \\xi^2 \\frac{d\\psi}{d\\xi}\\right)_0^{\\xi_S} $$\n"
   ]
  },
  {
   "cell_type": "markdown",
   "id": "dcf3b46f-9780-466e-bb3a-577e840db4a8",
   "metadata": {},
   "source": [
    "# Part 7: Dimensionless Mass\n",
    "Plot the dimensionless mass $m = M/(c_s^4/\\sqrt{G^3 P_s})$ versus the dimensionless density contrast $\\rho_c/\\rho_s=e^{-\\psi_s}$, where $\\psi_s$ is the value of $\\psi$ at $\\xi=\\xi_s$. You will see that $m$ reaches a finite maximum value $m_{\\mathrm{max}}$ at a particular value of $\\rho_c/\\rho_s$. Numerically determine $m_{\\mathrm{max}}$, along with the density contrast $\\rho_c/\\rho_s$ at which it occurs.\n"
   ]
  },
  {
   "cell_type": "markdown",
   "id": "3e61b9c4-4bb7-4d48-9903-fe5560c9749a",
   "metadata": {},
   "source": [
    "$m = M/(c_s^4/\\sqrt{G^3 P_s})$ versus the dimensionless density contrast $\\rho_c/\\rho_s=e^{-\\psi_s}$"
   ]
  },
  {
   "cell_type": "code",
   "execution_count": 126,
   "id": "d31b43d5-1a96-42d2-8f07-f0ba90c70dbf",
   "metadata": {},
   "outputs": [],
   "source": [
    "def mass(z, psi, psiprime):\n",
    "    return 1/(4*np.pi)**0.5 * np.exp(-psi/2) * z**2 * psiprime"
   ]
  },
  {
   "cell_type": "markdown",
   "id": "b640a83f-b538-4064-9c96-f410441f1705",
   "metadata": {},
   "source": [
    "We use inverse contrast here because the contrast is defined as \n",
    "\n",
    "$\\frac{\\rho}{\\rho_c} = e^\\psi$\n",
    "\n",
    "but we're now asing for the inverse density contrast\n",
    "\n",
    "$\\frac{\\rho_c}{\\rho_S} = e^{-\\psi}$"
   ]
  },
  {
   "cell_type": "code",
   "execution_count": 127,
   "id": "9a9c430b-5792-41c1-a379-4b437a20b696",
   "metadata": {},
   "outputs": [
    {
     "data": {
      "text/plain": [
       "[<matplotlib.lines.Line2D at 0x7fbd0362c0a0>]"
      ]
     },
     "execution_count": 127,
     "metadata": {},
     "output_type": "execute_result"
    },
    {
     "data": {
      "image/png": "[encoded data removed]",
      "text/plain": [
       "<Figure size 432x288 with 1 Axes>"
      ]
     },
     "metadata": {},
     "output_type": "display_data"
    }
   ],
   "source": [
    "pl.semilogx(contrast(sol.y[0])**-1,\n",
    "            mass(sol.t, sol.y[0], sol.y[1]))"
   ]
  },
  {
   "cell_type": "code",
   "execution_count": 128,
   "id": "652f3476-41e0-4105-8a91-91cd0e2b91cf",
   "metadata": {},
   "outputs": [
    {
     "name": "stdout",
     "output_type": "stream",
     "text": [
      "M_max = 1.1821156611725328\n",
      "max contrast: 14.646879149944354\n"
     ]
    }
   ],
   "source": [
    "maxmass=mass(sol.t, sol.y[0], sol.y[1]).max()\n",
    "print(f\"M_max = {maxmass}\")\n",
    "maxcontrast = contrast(sol.y[0])[np.argmax(mass(sol.t, sol.y[0], sol.y[1]))]**-1\n",
    "print(f\"max contrast: {maxcontrast}\")"
   ]
  },
  {
   "cell_type": "markdown",
   "id": "9c6cc0cf-ce99-4475-bf76-9a4fd7684216",
   "metadata": {
    "tags": []
   },
   "source": [
    "# Part 8: Pressure for max mass\n",
    "\n",
    "The existence of a finite maximum $m$ implies that, for a given dimensional mass $M$, there is a maximum surface pressure $P_s$ at which a cloud of that mass can be in hydrostatic equilibrium. Solve for this maximum, and compare your result to the result you obtained in part (a).\n"
   ]
  },
  {
   "cell_type": "markdown",
   "id": "77587a6e-25b9-458f-80be-ecaf1607475d",
   "metadata": {},
   "source": [
    "$m = M/(c_s^4/\\sqrt{G^3 P_{S,max,BE}})$"
   ]
  },
  {
   "cell_type": "markdown",
   "id": "c23f9622-34f3-4b3d-8ff6-8647681ba9a9",
   "metadata": {},
   "source": [
    "$$\\frac{M}{m} = \\frac{c_s^4}{\\sqrt{G^3 P_{S,max,BE}}}$$"
   ]
  },
  {
   "cell_type": "markdown",
   "id": "7b150726-108c-4ec8-9dcd-ee86e31dc092",
   "metadata": {},
   "source": [
    "$$P_{S,max,BE} = \\left(\\frac{m}{M}\\right)^2 c_s^8 G^{-3} = \\frac{m^2 c_s^8}{G^3 M^2}$$ "
   ]
  },
  {
   "cell_type": "markdown",
   "id": "c0f86f4a-2817-4a3c-8ffa-a91a6855ba2f",
   "metadata": {},
   "source": [
    "$$P_{S,max,sphere} = \\left(\\frac{3^7}{2^9} - \\frac{3^8}{2^{11}}\\right) \\frac{c_s^8}{\\pi a^3 G^3 M^2}\n",
    " = 1.574 \\frac{c_s^8}{G^3 M^2} $$"
   ]
  },
  {
   "cell_type": "markdown",
   "id": "40d9e1b6-2a02-4343-a1c4-2ded76488842",
   "metadata": {},
   "source": [
    "$$P_{S,max,sphere} = \\frac{1.574 }{m^2} P_{S,max,BE}$$"
   ]
  },
  {
   "cell_type": "code",
   "execution_count": 129,
   "id": "cc02487b-a1e6-4316-9fcb-201e937ee862",
   "metadata": {},
   "outputs": [
    {
     "data": {
      "text/plain": [
       "1.3973974363893742"
      ]
     },
     "execution_count": 129,
     "metadata": {},
     "output_type": "execute_result"
    }
   ],
   "source": [
    "maxmass**2"
   ]
  },
  {
   "cell_type": "markdown",
   "id": "206fced8-540c-468e-8fe8-fcc2d7d51702",
   "metadata": {},
   "source": [
    "$$P_{S,max,BE} = 1.397 \\frac{c_s^8}{G^3 M^2}$$ "
   ]
  },
  {
   "cell_type": "code",
   "execution_count": 130,
   "id": "421748de-10a8-47ed-8cea-f92b9137c14f",
   "metadata": {},
   "outputs": [
    {
     "data": {
      "text/plain": [
       "1.1261474679938122"
      ]
     },
     "execution_count": 130,
     "metadata": {},
     "output_type": "execute_result"
    }
   ],
   "source": [
    "ratio_psmax_BE_to_sphere = psmax_scale / maxmass**2\n",
    "ratio_psmax_BE_to_sphere "
   ]
  },
  {
   "cell_type": "markdown",
   "id": "1b027020-b717-4966-a35a-f0c97380efa4",
   "metadata": {},
   "source": [
    "$$P_{S,max,sph} = 1.126 P_{S,max,BE}$$"
   ]
  },
  {
   "cell_type": "markdown",
   "id": "53e63501-8d53-4df9-bf0c-d39cd069530d",
   "metadata": {},
   "source": [
    "# Part 9: BE Mass\n",
    "\n",
    "Conversely, for a given surface pressure $P_s$ and sound speed $c_s$ there exists a maximum mass at which the cloud can be in hydrostatic equilibrium, called the Bonnor-Ebert mass $M_{\\mathrm{BE}}$. Obtain an expression for $M_{\\mathrm{BE}}$ in terms of $P_s$ and $c_s$. In a typical low-mass star-forming region, the surface pressure on a core might be $P_{\\mathrm{s}}/k_{\\rm B} = 3\\times 10^5$ K cm$^{-3}$. Compute this mass for a core with a temperature of 10 K, assuming the standard mean molecular weight $\\mu=2.3$.\n"
   ]
  },
  {
   "cell_type": "markdown",
   "id": "f7b2c06a-7a06-45a6-8a64-b1e9bd204ed5",
   "metadata": {},
   "source": [
    "$$M = m \\frac{c_s^4}{\\sqrt{G^3 P_{S,max,BE}}}$$"
   ]
  },
  {
   "cell_type": "code",
   "execution_count": 131,
   "id": "e7e12950-1103-4c7b-b04c-307e06b1afa6",
   "metadata": {},
   "outputs": [
    {
     "data": {
      "text/plain": [
       "1.1821156611725328"
      ]
     },
     "execution_count": 131,
     "metadata": {},
     "output_type": "execute_result"
    }
   ],
   "source": [
    "maxmass"
   ]
  },
  {
   "cell_type": "markdown",
   "id": "3fd571e6-b194-4516-99c3-9ab5fe4a6fd4",
   "metadata": {},
   "source": [
    "$$M = 1.18 \\frac{c_s^4}{\\sqrt{G^3 P_{S,max,BE}}}$$"
   ]
  },
  {
   "cell_type": "markdown",
   "id": "f55edfc6-2caf-4fc8-871e-754287476fdc",
   "metadata": {},
   "source": [
    "$$c_s = \\sqrt{ \\frac{k_B T}{m_{H_2}} }$$"
   ]
  },
  {
   "cell_type": "markdown",
   "id": "e8e34fac-9b61-428b-89c4-3376e6372ef7",
   "metadata": {},
   "source": [
    "$$M = 1.18 \\frac{k_B^2 T^2}{m_{H_2}^2\\sqrt{G^3 P_{S,max,BE}}}$$"
   ]
  },
  {
   "cell_type": "markdown",
   "id": "dce2d742-420f-41e2-b444-5a86c3001c0d",
   "metadata": {},
   "source": [
    "$T=10$ K\n",
    "\n",
    "$P = 3\\times10^5 K k_B$\n",
    "\n",
    "$k_B = 1.38e-16$\n",
    "\n",
    "$$M = 1.18 \\frac{k_B^2 T^2}{m_{H_2}^2\\sqrt{G^3 P_{S,max,BE}}}$$"
   ]
  },
  {
   "cell_type": "markdown",
   "id": "47024b8d-a279-4113-8345-48f27023ffad",
   "metadata": {},
   "source": [
    "$G = 6.67e-8$"
   ]
  },
  {
   "cell_type": "code",
   "execution_count": 132,
   "id": "d66f53bd-fd2d-43f9-841e-11aa6c327996",
   "metadata": {},
   "outputs": [],
   "source": [
    "from astropy import units as u, constants"
   ]
  },
  {
   "cell_type": "code",
   "execution_count": 133,
   "id": "6d600116-354a-4357-80cf-764229d447c2",
   "metadata": {},
   "outputs": [
    {
     "data": {
      "text/latex": [
       "$6.6743 \\times 10^{-8} \\; \\mathrm{\\frac{cm^{3}}{g\\,s^{2}}}$"
      ],
      "text/plain": [
       "<Quantity 6.6743e-08 cm3 / (g s2)>"
      ]
     },
     "execution_count": 133,
     "metadata": {},
     "output_type": "execute_result"
    }
   ],
   "source": [
    "constants.G.cgs"
   ]
  },
  {
   "cell_type": "code",
   "execution_count": 134,
   "id": "215ce8a5-1d95-4e56-b9aa-a62aef76cd0a",
   "metadata": {},
   "outputs": [
    {
     "data": {
      "text/latex": [
       "$0.6988403 \\; \\mathrm{M_{\\odot}}$"
      ],
      "text/plain": [
       "<Quantity 0.6988403 solMass>"
      ]
     },
     "execution_count": 134,
     "metadata": {},
     "output_type": "execute_result"
    }
   ],
   "source": [
    "M_BE = 1.18 * (constants.k_B * 10*u.K)**2 / (2.3*u.Da)**2 / (constants.G.cgs**(3./2.)) / (3e5*u.K * constants.k_B * u.cm**-3)**0.5\n",
    "M_BE.to(u.M_sun)"
   ]
  },
  {
   "cell_type": "code",
   "execution_count": 135,
   "id": "84b4ab43-09a3-4343-babc-a75d47914a07",
   "metadata": {},
   "outputs": [
    {
     "data": {
      "text/plain": [
       "0.6871200932612178"
      ]
     },
     "execution_count": 135,
     "metadata": {},
     "output_type": "execute_result"
    }
   ],
   "source": [
    "M_BE = 1.18 * (1.38e-16 * 10)**2 / (2.3 * 1.67e-24)**2 / (6.67e-8)**(3/2) / (3e5 * 1.38e-16)**0.5\n",
    "M_BE / 2e33"
   ]
  },
  {
   "cell_type": "markdown",
   "id": "4674c4d6-c053-4572-83f2-98493e9fdcf6",
   "metadata": {},
   "source": [
    "Consider instead a high-pressure environment like the Central Molecular Zone or a high-redshift galaxy.\n",
    "\n",
    "In such environments, the pressure is $P_S\\sim10^7$ K cm$^{-3}$ k$_B$ and temperature $T\\sim50$K"
   ]
  },
  {
   "cell_type": "code",
   "execution_count": 136,
   "id": "f5078c5d-ad09-46ad-8824-034bd067e9ee",
   "metadata": {},
   "outputs": [
    {
     "data": {
      "text/latex": [
       "$3.0260673 \\; \\mathrm{M_{\\odot}}$"
      ],
      "text/plain": [
       "<Quantity 3.02606726 solMass>"
      ]
     },
     "execution_count": 136,
     "metadata": {},
     "output_type": "execute_result"
    }
   ],
   "source": [
    "M_BE = 1.18 * (constants.k_B * 50*u.K)**2 / (2.3*u.Da)**2 / (constants.G.cgs**(3./2.)) / (1e7*u.K * constants.k_B * u.cm**-3)**0.5\n",
    "M_BE.to(u.M_sun)"
   ]
  },
  {
   "cell_type": "code",
   "execution_count": null,
   "id": "b8d70334-b5dc-47f3-a5e1-71acabd17a3a",
   "metadata": {},
   "outputs": [],
   "source": []
  }
 ],
 "metadata": {
  "kernelspec": {
   "display_name": "Python 3.9",
   "language": "python",
   "name": "py39"
  },
  "language_info": {
   "codemirror_mode": {
    "name": "ipython",
    "version": 3
   },
   "file_extension": ".py",
   "mimetype": "text/x-python",
   "name": "python",
   "nbconvert_exporter": "python",
   "pygments_lexer": "ipython3",
   "version": "3.9.6"
  }
 },
 "nbformat": 4,
 "nbformat_minor": 5
}
