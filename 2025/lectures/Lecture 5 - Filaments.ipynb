{
 "cells": [
  {
   "cell_type": "markdown",
   "id": "30fedd4b",
   "metadata": {
    "slideshow": {
     "slide_type": "slide"
    }
   },
   "source": [
    "## Filaments in star formation\n",
    "\n",
    "Filaments are high aspect ratio features seen in the interstellar medium."
   ]
  },
  {
   "cell_type": "markdown",
   "id": "4773fa05",
   "metadata": {
    "slideshow": {
     "slide_type": "fragment"
    }
   },
   "source": [
    "There are a lot of open questions about them.\n",
    "\n",
    "In 2025, we're just going to skim these slides - it is not clear whether filaments are important enough to delve into analytic treatments of them."
   ]
  },
  {
   "cell_type": "markdown",
   "id": "cb12e139",
   "metadata": {
    "slideshow": {
     "slide_type": "slide"
    }
   },
   "source": [
    "Andre et al ([Andre+ 2019](https://ui.adsabs.harvard.edu/#abs/2019A%26A...629L...4A/abstract)\n",
    "[Andre 2017](https://ui.adsabs.harvard.edu/#abs/2017CRGeo.349..187A/abstract)\n",
    "[Andre+ 2014 (PPVI)](https://ui.adsabs.harvard.edu/#abs/2014prpl.conf...27A/abstract)\n",
    "[Andre+ 2010](https://ui.adsabs.harvard.edu/#abs/2010A%26A...518L.102A/abstract), [Arzoumanian+ 2019](https://ui.adsabs.harvard.edu/#abs/2019A%26A...621A..42A/abstract), [Arzoumanian+ 2011](https://ui.adsabs.harvard.edu/#abs/2011A%26A...529L...6A/abstract), [Konyves+ 2015](https://ui.adsabs.harvard.edu/#abs/2015A%26A...584A..91K/abstract))\n",
    "observed filaments with Herschel and argue that filaments are the fundamental units of star formation."
   ]
  },
  {
   "cell_type": "markdown",
   "id": "7085609b",
   "metadata": {
    "slideshow": {
     "slide_type": "slide"
    }
   },
   "source": [
    "## What are filaments?\n",
    "\n",
    "<img style='max-width:50%; max-height: 80%' src=\"https://cdn.eso.org/images/large/eso1209a.jpg\">"
   ]
  },
  {
   "cell_type": "markdown",
   "id": "068f0db0",
   "metadata": {
    "slideshow": {
     "slide_type": "slide"
    }
   },
   "source": [
    "<img src=\"https://cdn.sci.esa.int/documents/33622/35366/1567216170334-ESA_Herschel_Taurus.jpg/78948326-acca-220e-4d7f-66f9c784ff8f?version=1.0&t=1567216174051\" style='max-width:70%'>"
   ]
  },
  {
   "cell_type": "markdown",
   "id": "bf6aeea0",
   "metadata": {
    "slideshow": {
     "slide_type": "slide"
    }
   },
   "source": [
    "<img style='max-height:80%' src=\"https://upload.wikimedia.org/wikipedia/commons/thumb/5/54/The_Pipe_Nebula.jpg/2880px-The_Pipe_Nebula.jpg\">"
   ]
  },
  {
   "cell_type": "markdown",
   "id": "83540bde",
   "metadata": {
    "slideshow": {
     "slide_type": "slide"
    }
   },
   "source": [
    "The <a href=\"https://ui.adsabs.harvard.edu/abs/2011A%26A...529L...6A/graphics\">Andre+ team argue</a> that filaments have a universal width:\n",
    "\n",
    "<!--<img src=\"https://s3.amazonaws.com/adsabs-thumbnails/seri/A%2BA/0529/aa16596-11/aa16596-11-fig3.jpg\">-->\n",
    "<img src=\"https://www.aanda.org/articles/aa/full_html/2011/05/aa16596-11/aa16596-11-fig3.jpg\">"
   ]
  },
  {
   "cell_type": "markdown",
   "id": "31b1f9d0",
   "metadata": {
    "slideshow": {
     "slide_type": "slide"
    }
   },
   "source": [
    "Filaments are identified with filament-finding algorithms like <a href=\"http://www2.iap.fr/users/sousbie/web/html/indexd41d.html\">DisPerSE</a> and <a href=\"https://github.com/e-koch/FilFinder\">FilFinder</a> (see [Chira+ 2018](https://ui.adsabs.harvard.edu/abs/2018A%26A...610A..62C/abstract) for a comparison)\n",
    "\n",
    "<img src=\"https://media.springernature.com/lw785/springer-static/image/prt%3A978-3-662-44185-5%2F10/MediaObjects/978-3-662-44185-5_10_Part_Fig2-5223_HTML.jpg\">"
   ]
  },
  {
   "cell_type": "markdown",
   "id": "df502d76",
   "metadata": {
    "slideshow": {
     "slide_type": "slide"
    }
   },
   "source": [
    "Then they measure widths by averaging the profile along the 'spine':\n",
    "\n",
    "<img src=https://www.aanda.org/articles/aa/full_html/2011/05/aa16596-11/aa16596-11-fig2.jpg>"
   ]
  },
  {
   "cell_type": "markdown",
   "id": "478e79ca",
   "metadata": {
    "slideshow": {
     "slide_type": "slide"
    }
   },
   "source": [
    "# Stability Analysis of an Isothermal Filament\n",
    "\n",
    "[Ostriker 1964](https://ui.adsabs.harvard.edu/abs/1964ApJ...140.1056O/abstract) calculated the infinite-cylinder equivalent of the Bonnor-Ebert mass for a cylinder, which is basically just the Bonnor-Ebert sphere problem done in cylindrical coordinates."
   ]
  },
  {
   "cell_type": "markdown",
   "id": "8e633c2f",
   "metadata": {
    "slideshow": {
     "slide_type": "slide"
    }
   },
   "source": [
    "Real filaments are not infinite;  [Burkert & Hartmann 2004](https://ui.adsabs.harvard.edu/abs/2004ApJ...616..288B/abstract) showed that truncated filaments tend to have their greatest instability (biggest core) at the ends."
   ]
  },
  {
   "cell_type": "markdown",
   "id": "d4c3cc72",
   "metadata": {
    "slideshow": {
     "slide_type": "slide"
    }
   },
   "source": [
    "Heigl & Burkert:\n",
    "\n",
    "<img src='graphics/filaments.png'>"
   ]
  },
  {
   "cell_type": "markdown",
   "id": "bfad9f0e",
   "metadata": {
    "slideshow": {
     "slide_type": "slide"
    }
   },
   "source": [
    "[Coughlin & Nixon 2020](https://ui.adsabs.harvard.edu/abs/2020ApJS..247...51C/abstract) showed that filaments have a gravitationally unstable mode along the long axis, which might dominate over the radial mode (no such asymmetry exists for spheres)\n",
    "\n",
    "(they were looking at the shredded remnants of stars in Tidal Disruption Events, but their math applies to star-forming filaments too)"
   ]
  },
  {
   "cell_type": "markdown",
   "id": "4b4b0ffc",
   "metadata": {
    "slideshow": {
     "slide_type": "slide"
    }
   },
   "source": [
    "## Stability Analysis\n",
    "\n",
    "From [Andre+](https://arxiv.org/pdf/1312.6232.pdf) PPVI review + Ostriker 1964\n",
    "\n",
    "Filaments can be studied with the same sort of stability analysis as spheres."
   ]
  },
  {
   "cell_type": "markdown",
   "id": "a87db049",
   "metadata": {
    "slideshow": {
     "slide_type": "slide"
    }
   },
   "source": [
    "In Cylindrical coordinates, an integral along the radius (so, ignoring the height) is:\n",
    "\n",
    "\\begin{equation}\n",
    "F(r) = \\int \\pi r f(r) dr\n",
    "\\end{equation}"
   ]
  },
  {
   "cell_type": "markdown",
   "id": "784fbb84",
   "metadata": {
    "slideshow": {
     "slide_type": "slide"
    }
   },
   "source": [
    "Poisson's equation relating the gravitational potential $\\phi$ to the mass density is \n",
    "\n",
    "\n",
    "\\begin{equation}\n",
    " \\nabla^2 \\phi = 4 \\pi G \\rho\n",
    "\\end{equation}"
   ]
  },
  {
   "cell_type": "markdown",
   "id": "5c523f2b",
   "metadata": {
    "slideshow": {
     "slide_type": "-"
    }
   },
   "source": [
    "https://en.wikipedia.org/wiki/Poisson%27s_equation"
   ]
  },
  {
   "cell_type": "markdown",
   "id": "fb15531b",
   "metadata": {
    "slideshow": {
     "slide_type": "fragment"
    }
   },
   "source": [
    "In cylindrical coordinates, $\\nabla^2$ in the radial direction is\n",
    "\\begin{equation}\n",
    "\\nabla^2 \\phi = \\frac{1}{r} \\frac{\\partial}{\\partial r} \\left(r \\frac{\\partial \\phi}{\\partial r}\\right)\n",
    "\\end{equation}"
   ]
  },
  {
   "cell_type": "markdown",
   "id": "e121dde2",
   "metadata": {
    "slideshow": {
     "slide_type": "-"
    }
   },
   "source": [
    "https://en.wikipedia.org/wiki/Del_in_cylindrical_and_spherical_coordinates"
   ]
  },
  {
   "cell_type": "markdown",
   "id": "4b16d832",
   "metadata": {
    "slideshow": {
     "slide_type": "slide"
    }
   },
   "source": [
    "Starting with Poisson's equation ...\n",
    "\n",
    "\\begin{equation}\n",
    "\\nabla^2 \\phi = \\frac{1}{r} \\frac{\\partial}{\\partial r} \\left(r \\frac{\\partial \\phi}{\\partial r}\\right) =  4 \\pi G \\rho\n",
    "\\end{equation}\n",
    "\n"
   ]
  },
  {
   "cell_type": "markdown",
   "id": "65a21244",
   "metadata": {
    "slideshow": {
     "slide_type": "fragment"
    }
   },
   "source": [
    "We multiply both sides  by $r$ and integrate:\n",
    "\n",
    "\\begin{equation}\n",
    "r \\frac{\\partial \\phi}{\\partial r} = \\int  4 \\pi G r \\rho dr \n",
    "\\end{equation}"
   ]
  },
  {
   "cell_type": "markdown",
   "id": "1f25b874",
   "metadata": {
    "slideshow": {
     "slide_type": "slide"
    }
   },
   "source": [
    "The _line mass_ of a cylinder is defined as the mass per unit length, i.e.:\n",
    "\n",
    "\\begin{equation}\n",
    "M_{line} = \\int_0^R 2 \\pi \\rho r dr\n",
    "\\end{equation}\n",
    "\n"
   ]
  },
  {
   "cell_type": "markdown",
   "id": "d4fdb379",
   "metadata": {
    "slideshow": {
     "slide_type": "notes"
    }
   },
   "source": [
    "In a previous version of this lecture, I had notes that $M_{line} = $constant for $\\rho\\propto R^{-2}$.  That's true, but is it meaningful?  The relevant proportionality is $\\rho(r)$, i.e., variable density, not $\\rho(R)$, the density on the outside shell.  For $\\rho\\propto r^{-2}$, $M_{line}(R) = \\ln R$, right?"
   ]
  },
  {
   "cell_type": "markdown",
   "id": "559a1615",
   "metadata": {
    "slideshow": {
     "slide_type": "slide"
    }
   },
   "source": [
    "Combining the Poisson equation\n",
    "$$\n",
    "r \\frac{\\partial \\phi}{\\partial r} = \\int  4 \\pi G r \\rho dr \n",
    "$$  with  $$ M_{line} = \\int_0^R 2 \\pi \\rho r dr $$ gives \n",
    "\n",
    "\\begin{equation}\n",
    "r \\frac{\\partial \\phi}{\\partial r} = \\int_0^R  4 \\pi G r \\rho dr = 2 G M_{line}\n",
    "\\end{equation}"
   ]
  },
  {
   "cell_type": "markdown",
   "id": "7cbb65bb",
   "metadata": {
    "slideshow": {
     "slide_type": "slide"
    }
   },
   "source": [
    "The self-gravitating force per unit mass from a cylinder is\n",
    "\\begin{equation}\n",
    "F_G = \\frac{d \\phi}{d r}\\Bigg|_{r=R} = 2 \\frac{G M_{line}}{R}\n",
    "\\end{equation}\n",
    "\n"
   ]
  },
  {
   "cell_type": "markdown",
   "id": "86fb4ece",
   "metadata": {
    "slideshow": {
     "slide_type": "fragment"
    }
   },
   "source": [
    "<div style='color:orange'>Consequence:\n",
    "For $\\rho\\propto R^{-2}$, $M_{line}$ is constant, so\n",
    "\n",
    "\\begin{equation}\n",
    "F_G \\propto r^{-1}\n",
    "\\end{equation}\n",
    "\n",
    "which is a shallower falloff than the usual inverse-square law.\n",
    "</div>"
   ]
  },
  {
   "cell_type": "markdown",
   "id": "e2366cde",
   "metadata": {
    "slideshow": {
     "slide_type": "slide"
    }
   },
   "source": [
    "## Next step: Compare pressure to gravity"
   ]
  },
  {
   "cell_type": "markdown",
   "id": "86a5bfaa",
   "metadata": {
    "slideshow": {
     "slide_type": "slide"
    }
   },
   "source": [
    "Assuming the gas in the cylinder is subject to gas pressure, we have \n",
    "\\begin{equation}\n",
    "P = K \\rho^{\\gamma}\n",
    "\\end{equation}where $\\gamma$ is the (effective) adiabatic index or specific heat ratio.\n",
    "\n",
    "(for isothermal gas, $K=c_s^2 = \\frac{k_B T}{m}$)"
   ]
  },
  {
   "cell_type": "markdown",
   "id": "4f818857",
   "metadata": {
    "slideshow": {
     "slide_type": "slide"
    }
   },
   "source": [
    "The pressure gradient force is \n",
    "\\begin{equation}\n",
    "F_P = \\frac{1}{\\rho} \\frac{dP}{dr}\n",
    "\\end{equation}\n",
    "https://en.wikipedia.org/wiki/Pressure-gradient_force"
   ]
  },
  {
   "cell_type": "markdown",
   "id": "1fca70a0",
   "metadata": {
    "slideshow": {
     "slide_type": "fragment"
    }
   },
   "source": [
    "Adopting $P = K \\rho^\\gamma$, where $K$ is a constant\n",
    "\\begin{eqnarray}\n",
    "F_P &= & \\frac{1}{\\rho} \\frac{dP}{dr} \\\\ \n",
    "    &= & \\frac{1}{\\rho} \\frac{d}{dr}  K \\rho^{\\gamma} \\\\    &\\propto & \\rho^{\\gamma-2} \\frac{d\\rho}{dr}\n",
    "\\end{eqnarray}\n"
   ]
  },
  {
   "cell_type": "markdown",
   "id": "84ba97a8",
   "metadata": {
    "slideshow": {
     "slide_type": "slide"
    }
   },
   "source": [
    "For a cylinder with fixed line mass, $M_l=\\pi r^2 \\rho$, so $\\rho = M_l/\\pi r^2$, and we can write\n",
    "\n",
    "\\begin{eqnarray}\n",
    "F_P  & \\propto &\\rho^{\\gamma-2} \\frac{d\\rho}{dr} \\\\\n",
    "     & \\approx & \\left(r^{-2}\\right)^{\\gamma -2} \\left(r^{-3}\\right) \\\\\n",
    "     & = & r^{-2\\gamma +4 -3} \\\\\n",
    "     & = & r^{1-2\\gamma}\n",
    "\\end{eqnarray}"
   ]
  },
  {
   "cell_type": "markdown",
   "id": "7fe2dd55",
   "metadata": {
    "slideshow": {
     "slide_type": "slide"
    }
   },
   "source": [
    "From above, we had $\n",
    "F_G\\propto r^{-1}\n",
    "$\n",
    "so we can examine the ratio\n",
    "\\begin{equation}\n",
    "\\frac{F_G}{F_P} \\propto \\frac{r^{-1}}{r^{1-2\\gamma}} = r^{2(\\gamma-1)}\n",
    "\\end{equation}"
   ]
  },
  {
   "cell_type": "markdown",
   "id": "732c9cd9",
   "metadata": {
    "slideshow": {
     "slide_type": "slide"
    }
   },
   "source": [
    "There is an equilibrium configuration when $\\gamma=1$ that we will look at in a moment. \n",
    "\n",
    "For $\\gamma>1$, the pressure gradient force will dominate self-gravity for a sufficiently small outer radius $R$."
   ]
  },
  {
   "cell_type": "markdown",
   "id": "60e90c18",
   "metadata": {
    "slideshow": {
     "slide_type": "slide"
    }
   },
   "source": [
    "For $\\gamma=1$, the pressure gradient force exceeds the gravitational force only up to a certain maximum (critical) value.\n",
    "This analysis proceeds analogous to that for the Bonnor-Ebert sphere.\n"
   ]
  },
  {
   "cell_type": "markdown",
   "id": "f404436e",
   "metadata": {
    "hideOutput": true,
    "slideshow": {
     "slide_type": "slide"
    }
   },
   "source": [
    "The centrally-flattened density Plummer-like profile is\n",
    "\\begin{equation}\n",
    "\\rho(r) = \\frac{\\rho_c}{\\left[1+ (r/r_c)^2 \\right]^{p/2}}\n",
    "\\end{equation}\n",
    "where $\\rho_c$ is the central density and $r_c$ is the radius at which the density begins to flatten.\n",
    "\n",
    "\n",
    "This is the solution to the cylindrical Lane-Emden equation for an isothermal cylinder ([Ostriker 1964](https://articles.adsabs.harvard.edu/pdf/1964ApJ...140.1056O)) when $p=4$  (unlike the _spherical_ version of this equation, which you'll evaluate in homework, there is an analytic solution for the cylindrical Lane-Emden equation)"
   ]
  },
  {
   "cell_type": "markdown",
   "id": "d5e098ac",
   "metadata": {
    "slideshow": {
     "slide_type": "slide"
    }
   },
   "source": [
    "Integrating that, after switching to non-dimensional radius $\\xi=r/r_c$, gives:\n",
    "\n",
    "\\begin{equation}\n",
    "M_{line} = \\int 2\\pi \\xi \\rho(\\xi) d\\xi\n",
    " = \\int 2\\pi \\xi \\frac{\\rho_c}{\\left[1+ \\xi^2 \\right]^{2}} d\\xi\n",
    " = \\frac{2 \\pi \\rho_c}{\\left[1 + \\xi^2\\right]}\n",
    "\\end{equation}\n"
   ]
  },
  {
   "cell_type": "markdown",
   "id": "48d1dff0",
   "metadata": {
    "slideshow": {
     "slide_type": "slide"
    }
   },
   "source": [
    "Notably, this line mass is finite even as $r\\rightarrow\\infty$:\n",
    "\\begin{equation}\n",
    "M_{line} \n",
    " = \\frac{2 \\pi \\rho_c}{\\left[1 + (r/r_c)^2\\right]}\n",
    " \\rightarrow {2 \\pi \\rho_c}\n",
    "\\end{equation}\n"
   ]
  },
  {
   "cell_type": "markdown",
   "id": "f3fc8225",
   "metadata": {
    "slideshow": {
     "slide_type": "slide"
    }
   },
   "source": [
    "To find the constant, we use the equilibrium solution where $F_P = -F_G$\n",
    "\\begin{equation}\n",
    "F_G = -4 \\pi G \\rho =- 2 \\frac{G M_{line}}{r}\n",
    "\\end{equation}\n",
    "\n",
    "\\begin{equation}\n",
    "F_P =  \\frac{1}{\\rho} \\frac{dP}{dr} = \\frac{1}{\\rho} \\frac{d}{dr}  K \\rho^{\\gamma} = c_s^2 \\nabla^2 \\ln \\rho\\\\  \n",
    "\\end{equation}\n",
    "\n",
    "(we're assuming isothermal, so $\\gamma=1$)"
   ]
  },
  {
   "cell_type": "markdown",
   "id": "0ee59c3e",
   "metadata": {
    "slideshow": {
     "slide_type": "fragment"
    }
   },
   "source": [
    "\\begin{equation}\n",
    "c_s^2 \\nabla^2 \\ln \\rho = -4 \\pi G \\rho\n",
    "\\end{equation}"
   ]
  },
  {
   "cell_type": "markdown",
   "id": "b9bd9ad0",
   "metadata": {
    "slideshow": {
     "slide_type": "fragment"
    }
   },
   "source": [
    "The solution to that equation (for the math,  see eqns 44 through 60 in [Ostriker 1964](https://articles.adsabs.harvard.edu/pdf/1964ApJ...140.1056O)) gives\n",
    "\n",
    "\\begin{equation}\n",
    "M_{line,crit}=\\frac{2 c_s^2}{G}\n",
    "\\end{equation}"
   ]
  },
  {
   "cell_type": "markdown",
   "id": "1f0de8b8",
   "metadata": {
    "slideshow": {
     "slide_type": "slide"
    }
   },
   "source": [
    "Takeaways:\n",
    "\n",
    "* Unlike spheres, isothermal filaments have a density below which they do not spontaneously gravitationally collapse\n",
    "* below $M_{line,crit}$, filaments do not runaway collapse"
   ]
  },
  {
   "cell_type": "markdown",
   "id": "bb03c762",
   "metadata": {
    "slideshow": {
     "slide_type": "fragment"
    }
   },
   "source": [
    "$c_s \\sim 0.2$ km s$^{-1}$ in local clouds.  Calculate: What is the critical line mass?"
   ]
  },
  {
   "cell_type": "code",
   "execution_count": 1,
   "id": "f92d1372",
   "metadata": {
    "slideshow": {
     "slide_type": "fragment"
    }
   },
   "outputs": [],
   "source": [
    "from astropy import units as u, constants"
   ]
  },
  {
   "cell_type": "code",
   "execution_count": 2,
   "id": "84ed72fd",
   "metadata": {
    "slideshow": {
     "slide_type": "-"
    }
   },
   "outputs": [
    {
     "data": {
      "text/latex": [
       "$18.600683 \\; \\mathrm{\\frac{M_{\\odot}}{pc}}$"
      ],
      "text/plain": [
       "<Quantity 18.60068329 solMass / pc>"
      ]
     },
     "execution_count": 2,
     "metadata": {},
     "output_type": "execute_result"
    }
   ],
   "source": [
    "(2*(0.2*u.km/u.s)**2 / constants.G).to(u.M_sun/u.pc)"
   ]
  },
  {
   "cell_type": "markdown",
   "id": "359ee5a7",
   "metadata": {
    "slideshow": {
     "slide_type": "slide"
    }
   },
   "source": [
    "Because there is not a critical mass, just a critical line mass, the size scale associated with critical filaments is arbitrary."
   ]
  },
  {
   "cell_type": "markdown",
   "id": "c9363756",
   "metadata": {
    "slideshow": {
     "slide_type": "fragment"
    }
   },
   "source": [
    "The half-mass radius is given by \n",
    "$$r_{1/2} = \\left(\\frac{M}{\\pi \\rho_c}\\right)^{1/2}$$\n",
    "(note there is a typo in eqn 62 of Ostriker 1964: eqn 62 should either read $r_0=<right~side>$, or the correction above)\n",
    "\n",
    "If we can measure this radius, we can determine $r_0$ and $\\rho_c$."
   ]
  },
  {
   "cell_type": "markdown",
   "id": "cedec186",
   "metadata": {
    "slideshow": {
     "slide_type": "slide"
    }
   },
   "source": [
    "For example, say we establish that $r_{1/2} = 0.1$ pc.  We have\n",
    "\n",
    "$$\\frac{1}{2} = \\frac{1}{1+8 (r_0 / r_{1/2})^2}$$\n",
    "\n",
    "so\n",
    "\n",
    "$$ r_0 = \\frac{r_{1/2}}{\\sqrt{8}}$$"
   ]
  },
  {
   "cell_type": "markdown",
   "id": "9db599af",
   "metadata": {
    "slideshow": {
     "slide_type": "slide"
    }
   },
   "source": [
    "For our $M_{crit} = 18.6 \\mathrm{M}_\\odot$ and $r_{1/2} = 0.1$ pc, we have\n",
    "$$\\rho_c = \\frac{M}{\\pi r_{1/2}^2} = \\frac{18.6 \\mathrm{~M}_\\odot \\mathrm{~pc}^{-1}}{\\pi (0.1 \\mathrm{~pc})^2}$$"
   ]
  },
  {
   "cell_type": "code",
   "execution_count": 7,
   "id": "3df23f2c",
   "metadata": {
    "slideshow": {
     "slide_type": "-"
    }
   },
   "outputs": [
    {
     "data": {
      "text/plain": [
       "(<Quantity 592.0563883 solMass / pc3>, <Quantity 10491.56831225 1 / cm3>)"
      ]
     },
     "execution_count": 7,
     "metadata": {},
     "output_type": "execute_result"
    }
   ],
   "source": [
    "rho_c = 18.6*u.M_sun/u.pc / (np.pi*(0.1*u.pc)**2)\n",
    "mu = 2.3*u.Da\n",
    "rho_c, (rho_c/mu).to(u.cm**-3)"
   ]
  },
  {
   "cell_type": "markdown",
   "id": "d091ab39",
   "metadata": {
    "slideshow": {
     "slide_type": "slide"
    }
   },
   "source": [
    "## Pressure & filament collapse\n"
   ]
  },
  {
   "cell_type": "markdown",
   "id": "34d67a96",
   "metadata": {
    "slideshow": {
     "slide_type": "slide"
    }
   },
   "source": [
    "We have from earlier that \n",
    "\\begin{equation}\n",
    "r \\frac{\\partial \\phi}{\\partial r} = \\int  4 \\pi G r \\rho dr = 2 G M_{line}\n",
    "\\end{equation}"
   ]
  },
  {
   "cell_type": "markdown",
   "id": "b43054f5",
   "metadata": {
    "slideshow": {
     "slide_type": "fragment"
    }
   },
   "source": [
    "Therefore the gravitational potential energy per unit length\n",
    "\\begin{equation}\n",
    "\\mathcal{W} = \\int_V \\rho r \\frac{d\\phi}{dr} dV= -M_{line}^2 G\n",
    "\\end{equation}\n",
    "is constant with respect to pressure even as it contracts: unlike the Bonnor-Ebert case, external pressure cannot induce gravitational collapse."
   ]
  },
  {
   "cell_type": "markdown",
   "id": "6daed4e1",
   "metadata": {
    "slideshow": {
     "slide_type": "fragment"
    }
   },
   "source": [
    "From Andre: \"If a filament is initially in equilibrium, the effective\n",
    "gravitational energy can never be made to dominate over\n",
    "the pressure support by squeezing it (McCrea, 1957; Fiege\n",
    "and Pudritz, 2000).\""
   ]
  },
  {
   "cell_type": "markdown",
   "id": "f3e15ee0",
   "metadata": {
    "slideshow": {
     "slide_type": "slide"
    }
   },
   "source": [
    "# Are filaments relevant in star formation?"
   ]
  },
  {
   "cell_type": "markdown",
   "id": "03c06620",
   "metadata": {
    "slideshow": {
     "slide_type": "fragment"
    }
   },
   "source": [
    "Remains unclear!\n",
    "\n",
    "* Ayes: \n",
    "  * Almost all star formation in local clouds is observed to reside on structures that, if they are filamentary, have $M_{line} > M_{line,crit}$\n",
    "  * There is a universal filament width scale of $\\sim0.1$ pc, as observed by Herschel in local clouds\n"
   ]
  },
  {
   "cell_type": "markdown",
   "id": "2b1cd90e",
   "metadata": {
    "slideshow": {
     "slide_type": "slide"
    }
   },
   "source": [
    "\n",
    "* Nays:\n",
    "  * Hydrostatic analysis is limited: Do hydrostatic filaments exist at all?\n",
    "  * Do _filaments_ exist, or are they chance projections through sheets?\n",
    "    * (at least in some cases, there is strong evidence for cylindrically symmetric features, but that's not universal)\n",
    "  * There is no such uniform filament width scale\n",
    "    * The apparent width scale is an observational artifact (debated!)\n",
    "    * The width scale is strongly dependent on physical conditions"
   ]
  },
  {
   "cell_type": "markdown",
   "id": "bab37544",
   "metadata": {
    "slideshow": {
     "slide_type": "slide"
    }
   },
   "source": [
    "## How do filaments form?\n",
    "\n",
    "<img style='max-height: 70%' src=\"graphics/filament_formation.png\">\n",
    "\n",
    "(Pineda+ PP7 review)"
   ]
  },
  {
   "cell_type": "markdown",
   "id": "e93fd8b0",
   "metadata": {},
   "source": [
    "Abe+ say TypO are dominant when clouds are dominated by high velocity shocks, Type C dominant at low-velocity"
   ]
  },
  {
   "cell_type": "markdown",
   "id": "bc3fed33",
   "metadata": {},
   "source": []
  }
 ],
 "metadata": {
  "celltoolbar": "Slideshow",
  "hide_code_all_hidden": true,
  "kernelspec": {
   "display_name": "Python 3 (ipykernel)",
   "language": "python",
   "name": "python3"
  },
  "language_info": {
   "codemirror_mode": {
    "name": "ipython",
    "version": 3
   },
   "file_extension": ".py",
   "mimetype": "text/x-python",
   "name": "python",
   "nbconvert_exporter": "python",
   "pygments_lexer": "ipython3",
   "version": "3.12.3"
  },
  "rise": {
   "transition": "none"
  }
 },
 "nbformat": 4,
 "nbformat_minor": 5
}
