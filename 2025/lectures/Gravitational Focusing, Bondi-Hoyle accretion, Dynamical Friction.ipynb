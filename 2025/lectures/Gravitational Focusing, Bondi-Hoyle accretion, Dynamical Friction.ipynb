{
 "cells": [
  {
   "cell_type": "markdown",
   "id": "2b910ac3",
   "metadata": {},
   "source": [
    "# Bondi-Hoyle Accretion"
   ]
  },
  {
   "cell_type": "markdown",
   "id": "8d0f9a30",
   "metadata": {},
   "source": [
    " * Gravitational Focusing\n",
    " * Bondi-Hoyle Accretion\n",
    " * Dynamical Friction\n",
    " \n",
    "Edgar 2004: https://ui.adsabs.harvard.edu/abs/2004NewAR..48..843E/abstract"
   ]
  },
  {
   "cell_type": "markdown",
   "id": "b11ec4e2",
   "metadata": {},
   "source": [
    "# Gravitational Focusing\n",
    "\n",
    "Whenever a gravitating particle traverses through a medium, it perturbs that medium.\n",
    "\n",
    "The trailing side, behind the gravitating particle, will become slightly denser than the leading side.\n",
    "\n",
    "Therefore, the tail exerts a gravitational force on the particle.  This process results in *Dynamical Friction*, in which particles slowly spiral in to the center.\n",
    "\n",
    "In a collisional medium (gas), some of the trailing material will hit other trailing material and jump from a hyperbolic orbit onto a bound, closed orbit.  That material either falls onto the gravitating particle or enters an accretion disk. This process is *Bondi-Hoyle Accretion*."
   ]
  },
  {
   "cell_type": "markdown",
   "id": "0f0c11fd",
   "metadata": {},
   "source": [
    "<img src=\"graphics/BHL_step1.svg\">"
   ]
  },
  {
   "cell_type": "markdown",
   "id": "e8ac756a",
   "metadata": {},
   "source": [
    "<img src=\"graphics/BHL_step2.svg\">"
   ]
  },
  {
   "cell_type": "markdown",
   "id": "a67041c9",
   "metadata": {},
   "source": [
    "<img src=\"graphics/BHL_step3.svg\">"
   ]
  },
  {
   "cell_type": "markdown",
   "id": "23e2e02f",
   "metadata": {},
   "source": [
    "# Bondi-Hoyle Accretion\n",
    "\n",
    "References about BH accretion:\n",
    "\n",
    "Bondi 1952 http://articles.adsabs.harvard.edu/pdf/1952MNRAS.112..195B\n",
    "\n",
    "Bondi 1944 https://ui.adsabs.harvard.edu/abs/1944MNRAS.104..273B/abstract\n",
    "\n",
    "Krumholz 2006 https://iopscience.iop.org/article/10.1086/498844/pdf\n",
    "\n",
    "\n"
   ]
  },
  {
   "cell_type": "markdown",
   "id": "d9b3f07d",
   "metadata": {},
   "source": [
    "<img src=\"graphics/BHL_step4.svg\">"
   ]
  },
  {
   "cell_type": "markdown",
   "id": "d04d8b26",
   "metadata": {},
   "source": [
    "Direct accretion:\n",
    "\n",
    "$$ \\dot{M}_{direct} = \\pi r^2 v \\rho $$"
   ]
  },
  {
   "cell_type": "markdown",
   "id": "21a18bab",
   "metadata": {},
   "source": [
    "The Hoyle-Littleton Radius is where the gravitational binding energy matches the orbital energy:\n",
    "\n",
    "$$ \\frac{G M^2}{r_{HL}} = \\frac{1}{2} M v^2$$\n",
    "\n",
    "which solves to\n",
    "\n",
    "$$ r_{HL} = \\frac{2GM}{v^2}$$"
   ]
  },
  {
   "cell_type": "markdown",
   "id": "c1803f6c",
   "metadata": {},
   "source": [
    "If we replace $r$ in the direct equation $ \\dot{M}_{direct} = \\pi r^2 v \\rho $ with $r_{HL}$, we get\n",
    "\n",
    "$$ \\dot{M}_{HL} = 4 \\pi \\rho \\frac{G^2 M^2}{v^3}  $$"
   ]
  },
  {
   "cell_type": "markdown",
   "id": "9f43d807",
   "metadata": {},
   "source": [
    "If we then ask what happens as $v\\rightarrow0$, we recognize that there's a lower speed limit, the sound speed, $c_s$.  The Bondi version is $R_{B} = \\frac{2GM}{c_s^2}$, which combines to the BHL radius \n",
    "$$R_{BHL} = \\frac{2GM}{v^2 + c_s^2}$$"
   ]
  },
  {
   "cell_type": "markdown",
   "id": "95c67fb1",
   "metadata": {},
   "source": [
    "That results in\n",
    "\n",
    "$$ \\dot{M}_{BHL} = 4 \\pi \\rho \\frac{G^2 M^2}{(c_s^2 + v^2)^{3/2}}  $$ (Edgar eqn 32)"
   ]
  },
  {
   "cell_type": "code",
   "execution_count": null,
   "id": "57396c15",
   "metadata": {},
   "outputs": [],
   "source": []
  },
  {
   "cell_type": "markdown",
   "id": "54cf94c4",
   "metadata": {},
   "source": [
    "# Dynamical Friction\n",
    "\n",
    "https://www.youtube.com/watch?v=5fBvKb2JD9c"
   ]
  },
  {
   "cell_type": "markdown",
   "id": "10c849a4",
   "metadata": {},
   "source": [
    "Subrahmanyan Chandrasekhar 1943:\n",
    "\n",
    "https://ui.adsabs.harvard.edu/abs/1943ApJ....97..255C/abstract\n",
    "\n",
    "Binney & Tremaine 1987 (https://ui.adsabs.harvard.edu/abs/2008gady.book.....B/abstract) Galaxy Dynamics\n",
    "\n",
    "Eve Ostriker 1999:\n",
    "    \n",
    "https://ui.adsabs.harvard.edu/abs/1999ApJ...513..252O/abstract"
   ]
  },
  {
   "cell_type": "markdown",
   "id": "f1c807b7",
   "metadata": {},
   "source": [
    "Context: A gravitating object is orbiting in an overall gravitational potential and travels through a medium.\n",
    "\n",
    "Examples:\n",
    "\n",
    " * A star orbiting in the Galaxy, passing through a field of other stars and of dark matter\n",
    " * A galaxy orbiting in a galaxy cluster, passing through a field of other stars and of dark matter\n",
    " * A white dwarf orbiting a red giant and traveling through its bloated, gaseous atmosphere\n",
    " * A protostar orbiting a protocluster center, passing through the molecular cloud\n",
    " * A (proto)planet orbiting through a protoplanetary disk\n",
    " * An asteroid passing through an asteroid field\n",
    " \n",
    "Note that some of these involve collisionless particles (stars, dark matter, asteroids) while other are collisional (gas)."
   ]
  },
  {
   "cell_type": "markdown",
   "id": "50c43655",
   "metadata": {},
   "source": [
    "$$F_{df} = - I  \\frac{4\\pi (GM_p)^2 \\rho_0 }{V^2}$$\n",
    "where $M_p$ is the mass of a point particle"
   ]
  },
  {
   "cell_type": "markdown",
   "id": "c0a182c2",
   "metadata": {},
   "source": [
    "$$I\\rightarrow \\frac{\\mathcal{M}^3}{3} \\mathrm{~for~} \\mathcal{M}<<1$$\n",
    "$$I\\rightarrow \\ln\\left(\\frac{V t}{r_{min}}\\right) \\mathrm{~for~} \\mathcal{M}>>1$$\n",
    "where the Mach number $\\mathcal{M} \\equiv \\frac{V}{c_s}$."
   ]
  },
  {
   "cell_type": "markdown",
   "id": "39d691fc",
   "metadata": {},
   "source": [
    "$$I_{collisionless} = \\ln \\left(\\frac{r_{max}}{r_{min}}\\right)\\left[\\mathrm{erf}(X)-\\frac{2X}{\\sqrt{\\pi}} e^{-X^2}\\right]$$\n",
    "where $X\\equiv V / (\\sigma \\sqrt{2})$"
   ]
  },
  {
   "cell_type": "code",
   "execution_count": null,
   "id": "fe80c538",
   "metadata": {},
   "outputs": [],
   "source": []
  },
  {
   "cell_type": "code",
   "execution_count": null,
   "id": "d48ab312",
   "metadata": {},
   "outputs": [],
   "source": []
  },
  {
   "cell_type": "code",
   "execution_count": null,
   "id": "4d7ae39a",
   "metadata": {},
   "outputs": [],
   "source": []
  },
  {
   "cell_type": "code",
   "execution_count": null,
   "id": "16c65fb7",
   "metadata": {},
   "outputs": [],
   "source": []
  },
  {
   "cell_type": "code",
   "execution_count": null,
   "id": "ca9a55e3",
   "metadata": {},
   "outputs": [],
   "source": []
  },
  {
   "cell_type": "code",
   "execution_count": null,
   "id": "2fb35fe0",
   "metadata": {},
   "outputs": [],
   "source": []
  },
  {
   "cell_type": "code",
   "execution_count": null,
   "id": "df0006a3",
   "metadata": {},
   "outputs": [],
   "source": []
  },
  {
   "cell_type": "code",
   "execution_count": null,
   "id": "c32f0e2b",
   "metadata": {},
   "outputs": [],
   "source": []
  },
  {
   "cell_type": "markdown",
   "id": "70cb58f1",
   "metadata": {},
   "source": [
    "Krumholz's turbulent-modified version:\n",
    "\n",
    "$$\\dot{M}_{BH} = 4 \\pi \\rho_\\infty G^2 M^2 c_\\infty^{-3} \\left[\\frac{\\lambda^2+\\mathcal{M}^2}{\\left(1+\\mathcal{M}^2\\right)^4}\\right]^{1/2}$$"
   ]
  },
  {
   "cell_type": "markdown",
   "id": "a8ed9a93",
   "metadata": {},
   "source": [
    "$$\\mathcal{M} \\equiv \\frac{v}{c_s}$$\n",
    "\n",
    "$\\lambda$ is a constant of order unity (close to 1) that is about $\\lambda=1.1$ for $\\mathcal{M}=0$, \"Bondi Accretion\".  "
   ]
  },
  {
   "cell_type": "markdown",
   "id": "db502276",
   "metadata": {},
   "source": [
    "$\\mathcal{M}=0$ -> $\\lambda = e^{1.5}/4 \\approx 1.1$"
   ]
  },
  {
   "cell_type": "markdown",
   "id": "70a27fc4",
   "metadata": {},
   "source": [
    "$$    R_{Bondi} = \\frac{2 G M}{c_s^2 + v_*^2}$$\n"
   ]
  }
 ],
 "metadata": {
  "kernelspec": {
   "display_name": "py312",
   "language": "python",
   "name": "py312"
  },
  "language_info": {
   "codemirror_mode": {
    "name": "ipython",
    "version": 3
   },
   "file_extension": ".py",
   "mimetype": "text/x-python",
   "name": "python",
   "nbconvert_exporter": "python",
   "pygments_lexer": "ipython3",
   "version": "3.12.3"
  }
 },
 "nbformat": 4,
 "nbformat_minor": 5
}
