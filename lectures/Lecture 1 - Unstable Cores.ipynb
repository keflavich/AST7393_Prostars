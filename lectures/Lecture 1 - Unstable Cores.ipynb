{
 "cells": [
  {
   "cell_type": "markdown",
   "id": "5ef17348",
   "metadata": {
    "slideshow": {
     "slide_type": "slide"
    }
   },
   "source": [
    "# The initial conditions of star formation: the unstable core\n",
    "\n",
    "Stars form from gas in the interstellar medium.\n",
    "\n",
    "The first question we'll address is: What is the size and mass scale of the gas element that will collapse under its own self-gravity?"
   ]
  },
  {
   "cell_type": "markdown",
   "id": "89f16510-d763-48a8-866f-8b39a524274b",
   "metadata": {
    "slideshow": {
     "slide_type": "slide"
    }
   },
   "source": [
    "# The Jeans Mass\n",
    "\n",
    "The Jeans mass comes up all the time in star formation.\n",
    "\n",
    "We'll just talk about a shorthand approach to deriving the Jean's mass.\n",
    "\n",
    "You'll derive the Bonnor-Ebert mass in a homework (which is why we're starting with heavier math)\n",
    "\n",
    "\n",
    "See: \n",
    "\n",
    "* [Krumholz](http://bender.astro.sunysb.edu/oab/star_formation_notes/sfnotes.pdf) ch 6\n",
    "* [Palla & Stahler](https://ui.adsabs.harvard.edu/abs/2004fost.book.....S/abstract) ch 9"
   ]
  },
  {
   "cell_type": "markdown",
   "id": "d69c4fa1-7433-4e82-a955-a14227a200a4",
   "metadata": {
    "slideshow": {
     "slide_type": "slide"
    }
   },
   "source": [
    "### Definition\n",
    "\n",
    "The Jean's mass and the Bonnor-Ebert mass are both _critical_ masses for which outward _thermal pressure_ balances inward _gravitational pressure_.\n",
    "\n",
    "The Jean's mass is calculated in an infinite uniform medium.  The Bonnor-Ebert mass considers an external pressure as well."
   ]
  },
  {
   "cell_type": "markdown",
   "id": "e16cebdc-e5cb-4d73-845b-173fd0fbd7af",
   "metadata": {
    "slideshow": {
     "slide_type": "slide"
    }
   },
   "source": [
    "## Derivation 1: 'Dimensional Analysis'"
   ]
  },
  {
   "cell_type": "markdown",
   "id": "46747328-7566-4ea4-bd6f-8f17411b85f7",
   "metadata": {
    "slideshow": {
     "slide_type": "subslide"
    }
   },
   "source": [
    "The Jeans mass is approximately the mass at which the _escape speed_ ($v_{esc}$) from a gravitationally bound object matches the _sound speed_ $c_s$ in isothermal gas.\n",
    "\n",
    "(this derivation is analogous to the  Virial-theorem based approximation given in Krumholz 6.2.1)"
   ]
  },
  {
   "cell_type": "markdown",
   "id": "8c09356c-0596-4203-91c1-38290dd4a06d",
   "metadata": {
    "slideshow": {
     "slide_type": "slide"
    }
   },
   "source": [
    "We start with definitions of the sound and escape speeds (these should be familiar from thermal and statistical physics and from classical mechanics, respectively):"
   ]
  },
  {
   "cell_type": "markdown",
   "id": "ad6382a8-defd-4b55-b5a0-1c3920d8aa26",
   "metadata": {
    "slideshow": {
     "slide_type": "-"
    }
   },
   "source": [
    "$$v_{esc} = \\sqrt{\\frac{G M}{R}}$$\n",
    "\n",
    "$$ c_s = \\sqrt{k T / m}$$\n"
   ]
  },
  {
   "cell_type": "markdown",
   "id": "e084b52e-6f22-44ea-a1be-64fd67ae3720",
   "metadata": {
    "slideshow": {
     "slide_type": "-"
    }
   },
   "source": [
    "where $G$ is Newton's gravitational constant, $M$ is the enclosed mass within radius $R$.  $k$ is Boltzmann's constant, $T$ is the gas temperature, and $m$ is the mean particle mass $m=\\mu~\\textrm{amu}$.  For neutral molecular hydrogen, $\\mu=2.37$ at solar metallicity."
   ]
  },
  {
   "cell_type": "markdown",
   "id": "590b20a6-edf6-43f1-b198-2cd6bfa9413d",
   "metadata": {
    "slideshow": {
     "slide_type": "slide"
    }
   },
   "source": [
    "    \n",
    "Setting $v_{esc} = c_s$ yields the mass scale:\n",
    "    \n",
    " $$\\sqrt{\\frac{G M}{R}} = \\sqrt{k T / m} = c_s$$\n",
    "   \n",
    "    \n",
    "$$M = \\frac{R}{G}  \\frac{2 k T}{m} = \\frac{R c_s^2}{G}$$\n"
   ]
  },
  {
   "cell_type": "markdown",
   "id": "4aa61937-a136-4583-a613-fd153a3ca597",
   "metadata": {
    "slideshow": {
     "slide_type": "slide"
    }
   },
   "source": [
    "We want to solve for the Jean's mass ($M_J$) in terms of the density (since we are starting with the assumption that the density is uniform), so we use the definition  $\\rho = \\frac{M}{ 4/3 \\pi R^{3} }$."
   ]
  },
  {
   "cell_type": "markdown",
   "id": "73d91423-68e5-4ac0-9ad7-e3a991416057",
   "metadata": {
    "slideshow": {
     "slide_type": "slide"
    }
   },
   "source": [
    "Solving for $R$, we get\n",
    "$$R = \\left(\\frac{M}{4/3 \\pi \\rho}\\right)^{1/3}$$\n",
    "and we plug $R$ into $M = \\frac{R c_s^2}{G}$\n",
    " to get\n",
    "$$M = \\frac{M^{1/3}}{ (4/3 \\pi \\rho)^{1/3}} \\frac{c_s^2}{G}$$\n"
   ]
  },
  {
   "cell_type": "markdown",
   "id": "9381c9c1-773a-47af-ac6f-4b67abacd40c",
   "metadata": {
    "slideshow": {
     "slide_type": "slide"
    }
   },
   "source": [
    "                           \n",
    "which rearranges to\n",
    "$$M_J^{2/3} = \\frac{c_s^2}{G (4/3 \\pi \\rho)^{1/3}}$$\n",
    "\n",
    "$$M_J = \\frac{c_s^{3}}{G^{3/2} \\rho^{1/2} (4/3 \\pi)^{1/2}}$$\n",
    "\n",
    "$$M_J \\approx \\frac{c_s^{3}}{G^{3/2} \\rho^{1/2} }$$\n",
    "\n",
    "where $M$ is now $M_J$, the Jeans mass. "
   ]
  },
  {
   "cell_type": "markdown",
   "id": "6b682b2b-815d-4598-b258-fab394fb8433",
   "metadata": {
    "slideshow": {
     "slide_type": "slide"
    }
   },
   "source": [
    "We can also plug in in the definition of the sound speed to see the Jeans mass as a function of temperature:\n",
    "\n",
    "$$M_J \\approx \\frac{(k T)^{3/2}}{(m G)^{3/2} \\rho^{1/2}}$$"
   ]
  },
  {
   "cell_type": "markdown",
   "id": "b346aa1d-1dce-42cd-a7c9-2ca2ee9e8077",
   "metadata": {
    "slideshow": {
     "slide_type": "slide"
    }
   },
   "source": [
    "The Jeans Length, $\\lambda_J$, can be obtained using the substitution\n",
    "$$\\lambda_J = \\left(\\frac{M_J}{4/3 \\pi \\rho}\\right)^{1/3}$$ \n",
    "as above, where we have redefined $\\lambda_J = R$.\n"
   ]
  },
  {
   "cell_type": "markdown",
   "id": "8f2441cd-aded-424d-b8d4-ded78a185c6e",
   "metadata": {
    "slideshow": {
     "slide_type": "slide"
    }
   },
   "source": [
    "$$\\lambda_J = \\frac{c_s}{\\sqrt{G \\rho}}  \\left(\\frac{1}{4 \\pi /3}\\right)^{1/3}$$\n",
    "\n",
    "i.e., \n",
    "$$\\lambda_J \\approx \\frac{c_s}{\\sqrt{G \\rho}}$$"
   ]
  },
  {
   "cell_type": "markdown",
   "id": "56dd4595-71a5-4292-8772-8ee4268ffed2",
   "metadata": {
    "slideshow": {
     "slide_type": "slide"
    }
   },
   "source": [
    "or again, in terms of temperature:\n",
    "$$\\lambda_J \\approx \\sqrt{\\frac{kT}{m G \\rho}}  $$"
   ]
  },
  {
   "cell_type": "markdown",
   "id": "af15904d-9eec-4990-ae36-d83b2cd24837",
   "metadata": {
    "slideshow": {
     "slide_type": "slide"
    }
   },
   "source": [
    "## Formal derivation\n",
    "\n",
    "The formal derivation of the Jean's mass is covered in Desika's ISM class.  You can also find a formal derivation in Krumholz ch 6."
   ]
  },
  {
   "cell_type": "markdown",
   "id": "2d5da3b9-dc55-4a59-ac76-133dbdaaa4dd",
   "metadata": {
    "slideshow": {
     "slide_type": "slide"
    }
   },
   "source": [
    "# Bonnor-Ebert Sphere\n",
    "\n",
    "You will derive the properties of the critical Bonnor-Ebert sphere in homework 1.\n",
    "\n",
    "This is the largest mass that can be thermally supported against the combination of gravitational pressure and external pressure."
   ]
  },
  {
   "cell_type": "markdown",
   "id": "ca8c0618-9142-4c35-9c35-67d9a156ae03",
   "metadata": {
    "slideshow": {
     "slide_type": "slide"
    }
   },
   "source": [
    "## Background: the Virial theorem\n",
    "\n",
    "The homework will start from the Virial theorem as defined in [Krumholz](http://bender.astro.sunysb.edu/oab/star_formation_notes/sfnotes.pdf) S 6.1"
   ]
  },
  {
   "cell_type": "markdown",
   "id": "7cc725bc-123d-4cc8-8c36-016e7c812db9",
   "metadata": {
    "slideshow": {
     "slide_type": "-"
    }
   },
   "source": [
    "However, Krumholz uses tensor notation, which I am not very familiar with, so I'll not follow the details.  You do not need the detailed derivation to do the homework or gain insight into how to solve these problems."
   ]
  },
  {
   "cell_type": "markdown",
   "id": "11dc90a1-4ab8-4d8c-8a29-cf07ce96e7b4",
   "metadata": {
    "slideshow": {
     "slide_type": "slide"
    }
   },
   "source": [
    "## Equations of Motion\n",
    "\n",
    "The derivation uses both the conservation of mass and the conservation of momentum to derive the Virial theorem."
   ]
  },
  {
   "cell_type": "markdown",
   "id": "d5d0e244-3cd5-4c0a-8263-603372a2f109",
   "metadata": {
    "slideshow": {
     "slide_type": "slide"
    }
   },
   "source": [
    "\"To derive the virial theorem, we begin by imagining a cloud of gas enclosed by some fixed volume $V$. The surface of this volume is $S$. We want to know how the overall distribution of mass changes within this volume, so we begin by writing down a quantity the represents the mass distribution. This is the moment of inertia,\n",
    "\\begin{equation}\n",
    "I = \\int_V \\rho r^2\\, dV.\n",
    "\\end{equation}\"\n",
    "\n",
    "\n",
    "(units: mass distance$^2$)"
   ]
  },
  {
   "cell_type": "markdown",
   "id": "d3a36390-5615-4444-9ce0-ed69d2ef85f2",
   "metadata": {
    "slideshow": {
     "slide_type": "slide"
    }
   },
   "source": [
    "By taking the second derivative with respect to time of the moment of inertia, we obtain an equation for the time evolution of the density distribution (assuming no flow across the surface):\n",
    "\n",
    "\\begin{equation}\n",
    "\\frac{1}{2}\\ddot{I} = 2(\\mathcal{T} - \\mathcal{T}_S) + \\mathcal{B} + \\mathcal{W},\n",
    "\\end{equation}\n",
    "\n",
    "(units: energy = mass distance$^2$ time$^{-2}$)"
   ]
  },
  {
   "cell_type": "markdown",
   "id": "fe312ee7-974a-4a6e-93b2-22339d3d8a8f",
   "metadata": {
    "slideshow": {
     "slide_type": "slide"
    }
   },
   "source": [
    "\n",
    "\\begin{equation}\n",
    "\\frac{1}{2}\\ddot{I} = 2(\\mathcal{T} - \\mathcal{T}_S) + \\mathcal{B} + \\mathcal{W},\n",
    "\\end{equation}\n",
    "where\n",
    "\\begin{eqnarray}\n",
    "\\mathcal{T} & = & \\int_V\\left(\\frac{1}{2}\\rho v^2 + \\frac{3}{2} P\\right)\\, dV \\\\\n",
    "\\mathcal{T}_S & = & \\int_S rP \\,dS\\\\\n",
    "\\mathcal{B} & = & \\frac{1}{8\\pi} \\int_V B^2 \\,dV + \\int_S \\vec{r}\\cdot \\vec{T_M}\\cdot d\\vec{S}\\\\\n",
    "\\mathcal{W} & = & -\\int_V \\rho \\vec{r}\\cdot\\nabla\\phi\\,dV.\n",
    "\\end{eqnarray}\n"
   ]
  },
  {
   "cell_type": "markdown",
   "id": "02c16aa7-6dc3-4a0c-bd29-5b0e8127416f",
   "metadata": {
    "slideshow": {
     "slide_type": "slide"
    }
   },
   "source": [
    "The first term is the thermal pressure plus kinetic energy:\n",
    "$$\\mathcal{T}  =  \\int_V\\left(\\frac{1}{2}\\rho v^2 + \\frac{3}{2} P\\right)\\, dV $$\n",
    "$\\rho v^2$ is thermal pressure, $P$ is the kinetic energy density of bulk motion (gas moving around).  This is a volume integral, since the thermal and kinetic pressure are distributed throughout the cloud."
   ]
  },
  {
   "cell_type": "markdown",
   "id": "2c605fe3-9cce-40a8-80c5-6e6bcbcb89c7",
   "metadata": {
    "slideshow": {
     "slide_type": "slide"
    }
   },
   "source": [
    "The second term $\\mathcal{T}_S$ is the confining pressure of the cloud:\n",
    "$$\\mathcal{T}_S  =  \\int_S rP \\,dS$$\n",
    "This is a surface integral, considering only the pressure at the surface.  We have made the simplifying assumption that there is no magnetic field and that there is no gas flowing in across this surface."
   ]
  },
  {
   "cell_type": "markdown",
   "id": "afdba99d-28a1-4676-b48f-21af7db0801c",
   "metadata": {
    "slideshow": {
     "slide_type": "slide"
    }
   },
   "source": [
    "$\\mathcal{B}$ is the magnetic term, which we'll ignore."
   ]
  },
  {
   "cell_type": "markdown",
   "id": "d6922ad2-bf43-4bb9-8874-a51183c25e92",
   "metadata": {
    "slideshow": {
     "slide_type": "slide"
    }
   },
   "source": [
    "$\\mathcal{W}$ is the gravitational term, i.e., the binding energy of the cloud under its own self-gravity:\n",
    "\n",
    "$$\\mathcal{W}  =  -\\int_V \\rho \\vec{r}\\cdot\\nabla\\phi\\,dV$$\n",
    "\n",
    "While this term looks (and, in evaluation, is) complicated, it's conceptually simple: how much pressure does the gravity internal to a given point exert on that point?"
   ]
  },
  {
   "cell_type": "markdown",
   "id": "ade4e1d4-74dc-4458-985d-f3d090b3dc1f",
   "metadata": {
    "slideshow": {
     "slide_type": "slide"
    }
   },
   "source": [
    "The equilibrium case is \n",
    "$\\ddot{I} = 0$\n",
    "so that\n",
    "$$2(\\mathcal{T} - \\mathcal{T}_S) + \\mathcal{W} = 0$$\n",
    "\n",
    "If there is no surface pressure ($\\mathcal{T}_S=0$), we define the virial parameter $$\\alpha_{vir} = \\frac{2\\mathcal{T}}{\\mathcal{|W|}}$$\n",
    "such that $\\alpha_{vir}>1$ for an expanding cloud and $\\alpha_{vir} < 1$ for a contracting or collapsing cloud."
   ]
  },
  {
   "cell_type": "markdown",
   "id": "785257dc",
   "metadata": {
    "slideshow": {
     "slide_type": "slide"
    }
   },
   "source": [
    "## The Virial Parameter\n",
    "We defined $\\alpha_{vir} = \\frac{2\\mathcal{T}}{\\mathcal{|W|}}$, but some folks define it such that $\\alpha_{critical} = 2$ instead of 1.  (e.g., $\\alpha_{vir} = a \\frac{5 \\sigma_v^2 R_{eff}}{G M}$).\n",
    "\n",
    "It is often used observationally to test whether an observed core is stable or not.\n",
    "\n",
    "However, there is a universal conspiracy that makes it very hard to observe cores with $\\alpha$ far from the critical value.  Because the gravitational collapse accelerates material, the observed velocity does not necessarily trace _supporting_ kinetic energy.  $\\alpha_{vir}$ is only good for stability measurement if the object we observe is static.\n"
   ]
  },
  {
   "cell_type": "markdown",
   "id": "58013c7e",
   "metadata": {
    "slideshow": {
     "slide_type": "slide"
    }
   },
   "source": [
    "<img src=\"https://media.springernature.com/lw685/springer-static/image/art%3A10.1007%2Fs11214-020-00698-3/MediaObjects/11214_2020_698_Fig6_HTML.png\" style='float:left; max-width:550px'>\n",
    "<img src=\"https://www.researchgate.net/publication/350104831/figure/fig5/AS:1002184808345607@1615950886653/Dynamical-state-of-the-identified-cores-The-upper-panel-shows-the-non-thermal-velocity.png\" style='float:right; max-width:400px'>\n",
    "\n",
    "<a href=\"https://ui.adsabs.harvard.edu/#abs/2013ApJ...779..185K/abstract\"> Kauffmann et al 2013</a>\n",
    "<a href=\"https://ui.adsabs.harvard.edu/abs/2021MNRAS.503.4601B/abstract\"> Barnes et al 2020</a>\n",
    "\n",
    "Kauffmann: Each sample shows the same trend of higher $\\alpha_{vir}$ at lower masses, suggesting that the shape of the distributions is produced by observational bias, not physics.\n",
    "\n",
    "Barnes: the red lines are with and without background subtraction, demonstrating that observational effects play a large role in measuring $\\alpha_{vir}$.\n",
    "\n"
   ]
  },
  {
   "cell_type": "markdown",
   "id": "b1044b0b-adcf-4130-b8e5-aa31582dc076",
   "metadata": {
    "slideshow": {
     "slide_type": "slide"
    }
   },
   "source": [
    "## Homework\n",
    "\n",
    "In homework 1, you will use the Virial theorem as a starting point to derive the Bonnor-Ebert mass and determine some of its properties."
   ]
  },
  {
   "cell_type": "markdown",
   "id": "7ea624fe",
   "metadata": {
    "slideshow": {
     "slide_type": "slide"
    }
   },
   "source": [
    "## Pre-stellar Cores\n",
    "\n",
    "The Bonnor-Ebert sphere (or, equivalently, the Jeans sphere) is the basis of the idea of a pre-stellar core.  \n",
    "\n",
    "These are objects of ISM gas that, if they exist, will collapse to form individual stars."
   ]
  },
  {
   "cell_type": "markdown",
   "id": "a9bda3ac",
   "metadata": {
    "slideshow": {
     "slide_type": "slide"
    }
   },
   "source": [
    "B68: The prototypical Bonnor-Ebert sphere\n",
    "\n",
    "\n",
    "<img style='max-width:90%; max-height:800px;' src=\"https://upload.wikimedia.org/wikipedia/commons/thumb/1/10/Barnard_68.jpg/1920px-Barnard_68.jpg\">\n",
    "\n",
    "* https://ui.adsabs.harvard.edu/abs/2001Natur.409..159A/abstract \n",
    "* https://www.nature.com/articles/35051509.pdf\n"
   ]
  },
  {
   "attachments": {},
   "cell_type": "markdown",
   "id": "16b61559",
   "metadata": {
    "slideshow": {
     "slide_type": "slide"
    }
   },
   "source": [
    "B68 $A_V$ profile:\n",
    "<img style='max-height:800px' src=https://media.springernature.com/lw685/springer-static/image/art%3A10.1038%2F35051509/MediaObjects/41586_2001_Article_BF35051509_Fig2_HTML.jpg>"
   ]
  },
  {
   "cell_type": "markdown",
   "id": "6899117d",
   "metadata": {
    "slideshow": {
     "slide_type": "slide"
    }
   },
   "source": [
    "#  Open questions / Revisiting assumptions\n",
    "\n",
    "We have left out:\n",
    "\n",
    "* The magnetic field.\n",
    "* Flow across the boundary.\n",
    "* (non-thermal-pressure) Kinetic energy.\n",
    "* Asymmetry"
   ]
  },
  {
   "cell_type": "markdown",
   "id": "b431eb46",
   "metadata": {
    "slideshow": {
     "slide_type": "slide"
    }
   },
   "source": [
    "## Magnetic Field\n",
    "\n",
    "\n",
    "This is an additional support term, but is _not_ isotropic.\n",
    "\n",
    "The B-field will support against collapse _if_ it is well-coupled to the gas [see: ambipolar diffusion], but only in two directions.\n",
    "\n",
    "Collapse along the field lines is always free-fall, so the effect of the B-field may be to flatten clouds rather than stop collapse."
   ]
  },
  {
   "cell_type": "markdown",
   "id": "9da95b81",
   "metadata": {
    "slideshow": {
     "slide_type": "slide"
    }
   },
   "source": [
    "## Flow across the boundary\n",
    "\n",
    "We have treated the hydrostatic case.  What if there is material flowing in across the boundary?\n",
    "\n",
    "\\begin{equation}\n",
    "\\frac{1}{2}\\ddot{I} = 2(\\mathcal{T} - \\mathcal{T}_S) + \\mathcal{B} + \\mathcal{W} - \\frac{1}{2}\\frac{d}{dt} \\int_S (\\rho\\vec{v} r^2)\\cdot d\\vec{S}\n",
    "\\end{equation}\n",
    "\n",
    "The final term in this equation is flow across the boundary.\n",
    "\n",
    "As long as that flow is inward, the sphere is _less_ stable, so $M_{BE}$ is smaller.  However, the mass that ends up in the star is no longer just that in the original unstable sphere.  This may be relevant in real star forming regions!"
   ]
  },
  {
   "cell_type": "markdown",
   "id": "98309152",
   "metadata": {
    "slideshow": {
     "slide_type": "slide"
    }
   },
   "source": [
    "## Kinetic Energy (other)\n",
    "\n",
    "Part of the $\\mathcal{T}$ term is the kinetic energy of \"bulk motion\",  i.e., that kinetic energy that is not driven primarily by random motion of individual particles.\n",
    "\n",
    "If that motion is random and isotropic, it may be treated as an additional supporting force.  This is the argument underlying the Turbulent Core model ([McKee & Tan 2003](https://ui.adsabs.harvard.edu/#abs/2003ApJ...585..850M/abstract)).  However, it is controversial!  Turbulence decays rapidly, so it may not be available as a supporting force.  Nevertheless, the kinetic energy is there."
   ]
  },
  {
   "cell_type": "markdown",
   "id": "8548517f",
   "metadata": {
    "slideshow": {
     "slide_type": "slide"
    }
   },
   "source": [
    "## Geometry\n",
    "\n",
    "We have assumed spherical symmetry.  However, we know magnetic fields introduce some asymmetry.  The observed ISM also includes a broad range of asymmetric features, especially [filaments](https://ui.adsabs.harvard.edu/abs/2014prpl.conf...27A/abstract).\n",
    "\n",
    "<img src=\"https://ars.els-cdn.com/content/image/1-s2.0-S1631071317300901-gr1.jpg\">"
   ]
  }
 ],
 "metadata": {
  "celltoolbar": "Slideshow",
  "kernelspec": {
   "display_name": "Python 3.9",
   "language": "python",
   "name": "py39"
  },
  "language_info": {
   "codemirror_mode": {
    "name": "ipython",
    "version": 3
   },
   "file_extension": ".py",
   "mimetype": "text/x-python",
   "name": "python",
   "nbconvert_exporter": "python",
   "pygments_lexer": "ipython3",
   "version": "3.9.6"
  },
  "rise": {
   "transition": "none"
  }
 },
 "nbformat": 4,
 "nbformat_minor": 5
}
