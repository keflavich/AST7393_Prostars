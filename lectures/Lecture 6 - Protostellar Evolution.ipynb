{
 "cells": [
  {
   "cell_type": "code",
   "execution_count": 6,
   "id": "7fb78c76",
   "metadata": {
    "slideshow": {
     "slide_type": "skip"
    }
   },
   "outputs": [],
   "source": [
    "from IPython.display import Image"
   ]
  },
  {
   "cell_type": "markdown",
   "id": "cdac9006",
   "metadata": {
    "slideshow": {
     "slide_type": "slide"
    }
   },
   "source": [
    "# Protostellar Evolution\n",
    "\n",
    "1. Timescales (Kelvin-Helmholtz vs others)\n",
    "2. Protostellar Structure & Boundary Conditions\n",
    "3. Deuterium Burning\n",
    "4. Phases of protostellar evolution"
   ]
  },
  {
   "cell_type": "markdown",
   "id": "9b55e756",
   "metadata": {
    "slideshow": {
     "slide_type": "slide"
    }
   },
   "source": [
    "## The Kelvin-Helmholtz timescale\n",
    "\n",
    "The Kelvin-Helmholtz timescale is the time required to radiate away a star's gravitational energy."
   ]
  },
  {
   "cell_type": "markdown",
   "id": "c04432f1",
   "metadata": {
    "slideshow": {
     "slide_type": "slide"
    }
   },
   "source": [
    "From dimensional analysis, we have:\n",
    "\\begin{equation}\n",
    " t_{KH} = \\frac{\\mathcal{W}}{L}\n",
    "\\end{equation}\n",
    "where $\\mathcal{W}$ is the gravitational energy and $L$ is the star's luminosity."
   ]
  },
  {
   "cell_type": "markdown",
   "id": "94757c7b",
   "metadata": {
    "slideshow": {
     "slide_type": "fragment"
    }
   },
   "source": [
    "The gravitational energy is:\n",
    "\\begin{equation}\n",
    "\\mathcal{W} \\approx \\frac{G M_*^2}{R_*}\n",
    "\\end{equation}\n",
    "i.e., it is the work done by gas falling from infinity to the star's surface."
   ]
  },
  {
   "cell_type": "markdown",
   "id": "af2d9bcd",
   "metadata": {
    "slideshow": {
     "slide_type": "fragment"
    }
   },
   "source": [
    "For a sun-like star, this is:\n",
    "\n",
    "\\begin{equation}\n",
    " t_{KH} = \\frac{G M_\\odot^2}{R_\\odot L_\\odot} = 3\\times10^{7} \\mathrm{yr}\n",
    "\\end{equation}"
   ]
  },
  {
   "cell_type": "code",
   "execution_count": 15,
   "id": "048675c4",
   "metadata": {
    "slideshow": {
     "slide_type": "slide"
    }
   },
   "outputs": [
    {
     "data": {
      "text/latex": [
       "$31.399277 \\; \\mathrm{Myr}$"
      ],
      "text/plain": [
       "<Quantity 31.39927676 Myr>"
      ]
     },
     "execution_count": 15,
     "metadata": {
      "slideshow": {
       "slide_type": "slide"
      }
     },
     "output_type": "execute_result"
    }
   ],
   "source": [
    "t_kh = (constants.G * u.M_sun**2 / (u.R_sun * u.L_sun)).to(u.Myr)\n",
    "t_kh"
   ]
  },
  {
   "cell_type": "markdown",
   "id": "ca85d708",
   "metadata": {
    "slideshow": {
     "slide_type": "slide"
    }
   },
   "source": [
    "However, for a protostar, the radius and luminosity are both larger, so a reasonable approximation is instead \n",
    "\\begin{equation}\n",
    " t_{KH} = \\frac{G M_\\odot^2}{10 R_\\odot 10 L_\\odot} = 3\\times10^{5} \\mathrm{yr}\n",
    "\\end{equation}"
   ]
  },
  {
   "cell_type": "markdown",
   "id": "9e881af5",
   "metadata": {
    "slideshow": {
     "slide_type": "slide"
    }
   },
   "source": [
    "The sound-crossing time is the time require for a pressure wave to cross a star.  It is short, much shorter than $t_{KH}$.\n",
    "\n",
    "It can be approximated as $t_s = R_* / c_s$, where, if we assume the star is in equilibrium between gas pressure and gravity, we can approximate $c_s = \\sqrt{GM/R}$, so:\n",
    "\\begin{equation}\n",
    "t_s = \\sqrt{\\frac{R^3}{GM}} = 14 \\mathrm{h} << t_{kh}\n",
    "\\end{equation}"
   ]
  },
  {
   "cell_type": "code",
   "execution_count": 16,
   "id": "ec8f15e6",
   "metadata": {
    "slideshow": {
     "slide_type": "slide"
    }
   },
   "outputs": [
    {
     "data": {
      "text/latex": [
       "$13.991835 \\; \\mathrm{h}$"
      ],
      "text/plain": [
       "<Quantity 13.99183539 h>"
      ]
     },
     "execution_count": 16,
     "metadata": {
      "slideshow": {
       "slide_type": "slide"
      }
     },
     "output_type": "execute_result"
    }
   ],
   "source": [
    "sound_crossing_time = ((10*u.R_sun)**(3/2) / (constants.G * u.M_sun)**(1/2)).to(u.hour)\n",
    "sound_crossing_time"
   ]
  },
  {
   "cell_type": "markdown",
   "id": "fc3982c7",
   "metadata": {
    "slideshow": {
     "slide_type": "slide"
    }
   },
   "source": [
    "## Interactive questions\n",
    "\n",
    "What is the Kelvin-Helmholtz timescale for a brown dwarf (assume $M=0.05 \\mathrm{M}_\\odot$, $R= 1 \\mathrm{R}_\\odot$, and $L=4 \\pi R^2 T^4 \\sigma_{SB}$ with $T=500$ K)?\n",
    "\n",
    "What about for an O-star ($M=50 \\mathrm{M}_\\odot$, $R=20 \\mathrm{R}_\\odot$, $T=30,000$ K)?"
   ]
  },
  {
   "cell_type": "markdown",
   "id": "b8548ce0",
   "metadata": {
    "slideshow": {
     "slide_type": "slide"
    }
   },
   "source": []
  },
  {
   "cell_type": "code",
   "execution_count": 17,
   "id": "2bcef32e",
   "metadata": {
    "slideshow": {
     "slide_type": "slide"
    }
   },
   "outputs": [
    {
     "data": {
      "text/latex": [
       "$1394.0744 \\; \\mathrm{Myr}$"
      ],
      "text/plain": [
       "<Quantity 1394.07441848 Myr>"
      ]
     },
     "execution_count": 17,
     "metadata": {
      "slideshow": {
       "slide_type": "slide"
      }
     },
     "output_type": "execute_result"
    }
   ],
   "source": [
    "tkh_bd = (constants.G * (0.05*u.M_sun)**2 / (1 * u.R_sun * (4*np.pi*(1*u.R_sun)**2*constants.sigma_sb*(500*u.K)**4))).to(u.Myr)\n",
    "tkh_bd"
   ]
  },
  {
   "cell_type": "code",
   "execution_count": 18,
   "id": "da762d77",
   "metadata": {
    "slideshow": {
     "slide_type": "fragment"
    }
   },
   "outputs": [
    {
     "data": {
      "text/latex": [
       "$0.013445934 \\; \\mathrm{Myr}$"
      ],
      "text/plain": [
       "<Quantity 0.01344593 Myr>"
      ]
     },
     "execution_count": 18,
     "metadata": {
      "slideshow": {
       "slide_type": "slide"
      }
     },
     "output_type": "execute_result"
    }
   ],
   "source": [
    "tkh_o= (constants.G * (50*u.M_sun)**2 / (20 * u.R_sun * (4*np.pi*(20*u.R_sun)**2*constants.sigma_sb*(30000*u.K)**4))).to(u.Myr)\n",
    "tkh_o"
   ]
  },
  {
   "cell_type": "markdown",
   "id": "fa846e98",
   "metadata": {
    "slideshow": {
     "slide_type": "slide"
    }
   },
   "source": [
    "Timescale summary\n",
    "* Protostars are in hydrostatic equilibrium\n",
    "* They can be modeled as slowly changing from one equilibrium state to another\n",
    "* $t_{KH} > t_{acc} >> t_s$ for solar-mass stars"
   ]
  },
  {
   "cell_type": "markdown",
   "id": "56d34622",
   "metadata": {
    "slideshow": {
     "slide_type": "slide"
    }
   },
   "source": [
    "# Protostellar Structure\n",
    "\n",
    "We're going to skip the detailed equations of stellar structure.  They're covered in 17.1.2 of Krumholz.  We'll skip to the questions of what is different between stars and protostars"
   ]
  },
  {
   "cell_type": "markdown",
   "id": "e96cca13",
   "metadata": {
    "slideshow": {
     "slide_type": "slide"
    }
   },
   "source": [
    "## Boundary conditions\n",
    "\n",
    "The key difference between stars & protostars is the difference in boundary conditions, specifically, that protostars are accreting."
   ]
  },
  {
   "cell_type": "markdown",
   "id": "fca9a049",
   "metadata": {
    "slideshow": {
     "slide_type": "slide"
    }
   },
   "source": [
    "The accretion rate is:\n",
    "\\begin{equation}\n",
    "\\dot{M} = 4\\pi r^2 \\rho_i v\n",
    "\\end{equation}\n",
    "\n",
    "The resulting _ram pressure_ $P = \\rho_i v_{infall}^2$ at the surface is\n",
    "\\begin{equation}\n",
    "P(M) = \\rho_i v^2 = \\frac{\\dot{M} v}{4\\pi r^2}\n",
    "\\end{equation}\n"
   ]
  },
  {
   "cell_type": "markdown",
   "id": "d476a576",
   "metadata": {
    "slideshow": {
     "slide_type": "fragment"
    }
   },
   "source": [
    "If the incoming gas is in free-fall, then we can set $v = v_{\\rm ff} = \\sqrt{2GM/R}$, which gives\n",
    "\\begin{equation}\n",
    "\\label{pbound1}\n",
    "P(M) = \\frac{\\dot{M}}{4\\pi} \\sqrt{\\frac{2 G M}{R^5}},\n",
    "\\end{equation}\n",
    "where $M$ is the total stellar mass. \n"
   ]
  },
  {
   "cell_type": "markdown",
   "id": "da01bf31",
   "metadata": {
    "slideshow": {
     "slide_type": "slide"
    }
   },
   "source": [
    "For a non-accreting star, we have the luminosity\n",
    "\\begin{equation}\n",
    "L(M) = L_{bb} =4\\pi R^2 \\sigma_{\\rm SB} T(M)^4\n",
    "\\end{equation}\n"
   ]
  },
  {
   "cell_type": "markdown",
   "id": "a9f4aa9a",
   "metadata": {
    "slideshow": {
     "slide_type": "fragment"
    }
   },
   "source": [
    "\n",
    "while for an accreting star, we have:\n",
    "\\begin{equation}\n",
    "\\label{lbound1}\n",
    "L(M) = L_{\\rm acc} + L_{\\rm bb} - L_{\\rm in}\n",
    "\\end{equation}\n",
    "\n",
    "where $L_{in}$ is a term accounting for the energy in the accretion flow that advects to the interior - i.e., that is _not_ radiated away.\n",
    "\n",
    "Stahler determined that $L_{in} \\approx \\frac{3}{4} L_{acc}$ for spherical accretion"
   ]
  },
  {
   "cell_type": "markdown",
   "id": "2e1f057f",
   "metadata": {
    "slideshow": {
     "slide_type": "slide"
    }
   },
   "source": [
    "# Accretion probably isn't spherical\n",
    "\n",
    "<img src=\"https://www.annualreviews.org/na101/home/literatum/publisher/ar/journals/content/astro/2016/astro.2015.54.issue-1/annurev-astro-081915-023347/20160906/images/large/aa540135.f1.jpeg\">"
   ]
  },
  {
   "cell_type": "markdown",
   "id": "6b3802e7",
   "metadata": {
    "slideshow": {
     "slide_type": "slide"
    }
   },
   "source": [
    "Consequences of non-spherical accretion:\n",
    "\n",
    "* The boundary condition becomes more star-like (most of the area of the sphere just looks out into empty space)\n",
    "* $L_{in} > \\frac{3}{4} L_{acc}$ \n",
    "\n",
    "* \"Hot accretion\" is $L_{in} \\approx \\frac{3}{4} L_{acc}$\n",
    "* \"Cold accretion\" is $L_{in} \\approx L_{acc}$\n",
    "\n",
    "These govern the amount of entropy added to the stellar interior, which in turn governs the stellar radius."
   ]
  },
  {
   "cell_type": "markdown",
   "id": "91efb45a",
   "metadata": {
    "slideshow": {
     "slide_type": "slide"
    }
   },
   "source": [
    "## Deuterium Burning"
   ]
  },
  {
   "cell_type": "markdown",
   "id": "c9a44ddd",
   "metadata": {
    "slideshow": {
     "slide_type": "-"
    }
   },
   "source": [
    "\\begin{equation}\n",
    "^2\\mbox{H} + \\,^1\\mbox{H}\\, \\rightarrow \\, ^3\\mbox{He} + \\gamma.\n",
    "\\end{equation}\n",
    "\n",
    "This reaction begins to occur at an appreciable rate once the temperature reaches $10^6$ K, and the reaction releases $5.5$ MeV per deuterium nucleus burned. "
   ]
  },
  {
   "cell_type": "markdown",
   "id": "8f5d8aa3",
   "metadata": {
    "slideshow": {
     "slide_type": "slide"
    }
   },
   "source": [
    "The equation describing the internal energy of the protostar is:\n",
    "\\begin{equation}\n",
    "\\frac{\\partial L}{\\partial M_r} = \\epsilon - T\\frac{\\partial s}{\\partial t}.\n",
    "\\end{equation}\n",
    "where $L$ is the luminosity, $M_r$ is the Lagrangian mass coordinate (it is monotonically increasing with radius), $s$ is the  entropy, $T$ is temperature, and $t$ is time.\n",
    "\n",
    "$\\epsilon$ is the additional energy supplied by nuclear burning.\n",
    "\n",
    "For a main-sequence star, the right side is just $\\epsilon$ - there is no change in specific entropy with time.  The change in  entropy comes only from accretion.\n"
   ]
  },
  {
   "cell_type": "markdown",
   "id": "056c7c1b",
   "metadata": {
    "slideshow": {
     "slide_type": "-"
    }
   },
   "source": [
    "We can then solve the equations of protostellar structure numerically."
   ]
  },
  {
   "cell_type": "markdown",
   "id": "b8bcb763",
   "metadata": {
    "slideshow": {
     "slide_type": "slide"
    }
   },
   "source": [
    "<img src=\"graphics/krumholzfig17.1.png\">"
   ]
  },
  {
   "cell_type": "markdown",
   "id": "e244bada",
   "metadata": {
    "slideshow": {
     "slide_type": "slide"
    }
   },
   "source": [
    "Evolutionary Phases of Protostellar Evolution\n",
    "\n",
    "1. Initial contraction\n",
    "2. Deuterium Ignition & Convection\n",
    "3. Deuterium Exhaustion & Radiative Barrier\n",
    "4. Swelling\n",
    "5. Contraction onto Main Sequence\n"
   ]
  },
  {
   "cell_type": "markdown",
   "id": "d6580145",
   "metadata": {
    "slideshow": {
     "slide_type": "slide"
    }
   },
   "source": [
    "## Initial Contraction ( < 0.2 $M_\\odot$)\n",
    "\n",
    "* only source of energy is gravitational potential energy\n",
    "* entropy lost through radiation at accretion shock\n",
    "* hot-mode accretion is self-regulating and converges to a common track:\n",
    "    * if the star starts small, $v_{ff}$ is large, the shock is hotter, more entropy is added, star grows in radius\n",
    "    * if the star starts big, $v_{ff}$ is large, the shock is cooler, less entropy is added, star shrinks in radius\n",
    "* cold-mode accretion: no entropy is added, initial conditions fully determine track\n",
    "\n",
    "(this is the intial phase in fig 17.1, up to M=0.2 M$_\\odot$)"
   ]
  },
  {
   "cell_type": "code",
   "execution_count": 7,
   "id": "5db8a8d4",
   "metadata": {
    "slideshow": {
     "slide_type": "slide"
    }
   },
   "outputs": [
    {
     "data": {
      "image/png": "[encoded data removed]",
      "text/plain": [
       "<IPython.core.display.Image object>"
      ]
     },
     "execution_count": 7,
     "metadata": {},
     "output_type": "execute_result"
    }
   ],
   "source": [
    "Image('graphics/pallastahler11.6.png')"
   ]
  },
  {
   "cell_type": "markdown",
   "id": "1f89b4dc",
   "metadata": {},
   "source": [
    "## Deuterium Ignition & Convection (0.25-0.7 $M_\\odot$)"
   ]
  },
  {
   "cell_type": "markdown",
   "id": "3df41a06",
   "metadata": {},
   "source": [
    "* Protostar grows in mass, $T_c$ increases: larger mass requires higher T to be in hydrostatic equilibrium\n",
    "* D-burning happens once $T_c$ approachs $\\sim10^6$ K.  Rate $\\dot{E}\\propto T^{11.8}$\n",
    "* \"Thermostat\" effect: $T_c$ locks at $\\sim10^6$, because any slight increase above that expands the star, adiabatically cooling back down\n",
    "* Outer radius increases w/mass.  Core contraction halts.\n",
    "* Convection starts\n",
    "\n",
    "<img src=\"graphics/krumholzfig17.1.png\" style='max-height: 50%'>"
   ]
  },
  {
   "cell_type": "markdown",
   "id": "36efd122",
   "metadata": {
    "slideshow": {
     "slide_type": "slide"
    }
   },
   "source": [
    "### Convection\n",
    "\n",
    "Before deuterium burning, there is more entropy $s$ in outer layers than inner layers b/c $v_{infall}$ increases as the mass increases (and the radius is about the same).  $ds/dr > 0$ is stable against convection.\n",
    "\n"
   ]
  },
  {
   "cell_type": "markdown",
   "id": "caf167d0",
   "metadata": {
    "slideshow": {
     "slide_type": "fragment"
    }
   },
   "source": [
    "$\\epsilon$ is now positive b/c deuterium is burning.  \n",
    "\\begin{equation}\n",
    "\\frac{\\partial L}{\\partial M_r} = \\epsilon - T\\frac{\\partial s}{\\partial t}.\n",
    "\\end{equation}\n",
    "so the entropy at the center starts to increase."
   ]
  },
  {
   "cell_type": "markdown",
   "id": "7d0f309f",
   "metadata": {
    "slideshow": {
     "slide_type": "fragment"
    }
   },
   "source": [
    "Convection drags fresh deuterium from outer layers inward to provide a continuous source of fuel."
   ]
  },
  {
   "cell_type": "markdown",
   "id": "f35c17d2",
   "metadata": {
    "slideshow": {
     "slide_type": "fragment"
    }
   },
   "source": [
    "Convection can start without deuterium burning: high accretion rates can also drive core heating and the entropy inversion requried to start convection."
   ]
  },
  {
   "cell_type": "markdown",
   "id": "c2cb638d",
   "metadata": {},
   "source": [
    "# Deuterium exhaustion, formation of radiative barrier (0.6-3 $M_\\odot$)"
   ]
  },
  {
   "cell_type": "code",
   "execution_count": null,
   "id": "191683b4",
   "metadata": {},
   "outputs": [],
   "source": []
  }
 ],
 "metadata": {
  "celltoolbar": "Slideshow",
  "kernelspec": {
   "display_name": "Python 3",
   "language": "python",
   "name": "python3"
  },
  "language_info": {
   "codemirror_mode": {
    "name": "ipython",
    "version": 3
   },
   "file_extension": ".py",
   "mimetype": "text/x-python",
   "name": "python",
   "nbconvert_exporter": "python",
   "pygments_lexer": "ipython3",
   "version": "3.9.0"
  }
 },
 "nbformat": 4,
 "nbformat_minor": 5
}
