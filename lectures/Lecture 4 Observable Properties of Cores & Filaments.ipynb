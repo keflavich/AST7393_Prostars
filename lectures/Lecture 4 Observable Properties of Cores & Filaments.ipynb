{
 "cells": [
  {
   "cell_type": "markdown",
   "id": "00606312",
   "metadata": {},
   "source": [
    "# Observations of Cores and Filaments\n",
    "\n",
    "We have derived sizes and shapes of cores and filaments.  What do they look like, in observations, in theory?"
   ]
  },
  {
   "cell_type": "markdown",
   "id": "553ecb99",
   "metadata": {},
   "source": [
    "We start with the adopted centrally-flattened density profile:\n",
    "\n",
    "\\begin{eqnarray}\n",
    "    \\rho(r) & = & \\rho_c \\frac{(c \\cdot r_0)^\\alpha}{(c \\cdot r_0)^\\alpha + r^\\alpha}\\\\\n",
    "            & = &  \\rho_c \\frac{1}{1 + (r/(c \\cdot r_0))^\\alpha}\n",
    "\\end{eqnarray}\n"
   ]
  },
  {
   "cell_type": "markdown",
   "id": "82668267",
   "metadata": {},
   "source": [
    "We'll start with $\\alpha=2.33$ and $c=2.24$ as a good approximation for the Bonnor-Ebert sphere (see homework).\n",
    "\n",
    "For local clouds, we'll adopt a temperature $T=15$ K and a pressure $P/k = 1 \\times 10^5$ K cm$^{-3}$ to match B68\n",
    "\n",
    "We'll obtain $\\rho_c$ and $r_0$ from the Bonnor-Ebert solution:"
   ]
  },
  {
   "cell_type": "code",
   "execution_count": 124,
   "id": "8d4a9536",
   "metadata": {},
   "outputs": [],
   "source": [
    "from astropy import units as u, constants"
   ]
  },
  {
   "cell_type": "code",
   "execution_count": 125,
   "id": "4d02fdc5",
   "metadata": {},
   "outputs": [
    {
     "data": {
      "text/latex": [
       "$0.2328621 \\; \\mathrm{\\frac{km}{s}}$"
      ],
      "text/plain": [
       "<Quantity 0.2328621 km / s>"
      ]
     },
     "execution_count": 125,
     "metadata": {},
     "output_type": "execute_result"
    }
   ],
   "source": [
    "T = 15*u.K\n",
    "mu = 2.3*u.Da\n",
    "P_over_K = 1e5*u.K * u.cm**-3\n",
    "\n",
    "c_s = np.sqrt(constants.k_B * T / mu).to(u.km/u.s)\n",
    "c_s"
   ]
  },
  {
   "cell_type": "code",
   "execution_count": 126,
   "id": "67acd0d2",
   "metadata": {},
   "outputs": [
    {
     "name": "stdout",
     "output_type": "stream",
     "text": [
      "M_BE = 2.7234605363985884 solMass\n"
     ]
    }
   ],
   "source": [
    "# 1.18 is the maximum dimensionless mass\n",
    "M_BE = (1.18 * c_s**4 /\n",
    "        (constants.G**(3./2.)) / (P_over_K * constants.k_B)**0.5).to(u.M_sun)\n",
    "print(f\"M_BE = {M_BE}\")"
   ]
  },
  {
   "cell_type": "code",
   "execution_count": 127,
   "id": "d98a22ba",
   "metadata": {},
   "outputs": [
    {
     "name": "stdout",
     "output_type": "stream",
     "text": [
      "Central & min density: 3.5e-19 g / cm3, 2.5e-20 g / cm3  (n_c = rho_c/mu_h2 = 7.5e+04 1 / cm3)\n"
     ]
    }
   ],
   "source": [
    "# 1.18 is the maximum dimensionless mass\n",
    "rho_S = (1.18**2*c_s**6 / M_BE**2 / constants.G**3).to(u.g/u.cm**3)\n",
    "# 13.77 is the contrast rho_S/rho_c at maximum mass\n",
    "rho_c = rho_S * 13.77\n",
    "volume_density = (rho_c/(2.8*u.Da)).to(u.cm**-3)\n",
    "print(f\"Central & min density: {rho_c:0.2g}, {rho_S:0.2g}  (n_c = rho_c/mu_h2 = {volume_density:0.2g})\")"
   ]
  },
  {
   "cell_type": "code",
   "execution_count": 128,
   "id": "33af0dbf",
   "metadata": {},
   "outputs": [
    {
     "name": "stdout",
     "output_type": "stream",
     "text": [
      "r0 = 2870.5 AU\n"
     ]
    }
   ],
   "source": [
    "# r0 is the scaling constant, xi = r / r0\n",
    "r0 = (c_s / (4 * np.pi * constants.G * rho_c)**0.5).to(u.au)\n",
    "print(f\"r0 = {r0.to(u.au):0.1f}\")"
   ]
  },
  {
   "cell_type": "markdown",
   "id": "10943f47",
   "metadata": {},
   "source": [
    "Assuming the core remains optically thin and isothermal, we need only to determine its column density to determine its observable properties."
   ]
  },
  {
   "cell_type": "markdown",
   "id": "702c5d13",
   "metadata": {},
   "source": [
    "Surface density $\\Sigma = \\int \\rho dr$ - it is simply the sum of the density along the line of sight."
   ]
  },
  {
   "cell_type": "markdown",
   "id": "6a11795b",
   "metadata": {},
   "source": [
    "$$\n",
    "\\Sigma = \\rho_c c r_0^\\alpha \\int_{-\\infty}^\\infty \\frac{1}{(c r_0)^\\alpha +r^\\alpha} dr\n",
    "$$"
   ]
  },
  {
   "cell_type": "markdown",
   "id": "8ca7bcb4",
   "metadata": {},
   "source": [
    "It's easiest to evaluate this numerically.\n",
    "\n",
    "I'm going to walk through a 'complete' simulation of a BE sphere as observed at 1 mm wavelength"
   ]
  },
  {
   "cell_type": "code",
   "execution_count": 129,
   "id": "152ff44c",
   "metadata": {},
   "outputs": [],
   "source": [
    "import numpy as np"
   ]
  },
  {
   "cell_type": "code",
   "execution_count": 130,
   "id": "3424c923",
   "metadata": {},
   "outputs": [],
   "source": [
    "# make a 3d grid:\n",
    "sz = 100 # set the resolution: but not too big!\n",
    "zz,yy,xx = grid = np.indices([sz,sz,sz])"
   ]
  },
  {
   "cell_type": "code",
   "execution_count": 131,
   "id": "eb91ca67",
   "metadata": {},
   "outputs": [],
   "source": [
    "# calculate radius from center\n",
    "# set r_max = twice 6.4 r_0 (the 'core' is not defined outside this radius)\n",
    "# 6.4 is the value of xi at maximum dimensionless mass\n",
    "rmax = 6.4 * r0\n",
    "# calculate a 3d grid of radii\n",
    "rr_3d = ((zz-sz/2.)**2 + (yy-sz/2.)**2 + (xx-sz/2.)**2)**0.5\n",
    "# rescale them such that the edges of the grid are equal to r_max\n",
    "rr_3d = rr_3d / (sz/2.) * rmax\n",
    "# we do a 2d version too, for display purposes\n",
    "rr_2d = ((yy-sz/2.)**2 + (xx-sz/2.)**2)**0.5\n",
    "rr_2d = rr_2d / (sz/2.) * rmax"
   ]
  },
  {
   "cell_type": "code",
   "execution_count": 132,
   "id": "50567fe7",
   "metadata": {},
   "outputs": [],
   "source": [
    "# calculate density\n",
    "def density_func(rr, const=2.24, alpha=2.33, r0=r0):\n",
    "    return rho_c   / (1 + (rr/(const*r0))**alpha)\n",
    "density = density_func(rr_3d)"
   ]
  },
  {
   "cell_type": "code",
   "execution_count": 133,
   "id": "1d6f10bc",
   "metadata": {},
   "outputs": [
    {
     "name": "stdout",
     "output_type": "stream",
     "text": [
      "Mean density=4.254526237168525e-20 g / cm3\n",
      "Mass in box 2.7639815902643425 solMass should be M_BE=2.7234605363985884 solMass  (ratio=1.0148785169912313)\n"
     ]
    }
   ],
   "source": [
    "# just to verify, we can take the mean density over the whole volume and multiply\n",
    "# by the volume to get the mass\n",
    "mass_in_box = (density[rr_3d<rmax].mean() * (4/3*np.pi*rmax**3)).to(u.M_sun)\n",
    "print(f\"Mean density={density.mean()}\")\n",
    "print(f\"Mass in box {mass_in_box} should be M_BE={M_BE}  (ratio={mass_in_box/M_BE})\")"
   ]
  },
  {
   "cell_type": "code",
   "execution_count": 134,
   "id": "cd8ee46b",
   "metadata": {},
   "outputs": [],
   "source": [
    "# integrate along the line-of-sight\n",
    "# (this is spherically symmetric so we can use any axis)\n",
    "dz = 2 * rmax / sz\n",
    "column = (density * dz).sum(axis=0).to(u.g/u.cm**2)"
   ]
  },
  {
   "cell_type": "code",
   "execution_count": 135,
   "id": "46f7eb18",
   "metadata": {},
   "outputs": [],
   "source": [
    "%matplotlib inline\n",
    "import pylab as pl\n",
    "pl.style.use('dark_background')\n",
    "pl.rcParams['font.size'] = 14\n",
    "from astropy.visualization import quantity_support, simple_norm"
   ]
  },
  {
   "cell_type": "code",
   "execution_count": 136,
   "id": "259185a7",
   "metadata": {},
   "outputs": [
    {
     "data": {
      "image/png": "[encoded data removed]",
      "text/plain": [
       "<Figure size 432x288 with 2 Axes>"
      ]
     },
     "metadata": {},
     "output_type": "display_data"
    }
   ],
   "source": [
    "with quantity_support():\n",
    "    pl.imshow(column, extent=[-rmax.value,rmax.value,-rmax.value,rmax.value])\n",
    "    cb = pl.colorbar()\n",
    "    cb.set_label(\"$\\\\Sigma$ [g cm$^{-2}$]\")\n",
    "    pl.xlabel(\"X [au]\")\n",
    "    pl.ylabel(\"Y [au]\")"
   ]
  },
  {
   "cell_type": "code",
   "execution_count": 137,
   "id": "0fe1d4f9",
   "metadata": {
    "slideshow": {
     "slide_type": "skip"
    }
   },
   "outputs": [
    {
     "data": {
      "image/png": "[encoded data removed]",
      "text/plain": [
       "<Figure size 432x288 with 2 Axes>"
      ]
     },
     "metadata": {},
     "output_type": "display_data"
    }
   ],
   "source": [
    "# same plot log-scaled\n",
    "with quantity_support():\n",
    "    pl.imshow(column, extent=[-rmax.value,rmax.value,-rmax.value,rmax.value],\n",
    "              norm=simple_norm(column, stretch='log'))\n",
    "    cb = pl.colorbar()\n",
    "    cb.set_label(\"$\\\\Sigma$ [g cm$^{-2}$]\")\n",
    "    pl.xlabel(\"X [au]\")\n",
    "    pl.ylabel(\"Y [au]\")"
   ]
  },
  {
   "cell_type": "code",
   "execution_count": null,
   "id": "754fa1b1",
   "metadata": {},
   "outputs": [],
   "source": [
    "with quantity_support():\n",
    "    colors = pl.rcParams[\"axes.prop_cycle\"].by_key()[\"color\"]\n",
    "    ax1 = pl.gca()\n",
    "    ax1.loglog(rr_2d[50,50,:], column[50,:], label='Surface Density vs radius', color=colors[0])\n",
    "    ax2 = ax1.twinx()\n",
    "    ax2.loglog(rr_3d[50,50,:], density[50,50,:], label='Volume Density vs radius', color=colors[1])\n",
    "    ax1.set_xlabel(\"Radius (AU)\")\n",
    "\n",
    "    lines, labels = ax1.get_legend_handles_labels()\n",
    "    lines2, labels2 = ax2.get_legend_handles_labels()\n",
    "    _=ax2.legend(lines + lines2, labels + labels2, loc='best')"
   ]
  },
  {
   "cell_type": "code",
   "execution_count": null,
   "id": "5d05eda3",
   "metadata": {
    "scrolled": true
   },
   "outputs": [],
   "source": [
    "with quantity_support():\n",
    "\n",
    "    colors = pl.rcParams[\"axes.prop_cycle\"].by_key()[\"color\"]\n",
    "    ax1 = pl.gca()\n",
    "    ax1.semilogy(rr_2d[50,50,:], column[50,:],\n",
    "                 label='Surface Density vs radius', color=colors[0])\n",
    "    ax1.set_xlabel(\"Radius (AU)\")\n",
    "    \n",
    "    ax2 = ax1.twinx()\n",
    "    ax2.semilogy(rr_3d[50,50,:], density[50,50,:],\n",
    "                 label='Volume Density vs radius', color=colors[1])\n",
    "\n",
    "    lines, labels = ax1.get_legend_handles_labels()\n",
    "    lines2, labels2 = ax2.get_legend_handles_labels()\n",
    "    _=ax2.legend(lines + lines2, labels + labels2, loc='best')\n",
    "    "
   ]
  },
  {
   "cell_type": "markdown",
   "id": "33920eda",
   "metadata": {},
   "source": [
    "Convert to number densities:\n",
    "\n",
    "(peak N(H$_2$) should be $\\sim2.7\\times10^{22} \\mathrm{cm}^{-2}$ according to [Nielbock+ 2012](https://www.aanda.org/articles/aa/pdf/2012/11/aa19139-12.pdf) [ADS](https://ui.adsabs.harvard.edu/abs/2012A%26A...547A..11N/abstract), who do extensive modeling of B68)"
   ]
  },
  {
   "cell_type": "code",
   "execution_count": null,
   "id": "a188e808",
   "metadata": {
    "scrolled": true
   },
   "outputs": [],
   "source": [
    "with quantity_support():\n",
    "\n",
    "    colors = pl.rcParams[\"axes.prop_cycle\"].by_key()[\"color\"]\n",
    "    ax1 = pl.gca()\n",
    "    ax1.set_xlabel(\"Radius (AU)\")\n",
    "\n",
    "    ax1.loglog(rr_2d[50,50,:], (column[50,:]/(2.8*u.Da)).to(u.cm**-2),\n",
    "               label='Column Density N(H$_2$) vs radius', color=colors[0])\n",
    "    ax1.set_yticks([5e21, 1e22, 2e22])\n",
    "    ax1.set_yticklabels([r'$5\\times10^{21}$','$10^{22}$', r'$2\\times10^{22}$'])\n",
    "    \n",
    "    ax2 = ax1.twinx()\n",
    "    ax2.loglog(rr_3d[50,50,:], (density[50,50,:]/(2.8*u.Da)).to(u.cm**-3),\n",
    "               label='H$_2$ Volume Density vs radius', color=colors[1])\n",
    "    ax2.set_yticks([1e4, 2e4, 4e4])\n",
    "    ax2.set_yticklabels([r'$1\\times10^{4}$',r'$2\\times10^{4}$', r'$4\\times10^{4}$'])\n",
    "\n",
    "\n",
    "    lines, labels = ax1.get_legend_handles_labels()\n",
    "    lines2, labels2 = ax2.get_legend_handles_labels()\n",
    "    _=ax2.legend(lines + lines2, labels + labels2, loc='best')"
   ]
  },
  {
   "cell_type": "markdown",
   "id": "54524f3a",
   "metadata": {},
   "source": [
    "# Dust Emissivity\n",
    "\n"
   ]
  },
  {
   "cell_type": "markdown",
   "id": "203f6b69",
   "metadata": {},
   "source": [
    "A blackbody has the form:\n",
    "\n",
    "$$B_\\nu = \\frac{2 h \\nu^3}{c^2} \\left(1-e^{h \\nu / k_B T}\\right)^{-1}$$\n",
    "\n",
    "with units $[B_\\nu] = \\mathrm{Jy}$\n",
    "\n",
    "The spectral flux density from a blackbody $F_{\\nu} = \\pi B_{\\nu}$ from integrating over a hemisphere (see eqn 2.107-2.110 from https://www.cv.nrao.edu/~sransom/web/Ch2.html).  The flux emitted into a steradian is then $S_\\nu = F_\\nu / (2 \\pi) = B_\\nu/2$, since the whole sphere is 4$\\pi$ steradians."
   ]
  },
  {
   "cell_type": "markdown",
   "id": "cf504f07",
   "metadata": {},
   "source": [
    "Dust has a long-wavelength opacity\n",
    "\n",
    "$$\\kappa_{dust} = \\left(\\frac{\\nu}{\\nu_0}\\right)^\\beta$$"
   ]
  },
  {
   "cell_type": "markdown",
   "id": "6395f785",
   "metadata": {},
   "source": [
    "The modified blackbody for dust is given by:\n",
    "\n",
    "$$S_\\nu = \\frac{1}{2} \\frac{2 h \\nu^3}{c^2} \\left(1-e^{h \\nu / k_B T}\\right)^{-1} \\left(1-e^{-\\kappa_\\nu \\Sigma}\\right)$$\n",
    "\n",
    "in units of [Jy sr$^{-1}$] where $\\kappa_\\nu = \\kappa_{\\nu_0} \\left(\\frac{\\nu}{\\nu_0}\\right)^{\\beta}$ is the dust opacity index with units $[\\kappa_\\nu] = \\frac{\\mathrm{cm}^2}{\\mathrm{g}}$.  \n",
    "\n",
    "\n",
    "$\\Sigma$ is the surface density in $[\\Sigma] = \\frac{\\mathrm{g}}{\\mathrm{cm^2}}$.  \n"
   ]
  },
  {
   "cell_type": "markdown",
   "id": "b7bf0e86",
   "metadata": {},
   "source": [
    "The optical depth $\\tau = \\kappa_\\nu \\Sigma$\n"
   ]
  },
  {
   "cell_type": "markdown",
   "id": "a23d9059",
   "metadata": {},
   "source": [
    "We can adopt $\\kappa_{1 mm} = 0.0136$ cm$^{-2}$ g from [Ossenkopf & Henning 1994](https://ui.adsabs.harvard.edu/abs/1994A%26A...291..943O/abstract).\n",
    "\n",
    "Note that this is the _opacity per total mass_ - we call it the dust opacity, but the mass is the mass of _all gas and dust_."
   ]
  },
  {
   "cell_type": "markdown",
   "id": "bb6d4ef0",
   "metadata": {},
   "source": [
    "We can now calculate the optical depth of our core (at a hypothetical observed wavelength of 1mm):"
   ]
  },
  {
   "cell_type": "code",
   "execution_count": null,
   "id": "e503f3cf",
   "metadata": {},
   "outputs": [],
   "source": [
    "opacity = 0.0136*u.cm**2*u.g**-1\n",
    "optical_depth = (column * opacity).decompose()"
   ]
  },
  {
   "cell_type": "code",
   "execution_count": null,
   "id": "57d5ba03",
   "metadata": {},
   "outputs": [],
   "source": [
    "with quantity_support():\n",
    "    colors = pl.rcParams[\"axes.prop_cycle\"].by_key()[\"color\"]\n",
    "    ax1 = pl.gca()\n",
    "    ax1.loglog(rr_2d[50,50,:], optical_depth[50,:], label='Optical Depth vs radius', color=colors[0])\n",
    "    ax1.set_xlabel(\"Radius (AU)\")\n",
    "    ax1.legend(loc='best')\n",
    "    ax1.set_ylabel(\"$\\\\tau$\")"
   ]
  },
  {
   "cell_type": "markdown",
   "id": "645673ec",
   "metadata": {},
   "source": [
    "# Optical depth -> intensity\n",
    "\n",
    "This is a very optically thin object at long wavelengths; it's only marginally optically thick at near-infrared wavelengths."
   ]
  },
  {
   "cell_type": "markdown",
   "id": "5dfbc749",
   "metadata": {},
   "source": [
    "The modified blackbody approximates, in the $\\tau<<1$ regime, to:\n",
    "\\begin{eqnarray}\n",
    "S_\\nu & = & \\frac{1}{2} \\frac{2 h \\nu^3}{c^2} \\left(e^{h \\nu / k_B T}-1\\right)^{-1} \\kappa_\\nu \\Sigma \\\\\n",
    "      & = & \\frac{1}{2} \\frac{2 h \\nu^3}{c^2} \\left(e^{h \\nu / k_B T}-1\\right)^{-1} \\tau\n",
    "\\end{eqnarray}\n",
    "\n",
    "(recall the Taylor series: $e^{-x} \\approx 1-x+\\mathcal{O}(x^2)$)\n"
   ]
  },
  {
   "cell_type": "markdown",
   "id": "f066aae8",
   "metadata": {},
   "source": [
    "We can calculate this:"
   ]
  },
  {
   "cell_type": "code",
   "execution_count": null,
   "id": "d3741e67",
   "metadata": {},
   "outputs": [],
   "source": [
    "nu = (1*u.mm).to(u.GHz, u.spectral())\n",
    "fnu = (constants.h * nu**3 / constants.c**2 *\n",
    "       (np.exp(constants.h * nu / (constants.k_B * T))-1)**-1 * \n",
    "       optical_depth).to(u.Jy) / u.sr"
   ]
  },
  {
   "cell_type": "markdown",
   "id": "41ae71c1",
   "metadata": {},
   "source": [
    "The _brightness temperature_ is commonly used to express the surface brightness of an object.  It is given by\n",
    "\n",
    "$$F_\\nu \\equiv \\frac{2 k_B T_B \\nu^2}{c^2} $$\n",
    "\n",
    "i.e., it is defined by the Rayleigh-Jeans approximation."
   ]
  },
  {
   "cell_type": "markdown",
   "id": "3253a964",
   "metadata": {},
   "source": [
    "Therefore\n",
    "$$ T_B = \\frac{c^2 F_\\nu}{2 k_B \\nu^2}$$"
   ]
  },
  {
   "cell_type": "code",
   "execution_count": null,
   "id": "208f943d",
   "metadata": {},
   "outputs": [],
   "source": [
    "tb = (fnu * u.sr * constants.c**2 / (2*constants.k_B * nu**2)).to(u.K)"
   ]
  },
  {
   "cell_type": "code",
   "execution_count": null,
   "id": "0eb5cd5a",
   "metadata": {},
   "outputs": [],
   "source": [
    "# astropy version (same as above)\n",
    "tb2 = fnu.to(u.K, u.brightness_temperature(nu))"
   ]
  },
  {
   "cell_type": "code",
   "execution_count": null,
   "id": "ed58c3b2",
   "metadata": {
    "scrolled": true
   },
   "outputs": [],
   "source": [
    "with quantity_support():\n",
    "    colors = pl.rcParams[\"axes.prop_cycle\"].by_key()[\"color\"]\n",
    "    ax1 = pl.subplot()\n",
    "    ax1.loglog(rr_2d[50,50,:], fnu[50,:].to(u.MJy/u.sr), label='Surface Brightness vs radius', color=colors[0])\n",
    "    ax2 = ax1.twinx()\n",
    "    ax2.loglog(rr_2d[50,50,:], tb[50,:], label='Brightness Temperature vs radius', color='w', linestyle='--')\n",
    "    ax2.loglog(rr_2d[50,50,:], tb2[50,:], label='Brightness Temperature vs radius', color='r', linestyle=':')\n",
    "    ax1.set_xlabel(\"Radius (AU)\")\n",
    "    ax1.legend(loc='best')\n",
    "    ax1.set_ylabel(\"$F_{1 mm}$ [MJy sr$^{-1}$]\")\n",
    "    ax2.set_ylabel(\"$T_B$ [K]\")"
   ]
  },
  {
   "cell_type": "markdown",
   "id": "00fb93eb",
   "metadata": {},
   "source": [
    "What would we observe if we measured the whole object with a telescope whose resolution is ~$r_0$?\n",
    "\n",
    "This is a 'beam matched' observation: we barely resolve the object."
   ]
  },
  {
   "cell_type": "markdown",
   "id": "31a62554",
   "metadata": {},
   "source": [
    "We simply average the brightness over the area and multiply by the area to obtain the total flux."
   ]
  },
  {
   "cell_type": "markdown",
   "id": "bb5d6f2a",
   "metadata": {},
   "source": [
    "Let's say we're observing B68, which has $r_{FWHM}\\sim150\"$.  "
   ]
  },
  {
   "cell_type": "code",
   "execution_count": null,
   "id": "5d544671",
   "metadata": {},
   "outputs": [],
   "source": [
    "FWHM_to_sigma = np.sqrt(8*np.log(2))\n",
    "total_fluxdensity = (fnu[rr_2d[0,:,:] < rmax].mean() * (150*u.arcsec / FWHM_to_sigma)**2 * np.pi).to(u.Jy)\n",
    "total_fluxdensity"
   ]
  },
  {
   "cell_type": "markdown",
   "id": "5ddbeb3b",
   "metadata": {
    "slideshow": {
     "slide_type": "slide"
    }
   },
   "source": [
    "From [Bianchi+ 2003](https://www.aanda.org/articles/aa/pdf/2003/09/aael211.pdf):\n",
    "\"The final SIMBA image of Barnard 68 has a residual noise of 5.5 mJy beam$^{−1}$ (1-σ), equivalent to 0.36 MJy sr$^{−1}$ for the SIMBA resolution. The integrated flux is $F_{1.2 mm} = 0.7 \\pm 0.2$ Jy.\""
   ]
  },
  {
   "cell_type": "markdown",
   "id": "c8f2fbb4",
   "metadata": {},
   "source": [
    "We can compare their surface brightness sensitivity to our predicted flux"
   ]
  },
  {
   "cell_type": "code",
   "execution_count": null,
   "id": "8d7717bb",
   "metadata": {
    "scrolled": true
   },
   "outputs": [],
   "source": [
    "with quantity_support():\n",
    "    colors = pl.rcParams[\"axes.prop_cycle\"].by_key()[\"color\"]\n",
    "    ax1 = pl.subplot()\n",
    "    ax1.loglog(rr_2d[50,50,:], fnu[50,:].to(u.MJy/u.sr), label='Surface Brightness vs radius', color=colors[0])\n",
    "    ax1.axhline(0.36*u.MJy/u.sr, linestyle='--', label='Bianchi+ noise level')\n",
    "    ax1.set_xlabel(\"Radius (AU)\")\n",
    "    ax1.legend(loc='lower left')\n",
    "    ax1.set_ylabel(\"$F_{1 mm}$ [MJy sr$^{-1}$]\")\n",
    "    ax2.set_ylabel(\"$T_B$ [K]\")"
   ]
  },
  {
   "cell_type": "markdown",
   "id": "6dc2aa2d",
   "metadata": {},
   "source": [
    "The flux we measure is the same we would observe if B68 were 10x further (D=1.2 kpc) and therefore smaller (15\")"
   ]
  },
  {
   "cell_type": "markdown",
   "id": "6272f7f1",
   "metadata": {},
   "source": [
    "# What about filaments?\n",
    "\n",
    "We can do basically the same thing"
   ]
  },
  {
   "cell_type": "code",
   "execution_count": null,
   "id": "f3e5a31e",
   "metadata": {},
   "outputs": [],
   "source": [
    "# Eqn 60 of Ostriker\n",
    "c_s = 0.2*u.km/u.s\n",
    "M_crit_cyl = (2 * c_s**2 / constants.G).to(u.M_sun/u.pc)\n",
    "M_crit_cyl"
   ]
  },
  {
   "cell_type": "markdown",
   "id": "e2db0f18",
   "metadata": {},
   "source": [
    "Equation 62 of Ostriker is:\n",
    "\n",
    "$$ r_{1/2} = \\left(\\frac{M_{crit}}{\\pi \\rho_c}\\right)^{1/2}$$\n",
    "\n",
    "or\n",
    "$$ \\rho_c = \\frac{M_{crit}}{\\pi r_{1/2}^2} = \\frac{M_{crit}}{8 \\pi r_{0}^2} $$"
   ]
  },
  {
   "cell_type": "code",
   "execution_count": null,
   "id": "0ffed7c1",
   "metadata": {},
   "outputs": [],
   "source": [
    "# we make an arbitrary choice for r_half\n",
    "r_half = 0.1*u.pc\n",
    "r0_cyl = r_half/8**0.5\n",
    "rho_c_cyl = M_crit_cyl / (np.pi * 8 * r0_cyl**2)\n",
    "r0_cyl, r_half, rho_c_cyl, (rho_c_cyl/mu).to(u.cm**-3)"
   ]
  },
  {
   "cell_type": "code",
   "execution_count": null,
   "id": "f8b927b9",
   "metadata": {},
   "outputs": [],
   "source": [
    "((c_s**2 / (np.pi * 4 * constants.G * rho_c_cyl))**0.5).to(u.pc)"
   ]
  },
  {
   "cell_type": "code",
   "execution_count": null,
   "id": "8705303c",
   "metadata": {},
   "outputs": [],
   "source": [
    "# we'll use r_max = twice r_half\n",
    "rmaxcyl = 2 * r_half\n",
    "\n",
    "# now we _only_ use 2D coordinates\n",
    "rr_2dcyl = ((yy-sz/2.)**2 + (xx-sz/2.)**2)**0.5\n",
    "rr_2dcyl = rr_2dcyl / (sz/2.) * rmaxcyl\n",
    "\n",
    "print(f\"r_max = {rmaxcyl}\")"
   ]
  },
  {
   "cell_type": "markdown",
   "id": "f1cf522a",
   "metadata": {},
   "source": [
    "Equation 57 of Ostriker is:\n",
    "\n",
    "$$ \\rho(r) = \\rho_c \\left(\\frac{1}{1+\\frac{1}{8} \\left(\\frac{r}{r_0}\\right)^2}\\right)^2 $$"
   ]
  },
  {
   "cell_type": "code",
   "execution_count": null,
   "id": "5e287480",
   "metadata": {},
   "outputs": [],
   "source": [
    "# calculate cylinder density\n",
    "def cyl_density_func(rr, r0=r0_cyl, rho_c_cyl=rho_c_cyl):\n",
    "    xi = rr / r0\n",
    "    return rho_c_cyl * (1 / (1 + (1/8.)*(xi)**2))**2\n",
    "cyl_density = cyl_density_func(rr_2dcyl)"
   ]
  },
  {
   "cell_type": "code",
   "execution_count": null,
   "id": "34f61c6c",
   "metadata": {},
   "outputs": [],
   "source": [
    "with quantity_support():\n",
    "    rr = np.geomspace(0.01*r0_cyl, 20*r_half, 5000)\n",
    "    pl.loglog(rr, cyl_density_func(rr))\n",
    "integral = (cyl_density_func(rr)[:-1]*np.diff(rr) * 2 * np.pi * rr[:-1]).sum()\n",
    "print(f\"Integral {integral} should be approximately {M_crit_cyl}\")"
   ]
  },
  {
   "cell_type": "code",
   "execution_count": null,
   "id": "a0fdef5d",
   "metadata": {},
   "outputs": [],
   "source": [
    "# our integral will now be along the x direction instead of z\n",
    "dx = 2 * rmaxcyl / sz\n",
    "cyl_column = (cyl_density * dx).sum(axis=2).to(u.g/u.cm**2)"
   ]
  },
  {
   "cell_type": "code",
   "execution_count": null,
   "id": "aa2a6c1d",
   "metadata": {},
   "outputs": [],
   "source": [
    "# sanity check: the dx's calculated two ways should be equal\n",
    "from astropy.tests.helper import assert_quantity_allclose\n",
    "assert_quantity_allclose(np.diff(rr_2dcyl[50,50,:]).to(u.au)[-1], dx.to(u.au))\n",
    "np.diff(rr_2dcyl[50,50,:]).to(u.au)[-1], dx.to(u.au)"
   ]
  },
  {
   "cell_type": "code",
   "execution_count": null,
   "id": "80bbc104",
   "metadata": {},
   "outputs": [],
   "source": [
    "# check that the integral gives our target line density\n",
    "# must be >1/2 M_crit, since we have defined our radius such that that is true\n",
    "line_mass_density = (cyl_density[0,:,:]*dx**2).sum().to(u.M_sun/u.pc)\n",
    "print(f\"Line mass density calculated = {line_mass_density}\")\n",
    "assert line_mass_density > 0.5 * M_crit_cyl"
   ]
  },
  {
   "cell_type": "code",
   "execution_count": null,
   "id": "5593181b",
   "metadata": {},
   "outputs": [],
   "source": [
    "with quantity_support():\n",
    "    pl.imshow(cyl_column, extent=[-rmax.value,rmax.value,-rmax.value,rmax.value])\n",
    "    cb = pl.colorbar()\n",
    "    cb.set_label(\"$\\\\Sigma$ [g cm$^{-2}$]\")\n",
    "    pl.xlabel(\"X [au]\")\n",
    "    pl.ylabel(\"Y [au]\")"
   ]
  },
  {
   "cell_type": "markdown",
   "id": "7dcd3d1d",
   "metadata": {},
   "source": [
    "We can compare the radial profiles of the sphere and cylinder"
   ]
  },
  {
   "cell_type": "code",
   "execution_count": null,
   "id": "0e2f6e81",
   "metadata": {
    "scrolled": true
   },
   "outputs": [],
   "source": [
    "with quantity_support():\n",
    "\n",
    "    colors = pl.rcParams[\"axes.prop_cycle\"].by_key()[\"color\"]\n",
    "    ax1 = pl.gca()\n",
    "    ax1.set_xlabel(\"Radius (AU)\")\n",
    "\n",
    "    ax1.loglog(rr_3d[50,50,:], (density[50,50,:]/(2.8*u.Da)).to(u.cm**-3),\n",
    "               label='H$_2$ Volume Density vs radius (sphere)')\n",
    "    ax1.loglog(rr_2d[50,:,50], (cyl_density[50,:,50]/(2.8*u.Da)).to(u.cm**-3),\n",
    "               label='H$_2$ Volume Density vs radius (filament)', linestyle='--')\n",
    "\n",
    "    ax1.legend(loc='best')"
   ]
  },
  {
   "cell_type": "code",
   "execution_count": null,
   "id": "7279234d",
   "metadata": {},
   "outputs": [],
   "source": [
    "with quantity_support():\n",
    "\n",
    "    colors = pl.rcParams[\"axes.prop_cycle\"].by_key()[\"color\"]\n",
    "    ax1 = pl.gca()\n",
    "    ax1.set_xlabel(\"Radius (AU)\")\n",
    "\n",
    "    ax1.loglog(rr_2d[50,50,:], (column[50,:]/(2.8*u.Da)).to(u.cm**-2),\n",
    "               label='Column Density N(H$_2$) vs radius (sphere)',)\n",
    "    ax1.loglog(rr_2d[50,50,:], (cyl_column[50,:]/(2.8*u.Da)).to(u.cm**-2),\n",
    "               label='Column Density N(H$_2$) vs radius (cylinder)',)    \n",
    "    #ax1.set_yticks([5e21, 1e22, 2e22])\n",
    "    #ax1.set_yticklabels([r'$5\\times10^{21}$','$10^{22}$', r'$2\\times10^{22}$'])\n",
    "\n",
    "    ax1.legend(loc='best')"
   ]
  },
  {
   "cell_type": "code",
   "execution_count": null,
   "id": "bb31e883",
   "metadata": {},
   "outputs": [],
   "source": []
  }
 ],
 "metadata": {
  "celltoolbar": "Slideshow",
  "kernelspec": {
   "display_name": "Python 3.9",
   "language": "python",
   "name": "py39"
  },
  "language_info": {
   "codemirror_mode": {
    "name": "ipython",
    "version": 3
   },
   "file_extension": ".py",
   "mimetype": "text/x-python",
   "name": "python",
   "nbconvert_exporter": "python",
   "pygments_lexer": "ipython3",
   "version": "3.9.6"
  },
  "rise": {
   "transition": "none"
  }
 },
 "nbformat": 4,
 "nbformat_minor": 5
}
