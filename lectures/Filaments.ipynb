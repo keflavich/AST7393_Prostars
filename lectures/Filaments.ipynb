{
 "cells": [
  {
   "cell_type": "markdown",
   "id": "e6960254",
   "metadata": {
    "slideshow": {
     "slide_type": "slide"
    }
   },
   "source": [
    "## Filaments in star formation\n",
    "\n",
    "Filaments are high aspect ratio features seen in the interstellar medium."
   ]
  },
  {
   "cell_type": "markdown",
   "id": "8e81ac44",
   "metadata": {
    "slideshow": {
     "slide_type": "fragment"
    }
   },
   "source": [
    "There are a lot of open questions about them."
   ]
  },
  {
   "cell_type": "markdown",
   "id": "b48a5404",
   "metadata": {
    "slideshow": {
     "slide_type": "slide"
    }
   },
   "source": [
    "Andre et al ([Andre+ 2019](https://ui.adsabs.harvard.edu/#abs/2019A%26A...629L...4A/abstract)\n",
    "[Andre 2017](https://ui.adsabs.harvard.edu/#abs/2017CRGeo.349..187A/abstract)\n",
    "[Andre+ 2014 (PPVI)](https://ui.adsabs.harvard.edu/#abs/2014prpl.conf...27A/abstract)\n",
    "[Andre+ 2010](https://ui.adsabs.harvard.edu/#abs/2010A%26A...518L.102A/abstract), [Arzoumanian+ 2019](https://ui.adsabs.harvard.edu/#abs/2019A%26A...621A..42A/abstract), [Arzoumanian+ 2011](https://ui.adsabs.harvard.edu/#abs/2011A%26A...529L...6A/abstract), [Konyves+ 2015](https://ui.adsabs.harvard.edu/#abs/2015A%26A...584A..91K/abstract))\n",
    "observed filaments with Herschel and argue that filaments are the fundamental units of star formation."
   ]
  },
  {
   "cell_type": "markdown",
   "id": "b02e2423",
   "metadata": {
    "slideshow": {
     "slide_type": "slide"
    }
   },
   "source": [
    "## What are filaments?\n",
    "\n",
    "<img style='max-width:70%' src=\"https://cdn.eso.org/images/large/eso1209a.jpg\">"
   ]
  },
  {
   "cell_type": "markdown",
   "id": "e613128f",
   "metadata": {
    "slideshow": {
     "slide_type": "slide"
    }
   },
   "source": [
    "<img src=\"https://cdn.sci.esa.int/documents/33622/35366/1567216170334-ESA_Herschel_Taurus.jpg/78948326-acca-220e-4d7f-66f9c784ff8f?version=1.0&t=1567216174051\" style='max-width:70%'>"
   ]
  },
  {
   "cell_type": "markdown",
   "id": "baaa2baa",
   "metadata": {
    "slideshow": {
     "slide_type": "slide"
    }
   },
   "source": [
    "The <a href=\"https://ui.adsabs.harvard.edu/abs/2011A%26A...529L...6A/graphics\">Andre+ team argue</a> they have a universal width:\n",
    "\n",
    "<!--<img src=\"https://s3.amazonaws.com/adsabs-thumbnails/seri/A%2BA/0529/aa16596-11/aa16596-11-fig3.jpg\">-->\n",
    "<img src=\"https://www.aanda.org/articles/aa/full_html/2011/05/aa16596-11/aa16596-11-fig3.jpg\">"
   ]
  },
  {
   "cell_type": "markdown",
   "id": "f689077f",
   "metadata": {
    "slideshow": {
     "slide_type": "slide"
    }
   },
   "source": [
    "Filaments are identified with filament-finding algorithms like <a href=\"http://www2.iap.fr/users/sousbie/web/html/indexd41d.html\">DisPerSE</a> and <a href=\"https://github.com/e-koch/FilFinder\">FilFinder</a> (see [Chira+ 2018](https://ui.adsabs.harvard.edu/abs/2018A%26A...610A..62C/abstract) for a comparison)\n",
    "\n",
    "<img src=\"https://media.springernature.com/lw785/springer-static/image/prt%3A978-3-662-44185-5%2F10/MediaObjects/978-3-662-44185-5_10_Part_Fig2-5223_HTML.jpg\">"
   ]
  },
  {
   "cell_type": "markdown",
   "id": "bcd19732",
   "metadata": {
    "slideshow": {
     "slide_type": "slide"
    }
   },
   "source": [
    "Then they measure widths by averaging the profile along the 'spine':\n",
    "\n",
    "<img src=https://www.aanda.org/articles/aa/full_html/2011/05/aa16596-11/aa16596-11-fig2.jpg>"
   ]
  },
  {
   "cell_type": "markdown",
   "id": "6b059ed5",
   "metadata": {},
   "source": [
    "# Stability Analysis of an Isothermal Filament\n",
    "\n",
    "[Ostriker 1964](https://ui.adsabs.harvard.edu/abs/1964ApJ...140.1056O/abstract) calculated the infinite-cylinder equivalent of the Bonnor-Ebert mass for a cylinder, which is basically just the Bonnor-Ebert sphere problem done in cylindrical coordinates."
   ]
  },
  {
   "cell_type": "markdown",
   "id": "241b77f4",
   "metadata": {
    "slideshow": {
     "slide_type": "slide"
    }
   },
   "source": [
    "Real filaments are not infinite;  [Burkert & Hartmann 2004](https://ui.adsabs.harvard.edu/abs/2004ApJ...616..288B/abstract) showed that truncated filaments tend to have their greatest instability (biggest core) at the ends."
   ]
  },
  {
   "cell_type": "markdown",
   "id": "7ab71085",
   "metadata": {},
   "source": [
    "Heigl & Burkert:\n",
    "\n",
    "<img src='graphics/filaments.png'>"
   ]
  },
  {
   "cell_type": "markdown",
   "id": "53ec50b9",
   "metadata": {},
   "source": [
    "[Coughlin & Nixon 2020](https://ui.adsabs.harvard.edu/abs/2020ApJS..247...51C/abstract) showed that filaments have a gravitationlly unstable mode along the long axis, which might dominate over the radial mode (no such asymmetry exists for spheres)"
   ]
  },
  {
   "cell_type": "markdown",
   "id": "c9bfc936",
   "metadata": {},
   "source": [
    "## Stability Analysis\n",
    "\n",
    "From [Andre+](https://arxiv.org/pdf/1312.6232.pdf) PPVI review.\n",
    "\n",
    "Filaments can be studied with the same sort of stability analysis as spheres."
   ]
  },
  {
   "cell_type": "code",
   "execution_count": null,
   "id": "cf076887",
   "metadata": {},
   "outputs": [],
   "source": []
  }
 ],
 "metadata": {
  "celltoolbar": "Slideshow",
  "kernelspec": {
   "display_name": "Python 3.9",
   "language": "python",
   "name": "py39"
  },
  "language_info": {
   "codemirror_mode": {
    "name": "ipython",
    "version": 3
   },
   "file_extension": ".py",
   "mimetype": "text/x-python",
   "name": "python",
   "nbconvert_exporter": "python",
   "pygments_lexer": "ipython3",
   "version": "3.9.6"
  }
 },
 "nbformat": 4,
 "nbformat_minor": 5
}
