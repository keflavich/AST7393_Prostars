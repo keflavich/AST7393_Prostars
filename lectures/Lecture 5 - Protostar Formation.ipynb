{
 "cells": [
  {
   "cell_type": "markdown",
   "id": "2da21a4a",
   "metadata": {},
   "source": [
    " * [Krumholz](http://bender.astro.sunysb.edu/oab/star_formation_notes/sfnotes.pdf) ch 17"
   ]
  },
  {
   "cell_type": "markdown",
   "id": "80f72498",
   "metadata": {
    "slideshow": {
     "slide_type": "slide"
    }
   },
   "source": [
    "## Further collapse: from cloud to star\n",
    "\n",
    "Molecular clouds are well-approximated as _isothermal_ because they radiate away energy efficiently as they collapse.\n",
    "\n",
    "Stars are not!  They are _hydrostatic_ because their internal pressure balances gravity at their surfaces."
   ]
  },
  {
   "cell_type": "markdown",
   "id": "35a8228d",
   "metadata": {},
   "source": [
    "Cloud: \n",
    "\n",
    " * Isothermal, $\\Lambda > \\Gamma$\n",
    " * Free-fall collapse until the _equation of state_ changes (EOS = $P=\\rho^\\gamma$)"
   ]
  },
  {
   "cell_type": "markdown",
   "id": "e5aa0342",
   "metadata": {},
   "source": [
    "Larson's First Core\n",
    "\n",
    " * Adiabatic, hydrostatic, pressure-supported\n",
    " * Short-lived ($\\lesssim10^4$ years)\n",
    "\n",
    "Ends when compressive heating drives the core to ~1000-2000 K, when H$_2$ dissociates"
   ]
  },
  {
   "cell_type": "markdown",
   "id": "3ec87a32",
   "metadata": {},
   "source": [
    "Second collapse -> Star\n",
    "\n",
    " * After the first core, there is free-fall collapse again\n",
    " * $\\rho\\sim10^{14}\\mathrm{cm}^{-3} \\rightarrow t_{ff} \\sim \\mathrm{years}$ "
   ]
  },
  {
   "cell_type": "markdown",
   "id": "0be033c1",
   "metadata": {},
   "source": [
    "## The protostar: A hydrostatic core\n",
    "\n",
    "After the few short-lived collapse stages, there is a hydrostatic core.\n",
    "\n",
    "It may be supported by gas pressure (adiabatically heated) or degeneracy pressure"
   ]
  },
  {
   "cell_type": "markdown",
   "id": "f08dce0b",
   "metadata": {},
   "source": [
    "## Accretion Shock\n",
    "\n",
    "The core evolves slowly (\"secularly\"), but material still free-falls onto its surface: this produces an accretion shock with luminosity\n",
    "\n",
    "$$ L_{acc} = \\frac{G M_* \\dot{M}}{R_*}$$"
   ]
  },
  {
   "cell_type": "markdown",
   "id": "736d2d8e",
   "metadata": {},
   "source": [
    "$$\\dot{M}\\sim10^5-10^6 \\mathrm{M}_\\odot \\mathrm{yr}^{-1}$$"
   ]
  },
  {
   "cell_type": "markdown",
   "id": "06f2fa39",
   "metadata": {},
   "source": [
    "$$R_* \\sim 10 R_\\odot$$\n",
    "\n",
    "(it takes a while for a star to contract to the main-sequence size; we'll come back to that)"
   ]
  },
  {
   "cell_type": "code",
   "execution_count": 2,
   "id": "4f99e4b1",
   "metadata": {},
   "outputs": [],
   "source": [
    "from astropy import constants, units as u"
   ]
  },
  {
   "cell_type": "code",
   "execution_count": 3,
   "id": "54309af9",
   "metadata": {},
   "outputs": [
    {
     "data": {
      "text/latex": [
       "$31.399277 \\; \\mathrm{L_{\\odot}}$"
      ],
      "text/plain": [
       "<Quantity 31.39927676 solLum>"
      ]
     },
     "execution_count": 3,
     "metadata": {},
     "output_type": "execute_result"
    }
   ],
   "source": [
    "L_acc = constants.G * 1*u.M_sun / (10*u.R_sun) * 1e-5*u.M_sun/u.yr\n",
    "L_acc.to(u.L_sun)"
   ]
  },
  {
   "cell_type": "markdown",
   "id": "d2575400",
   "metadata": {},
   "source": [
    "## Accretion shock: speed\n",
    "\n",
    "The accretion shock hits the stellar surface at approximately the free-fall speed:\n",
    "\n",
    "$$ v_{ff} = \\sqrt{\\frac{2GM_*}{R_*}} \\approx 200 \\mathrm{km s}^{-1} \\left(\\frac{M}{M_\\odot}\\right)^{1/2} \\left(\\frac{R_*}{10 R_\\odot}\\right)^{-1/2} $$\n",
    "\n",
    "(200 km/s comes from Krumoholz eqn 16.24)"
   ]
  },
  {
   "cell_type": "code",
   "execution_count": 7,
   "id": "989d1411",
   "metadata": {},
   "outputs": [
    {
     "data": {
      "text/latex": [
       "$138.11626 \\; \\mathrm{\\frac{km}{s}}$"
      ],
      "text/plain": [
       "<Quantity 138.11626178 km / s>"
      ]
     },
     "execution_count": 7,
     "metadata": {},
     "output_type": "execute_result"
    }
   ],
   "source": [
    "vff = np.sqrt(constants.G * u.M_sun / (10*u.R_sun)).to(u.km/u.s)\n",
    "vff"
   ]
  },
  {
   "cell_type": "markdown",
   "id": "98a74575",
   "metadata": {},
   "source": [
    "This produces a strong shock, with Mach number $\\mathcal{M} = \\frac{v_{ff}}{c_s} \\sim 100$, which allows us to determine a post-shock temperature:"
   ]
  },
  {
   "cell_type": "markdown",
   "id": "cae560c5",
   "metadata": {},
   "source": [
    "$$T_2 = \\frac{2 \\gamma (\\gamma-1)}{(\\gamma+1)^2} \\mathcal{M}^2 T_1 =  \\frac{2 \\gamma (\\gamma-1)}{(\\gamma+1)^2} \\left(\\frac{v_{shock}}{c_s}\\right)^2 T_1 = \\frac{2 \\gamma (\\gamma-1)}{(\\gamma+1)^2} \\frac{\\mu m_H}{k_B} v_{shock}^2 $$\n",
    "\n",
    "This equation comes from the Rankine-Hugoniot Jump Conditions.  See Appendix F of Palla & Stahler."
   ]
  },
  {
   "cell_type": "markdown",
   "id": "8f1eae18",
   "metadata": {},
   "source": [
    "For $v_{shock} = v_{ff} \\approx 200 \\mathrm{km~s}^{-1}$, $\\gamma=5/3$ for a monatomic ideal gas, and $\\mu=1.4$ for neutral hydrogen,"
   ]
  },
  {
   "cell_type": "code",
   "execution_count": 8,
   "id": "7c04f28c",
   "metadata": {},
   "outputs": [
    {
     "data": {
      "text/latex": [
       "$1.0037684 \\; \\mathrm{MK}$"
      ],
      "text/plain": [
       "<Quantity 1.00376836 MK>"
      ]
     },
     "execution_count": 8,
     "metadata": {},
     "output_type": "execute_result"
    }
   ],
   "source": [
    "gamma = 5/3.\n",
    "mu = 1.4\n",
    "T2 = 2 * gamma * (gamma-1) / (gamma+1)**2 * mu * u.Da / constants.k_B * vff**2\n",
    "T2.to(u.MK)"
   ]
  },
  {
   "cell_type": "markdown",
   "id": "3ef4ec7d",
   "metadata": {},
   "source": [
    "The gas is shock-heated to\n",
    "$$T_2 \\approx 1.2\\times10^6 M_{*,0} R_{*,1}^{-1} \\mathrm{~K}$$\n",
    "which is high enough to produce substantial UV and X-ray radiation."
   ]
  },
  {
   "cell_type": "markdown",
   "id": "ccf17b6a",
   "metadata": {},
   "source": [
    "As long as this radiation is limited to the soft-X-ray / UV range, the gas is extremely optically thick to it.\n",
    "\n",
    "The radiation gets re-absorbed and re-emitted often, so it becomes a blackbody."
   ]
  },
  {
   "cell_type": "markdown",
   "id": "33ec3b15",
   "metadata": {},
   "source": [
    "Mass and luminosity of an accreting protostar:\n",
    "\n",
    "\\begin{eqnarray}\n",
    "L_{\\rm acc} & = & 4\\pi R_*^2 \\sigma_{\\rm SB} T_*^4 \\\\\n",
    "T_* & = & 4300 \\dot{M}_{*,-5}^{1/4} M_{*,0}^{1/4} R_{*,1}^{-3/4} \\mbox{ K}\n",
    "\\end{eqnarray}\n"
   ]
  },
  {
   "cell_type": "markdown",
   "id": "d9b79609",
   "metadata": {},
   "source": [
    "## Dust Destruction Front\n",
    "\n",
    "Dust is a key component of all star formation since the first stars."
   ]
  },
  {
   "cell_type": "markdown",
   "id": "bca76ea8",
   "metadata": {},
   "source": [
    "We can compute the equilibrium temperature of a dust grain as a function of its distance from an accreting star by equating its heating and cooling rates."
   ]
  },
  {
   "cell_type": "markdown",
   "id": "6b54a874",
   "metadata": {},
   "source": [
    "The heating rate $\\Gamma$ of a dust grain with radius $a$ is\n",
    "\n",
    "$$\\Gamma=\\frac{L_{acc}}{4 \\pi r^2} \\pi a^2$$"
   ]
  },
  {
   "cell_type": "markdown",
   "id": "7fd4b661",
   "metadata": {},
   "source": [
    "$$\\Gamma= \\pi a^2 \\sigma_{SB} T_*^4 \\left(\\frac{R_*}{r}\\right)^2$$"
   ]
  },
  {
   "cell_type": "markdown",
   "id": "7ba2b553",
   "metadata": {},
   "source": [
    "The cooling rate $\\Lambda$ is\n",
    "\n",
    "$$\\Lambda = 4 \\pi a^2 \\sigma_{SB} T_D^4$$"
   ]
  },
  {
   "cell_type": "markdown",
   "id": "1b3b0ffe",
   "metadata": {},
   "source": [
    "$$\\Lambda = \\Gamma = 4 \\pi a^2 \\sigma_{SB} T_D^4 =  \\pi a^2 \\sigma_{SB} T_*^4 \\left(\\frac{R_*}{r}\\right)^2$$"
   ]
  },
  {
   "cell_type": "markdown",
   "id": "fd955463",
   "metadata": {},
   "source": [
    "so\n",
    "$$T_d = \\left(\\frac{R_*}{2r}\\right)^{1/2}T_*$$"
   ]
  },
  {
   "cell_type": "code",
   "execution_count": null,
   "id": "66a422ff",
   "metadata": {},
   "outputs": [],
   "source": []
  },
  {
   "cell_type": "code",
   "execution_count": null,
   "id": "b8fbc8f8",
   "metadata": {},
   "outputs": [],
   "source": []
  },
  {
   "cell_type": "code",
   "execution_count": null,
   "id": "aa973c86",
   "metadata": {},
   "outputs": [],
   "source": []
  },
  {
   "cell_type": "code",
   "execution_count": null,
   "id": "8f41ebf9",
   "metadata": {},
   "outputs": [],
   "source": []
  },
  {
   "cell_type": "markdown",
   "id": "da421bd1",
   "metadata": {
    "slideshow": {
     "slide_type": "slide"
    }
   },
   "source": [
    "## The Kelvin-Helmholtz timescale\n",
    "\n",
    "The Kelvin-Helmholtz timescale is the time required to radiate away a star's gravitational energy."
   ]
  },
  {
   "cell_type": "markdown",
   "id": "1746695e",
   "metadata": {
    "slideshow": {
     "slide_type": "slide"
    }
   },
   "source": [
    "From dimensional analysis, we have:\n",
    "\\begin{equation}\n",
    " t_{KH} = \\frac{\\mathcal{W}}{L}\n",
    "\\end{equation}\n",
    "where $\\mathcal{W}$ is the gravitational energy and $L$ is the star's luminosity."
   ]
  },
  {
   "cell_type": "markdown",
   "id": "9df7e312",
   "metadata": {
    "slideshow": {
     "slide_type": "slide"
    }
   },
   "source": [
    "The gravitational energy is:\n",
    "\\begin{equation}\n",
    "\\mathcal{W} \\approx \\frac{G M_*^2}{R_*}\n",
    "\\end{equation}\n",
    "i.e., it is the work done by gas falling from infinity to the star's surface."
   ]
  },
  {
   "cell_type": "markdown",
   "id": "29202d2f",
   "metadata": {
    "slideshow": {
     "slide_type": "slide"
    }
   },
   "source": [
    "For a sun-like star, this is:\n",
    "\n",
    "\\begin{equation}\n",
    " t_{KH} = \\frac{G M_\\odot^2}{R_\\odot L_\\odot} = 3\\times10^{7} \\mathrm{yr}\n",
    "\\end{equation}"
   ]
  },
  {
   "cell_type": "code",
   "execution_count": 7,
   "id": "1d9cc981",
   "metadata": {
    "slideshow": {
     "slide_type": "slide"
    }
   },
   "outputs": [
    {
     "data": {
      "text/latex": [
       "$31.399277 \\; \\mathrm{Myr}$"
      ],
      "text/plain": [
       "<Quantity 31.39927676 Myr>"
      ]
     },
     "execution_count": 7,
     "metadata": {
      "slideshow": {
       "slide_type": "slide"
      }
     },
     "output_type": "execute_result"
    }
   ],
   "source": [
    "t_kh = (constants.G * u.M_sun**2 / (u.R_sun * u.L_sun)).to(u.Myr)\n",
    "t_kh"
   ]
  },
  {
   "cell_type": "markdown",
   "id": "ea140777",
   "metadata": {
    "slideshow": {
     "slide_type": "slide"
    }
   },
   "source": [
    "However, for a protostar, the radius and luminosity are both larger, so a reasonable approximation is instead \n",
    "\\begin{equation}\n",
    " t_{KH} = \\frac{G M_\\odot^2}{10 R_\\odot 10 L_\\odot} = 3\\times10^{5} \\mathrm{yr}\n",
    "\\end{equation}"
   ]
  },
  {
   "cell_type": "markdown",
   "id": "b0420a50",
   "metadata": {
    "slideshow": {
     "slide_type": "slide"
    }
   },
   "source": [
    "The sound-crossing time in a star is short, much shorter than $t_{KH}$.\n",
    "\n",
    "It can be approximated as $t_s = R_* / c_s$, where, if we assume the star is in equilibrium between gas pressure and gravity, we can approximate $c_s = \\sqrt{GM/R}$, so:\n",
    "\\begin{equation}\n",
    "t_s = \\sqrt{\\frac{R^3}{GM}} = 14 \\mathrm{h} << t_{kh}\n",
    "\\end{equation}"
   ]
  },
  {
   "cell_type": "code",
   "execution_count": 9,
   "id": "c63347d3",
   "metadata": {
    "slideshow": {
     "slide_type": "slide"
    }
   },
   "outputs": [
    {
     "data": {
      "text/latex": [
       "$13.991835 \\; \\mathrm{h}$"
      ],
      "text/plain": [
       "<Quantity 13.99183539 h>"
      ]
     },
     "execution_count": 9,
     "metadata": {
      "slideshow": {
       "slide_type": "slide"
      }
     },
     "output_type": "execute_result"
    }
   ],
   "source": [
    "sound_crossing_time = ((10*u.R_sun)**(3/2) / (constants.G * u.M_sun)**(1/2)).to(u.hour)\n",
    "sound_crossing_time"
   ]
  },
  {
   "cell_type": "markdown",
   "id": "b2bb07ff",
   "metadata": {
    "slideshow": {
     "slide_type": "slide"
    }
   },
   "source": [
    "## Interactive questions\n",
    "\n",
    "What is the Kelvin-Helmholtz timescale for a brown dwarf (assume $M=0.05 \\mathrm{M}_\\odot$, $R= 1 \\mathrm{R}_\\odot$, and $L=4 \\pi R^2 T^4 \\sigma_{SB}$ with $T=500$ K)?\n",
    "\n",
    "What about for an O-star ($M=50 \\mathrm{M}_\\odot$, $R=20 \\mathrm{R}_\\odot$, $T=30,000$ K)?"
   ]
  },
  {
   "cell_type": "markdown",
   "id": "08b72b31",
   "metadata": {
    "slideshow": {
     "slide_type": "slide"
    }
   },
   "source": []
  },
  {
   "cell_type": "code",
   "execution_count": 27,
   "id": "086a700c",
   "metadata": {
    "slideshow": {
     "slide_type": "slide"
    }
   },
   "outputs": [
    {
     "data": {
      "text/latex": [
       "$1394.0744 \\; \\mathrm{Myr}$"
      ],
      "text/plain": [
       "<Quantity 1394.07441848 Myr>"
      ]
     },
     "execution_count": 27,
     "metadata": {
      "slideshow": {
       "slide_type": "slide"
      }
     },
     "output_type": "execute_result"
    }
   ],
   "source": [
    "tkh_bd = (constants.G * (0.05*u.M_sun)**2 / (1 * u.R_sun * (4*np.pi*(1*u.R_sun)**2*constants.sigma_sb*(500*u.K)**4))).to(u.Myr)\n",
    "tkh_bd"
   ]
  },
  {
   "cell_type": "code",
   "execution_count": 28,
   "id": "5f7f5648",
   "metadata": {
    "slideshow": {
     "slide_type": "slide"
    }
   },
   "outputs": [
    {
     "data": {
      "text/latex": [
       "$0.013445934 \\; \\mathrm{Myr}$"
      ],
      "text/plain": [
       "<Quantity 0.01344593 Myr>"
      ]
     },
     "execution_count": 28,
     "metadata": {
      "slideshow": {
       "slide_type": "slide"
      }
     },
     "output_type": "execute_result"
    }
   ],
   "source": [
    "tkh_o= (constants.G * (50*u.M_sun)**2 / (20 * u.R_sun * (4*np.pi*(20*u.R_sun)**2*constants.sigma_sb*(30000*u.K)**4))).to(u.Myr)\n",
    "tkh_o"
   ]
  },
  {
   "cell_type": "code",
   "execution_count": null,
   "id": "0c83ba43",
   "metadata": {},
   "outputs": [],
   "source": []
  }
 ],
 "metadata": {
  "celltoolbar": "Slideshow",
  "kernelspec": {
   "display_name": "Python 3.9",
   "language": "python",
   "name": "py39"
  },
  "language_info": {
   "codemirror_mode": {
    "name": "ipython",
    "version": 3
   },
   "file_extension": ".py",
   "mimetype": "text/x-python",
   "name": "python",
   "nbconvert_exporter": "python",
   "pygments_lexer": "ipython3",
   "version": "3.9.6"
  },
  "rise": {
   "transition": "none"
  }
 },
 "nbformat": 4,
 "nbformat_minor": 5
}
