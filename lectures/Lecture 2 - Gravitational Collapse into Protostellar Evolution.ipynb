{
 "cells": [
  {
   "cell_type": "markdown",
   "id": "990a8cc5",
   "metadata": {
    "slideshow": {
     "slide_type": "slide"
    }
   },
   "source": [
    "# Collapse\n",
    "\n",
    "We have derived the scale at which a cloud becomes unstable to its own self-gravity and discussed the conditions that initiate collapse.\n",
    "\n",
    "What happens next?"
   ]
  },
  {
   "cell_type": "markdown",
   "id": "81b1b410",
   "metadata": {
    "slideshow": {
     "slide_type": "-"
    }
   },
   "source": [
    "Sources:\n",
    "\n",
    " * [Krumholz](http://bender.astro.sunysb.edu/oab/star_formation_notes/sfnotes.pdf) ch 6\n",
    " * [Krumholz](http://bender.astro.sunysb.edu/oab/star_formation_notes/sfnotes.pdf) ch 17"
   ]
  },
  {
   "cell_type": "code",
   "execution_count": 3,
   "id": "4d703019",
   "metadata": {
    "slideshow": {
     "slide_type": "skip"
    }
   },
   "outputs": [],
   "source": [
    "from astropy import units as u, constants"
   ]
  },
  {
   "cell_type": "markdown",
   "id": "47959705",
   "metadata": {
    "slideshow": {
     "slide_type": "slide"
    }
   },
   "source": [
    "## Pressureless Collapse\n",
    "\n",
    "Starting from a uniform density medium, how does collapse progress?  (ch 6.3)"
   ]
  },
  {
   "cell_type": "markdown",
   "id": "83798365",
   "metadata": {
    "slideshow": {
     "slide_type": "slide"
    }
   },
   "source": [
    "The mass is given by:\n",
    "\n",
    "\\begin{equation}\n",
    "M_r =  \\int_0^r 4\\pi r'^2 \\rho(r') \\, dr'\n",
    "\\end{equation}\n",
    "or equivalently\n",
    "\\begin{equation}\n",
    "\\frac{\\partial M_r}{\\partial r} = 4\\pi r^2 \\rho.\n",
    "\\end{equation}\n"
   ]
  },
  {
   "cell_type": "markdown",
   "id": "893a8ff8",
   "metadata": {
    "slideshow": {
     "slide_type": "slide"
    }
   },
   "source": [
    "The equation of mass conservation for the gas in spherical coordinates is\n",
    "\\begin{eqnarray}\n",
    "\\frac{\\partial}{\\partial t} \\rho + \\nabla\\cdot (\\rho \\vec{v}) & = & 0 \\\\\n",
    "\\frac{\\partial}{\\partial t} \\rho + \\frac{1}{r^2}\\frac{\\partial}{\\partial r}(r^2 \\rho v) & = & 0\n",
    "\\end{eqnarray}\n",
    "where $v$ is the radial velocity of the gas. "
   ]
  },
  {
   "cell_type": "markdown",
   "id": "6d94fb56",
   "metadata": {
    "slideshow": {
     "slide_type": "slide"
    }
   },
   "source": [
    "It is useful to write the equations in terms of $M_r$ rather than $\\rho$, so we take the time derivative of $M_r$ to get\n",
    "\\begin{eqnarray}\n",
    "\\frac{\\partial}{\\partial t}M_r & = & 4\\pi \\int_{0}^{r} r'^2 \\frac{\\partial}{\\partial t} \\rho \\,dr' \\\\\n",
    "& = & -4\\pi \\int_{0}^{r} \\frac{\\partial}{\\partial r'}(r'^2 \\rho v)\\, dr' \\\\\n",
    "& = & -4\\pi r^2 \\rho v \\\\\n",
    "& = & -v \\frac{\\partial}{\\partial r}M_r.\n",
    "\\end{eqnarray}\n",
    "In the second step we used the mass conservation equation to substitute for $\\partial \\rho/\\partial t$, and in the final step we used the definition of $M_r$ to substitute for $\\rho$.\n"
   ]
  },
  {
   "cell_type": "markdown",
   "id": "de1300d2",
   "metadata": {
    "slideshow": {
     "slide_type": "slide"
    }
   },
   "source": [
    "The Lagrangian version of the momentum equation (following fluid elements, not locations in space) is, assuming there is no thermal pressure (i.e., $c_s=0$):\n",
    "\\begin{equation}\n",
    "\\frac{Dv}{Dt} = -\\frac{GM_r}{r^2}.\n",
    "\\end{equation}\n",
    "This just says that a shell's inward acceleration is equal to the gravitational force per unit mass exerted by all the mass interior to it, which is constant. We can then solve for the velocity as a function of position:\n",
    "\\begin{equation}\n",
    "v = \\dot{r} = -\\sqrt{2GM_r}\\left(\\frac{1}{r}-\\frac{1}{r_0}\\right)^{1/2},\n",
    "\\end{equation}\n",
    "where $r_0$ is the position at which a particular fluid element starts. \n",
    "\n",
    "[exercise for the reader: Show that $v$ is a solution to the differential equation $Dv/Dt$ above]"
   ]
  },
  {
   "cell_type": "markdown",
   "id": "25bf82e8",
   "metadata": {
    "slideshow": {
     "slide_type": "subslide"
    }
   },
   "source": [
    "Aside:  Why is pressureless collapse a good assumption?\n",
    "\"Consider the virial theorem: the thermal pressure\n",
    "term is just proportional to the mass, since the gas sound speed stays\n",
    "about constant. On the other hand, the gravitational term varies as\n",
    "1/R. Thus, even if pressure starts out competitive with gravity, as the\n",
    "core collapses the dominance of gravity will increase, and before too\n",
    "long the collapse will resemble a pressureless one.\""
   ]
  },
  {
   "cell_type": "markdown",
   "id": "717081da",
   "metadata": {
    "slideshow": {
     "slide_type": "slide"
    }
   },
   "source": [
    "This leads to an integral:\n",
    "$$r(t) = \\int -\\sqrt{2GM_r}\\left(\\frac{1}{r}-\\frac{1}{r_0}\\right)^{1/2} dt$$\n",
    "\n",
    "The solution is (using some trig cleverness spelled out in Krumholz), with $r = r_0 \\cos^2 \\xi$\n",
    "$$\n",
    "\\xi+\\frac{1}{2}\\sin 2\\xi  =  t \\sqrt{\\frac{2GM_r}{r_0^3}}\n",
    "$$\n",
    "\n",
    "We want to know the time $t$ at which $r=0$, i.e., where the outermost layer has collapsed into the center.  This occurs at $\\cos \\xi = 0$ or $\\xi=\\pi/2$."
   ]
  },
  {
   "cell_type": "markdown",
   "id": "ac5c321d",
   "metadata": {
    "slideshow": {
     "slide_type": "slide"
    }
   },
   "source": [
    "With $\\xi=\\pi/2$, \n",
    "$$\\xi+\\frac{1}{2}\\sin 2\\xi  =  t \\sqrt{\\frac{2GM_r}{r_0^3}}$$\n",
    "becomes\n",
    "$$t = \\frac{\\pi}{2} \\sqrt{\\frac{r_0^3}{2GM_r}} = \\sqrt{\\frac{\\pi^2 r_0^3}{8GM_r}}$$\n",
    "\n",
    "For a uniform density $M_r = 4/3 \\pi \\rho_0 r_0^3$, so\n",
    "$$t_{ff} = \\sqrt{\\frac{3\\pi}{32 G \\rho_0}}$$"
   ]
  },
  {
   "cell_type": "markdown",
   "id": "ec879fec",
   "metadata": {
    "slideshow": {
     "slide_type": "slide"
    }
   },
   "source": [
    "For uniform density, \n",
    "$$t_{ff} = \\sqrt{\\frac{3\\pi}{32 G \\rho_0}}$$\n",
    "holds for all fluid elements: everything reaching the center gets there at the same time!"
   ]
  },
  {
   "cell_type": "markdown",
   "id": "96002d66",
   "metadata": {
    "slideshow": {
     "slide_type": "slide"
    }
   },
   "source": [
    "For a more general case, in which the core is centrally condensed with central density $\\rho_c$ and a power-law density profile $\\rho(r) = \\rho_c (r/r_0)^{-\\alpha} $, the enclosed mass is instead:\n",
    "\n",
    "\\begin{equation}\n",
    "M_r = \\frac{4}{3-\\alpha}\\pi \\rho_c r_c^3 \\left(\\frac{r}{r_c}\\right)^{3-\\alpha} \n",
    "\\end{equation}\n",
    "\n",
    "which can be substituted into $t =  \\sqrt{\\frac{\\pi^2 r_0^3}{8GM_r}}$\n",
    " to obtain a collapse timescale:\n",
    "\n",
    "$$t_{ff} = \\sqrt{\\frac{(3-\\alpha)\\pi }{32 G \\rho_c }} \\left(\\frac{r_0}{r_c}\\right)^{\\alpha/2}$$"
   ]
  },
  {
   "cell_type": "markdown",
   "id": "2604649e",
   "metadata": {
    "slideshow": {
     "slide_type": "slide"
    }
   },
   "source": [
    "In this general case, with $\\alpha>0$ (required for a centrally condensed object):\n",
    "$$t_{ff} = \\sqrt{\\frac{(3-\\alpha)\\pi }{32 G \\rho_c }} \\left(\\frac{r_0}{r_c}\\right)^{\\alpha/2}$$\n",
    "the free-fall time increases with radius, $t_{ff} \\propto r_0^{\\alpha/2}$.\n",
    "\n",
    "That means the innermost parts of the object collapse first.\n",
    "\n",
    "*Inside-out collapse* is a key feature of pressureless collapse."
   ]
  },
  {
   "cell_type": "markdown",
   "id": "b72718de",
   "metadata": {
    "slideshow": {
     "slide_type": "slide"
    }
   },
   "source": [
    "### The shape of a collapsing core\n",
    "\n",
    "For a free-falling fluid element, the speed will approach the free-fall velocity, i.e.:\n",
    "\n",
    "$$ v = v_{ff} = - \\sqrt{\\frac{2 G M_r}{r}}$$\n",
    "\n",
    "The mass conservation equation is\n",
    "\\begin{equation}\n",
    "\\frac{\\partial M_r}{\\partial t} = -v\\frac{\\partial M_r}{\\partial r}  = -4\\pi r^2 v \\rho\n",
    "\\end{equation}\n"
   ]
  },
  {
   "cell_type": "markdown",
   "id": "27cb7e04",
   "metadata": {
    "slideshow": {
     "slide_type": "slide"
    }
   },
   "source": [
    "Solving for density gives:\n",
    "\n",
    "\\begin{equation}\n",
    "\\rho = \\frac{(\\partial M_r/\\partial t) r^{-3/2}}{4\\pi\\sqrt{2 G M_r}} = \\frac{\\dot{M} r^{-3/2}}{4\\pi\\sqrt{2 G M_r}}\n",
    "\\end{equation}\n",
    "\n",
    "Under the assumption that $\\dot{M}$ is constant, that means the density in the inner portion of a freely collapsing core will tend to \n",
    "\n",
    "$$ \\rho \\propto r^{-3/2}$$"
   ]
  },
  {
   "cell_type": "markdown",
   "id": "e17ec9eb",
   "metadata": {
    "slideshow": {
     "slide_type": "slide"
    }
   },
   "source": [
    "### Accretion Rate\n",
    "\n",
    "What is the time-averaged accretion rate?\n",
    "\n",
    "We can plug in $r=r_c$ to get the free-fall time for a fluid element from radius $r_c$:\n",
    "$$M_c = [4/(3-\\alpha)]\\pi \\rho_c r_c^3$$\n",
    "\n",
    "\\begin{equation}\n",
    "t_c = \\sqrt{\\frac{(3-\\alpha)\\pi}{32 G \\rho_c}} = \\sqrt{\\frac{3-\\alpha}{3}}t_{\\rm ff}(\\rho_c)\n",
    "\\end{equation}\n",
    "\n",
    "where $t_{\\rm ff}(\\rho_c)$ is the free-fall time for an object with constant density $\\rho_c$"
   ]
  },
  {
   "cell_type": "markdown",
   "id": "496a9637",
   "metadata": {
    "slideshow": {
     "slide_type": "slide"
    }
   },
   "source": [
    "The average accretion rate is \n",
    "$$\\left<\\dot{M}\\right> = \\frac{M_c}{t_c} = \\sqrt{\\frac{3}{3-\\alpha}} \\frac{M_c}{t_{\\rm ff}(\\rho_c)}$$"
   ]
  },
  {
   "cell_type": "markdown",
   "id": "6f298803",
   "metadata": {
    "slideshow": {
     "slide_type": "slide"
    }
   },
   "source": [
    "For a critical Bonnor-Ebert sphere, we have\n",
    "\n",
    "\\begin{equation}\n",
    "M_{\\rm BE} = 1.18 \\frac{c_s^4}{\\sqrt{G^3 P_s}},\n",
    "\\end{equation}\n",
    "\n",
    "where $c_s$ is the sound speed, and $P_s$ is the pressure at the surface of the sphere."
   ]
  },
  {
   "cell_type": "markdown",
   "id": "23e0cd1e",
   "metadata": {
    "slideshow": {
     "slide_type": "slide"
    }
   },
   "source": [
    "If we assume the sphere is in pressure equilibrium with its surroundings, the internal pressure $\\rho c_s^2$ equals the outer, so \n",
    "\\begin{equation}\n",
    "M_{\\rm BE} = 1.18 \\frac{c_s^4}{\\sqrt{G^3 P_s}},\n",
    "\\end{equation}\n",
    "becomes\n",
    "\\begin{equation}\n",
    "M_{\\rm BE} = 1.18 \\frac{c_s^4}{\\sqrt{G^3 \\rho_c c_s^2}} = 1.18 \\frac{c_s^3}{\\sqrt{G \\rho_c}},\n",
    "\\end{equation}\n",
    "\n"
   ]
  },
  {
   "cell_type": "markdown",
   "id": "440f866e",
   "metadata": {
    "slideshow": {
     "slide_type": "slide"
    }
   },
   "source": [
    "A pure power-law core is not possible, since there is a singularity at the center.  However, we can operate under the approximation that the central density flattens only within a small radius, inside which the core flattens ($\\alpha=0$).  The leading constant of $\\left<\\dot{M}\\right>$, $\\sqrt{3/(3-\\alpha)}$, will be $\\sim1$.\n",
    "\n",
    "Then, it becomes:\n",
    "$$\\left<\\dot{M}\\right> = \\sqrt{\\frac{3}{3-\\alpha}} \\frac{M_{BE}}{t_{\\rm ff}(\\rho_c)} = \\sqrt{\\frac{3}{3-\\alpha}} \\frac{c_s^3 \\sqrt{32 G \\rho_c}}{\\sqrt{G \\rho_c3 \\pi}} \\approx \\frac{c_s^3}{G}$$"
   ]
  },
  {
   "cell_type": "markdown",
   "id": "749ba124",
   "metadata": {
    "slideshow": {
     "slide_type": "slide"
    }
   },
   "source": [
    "The accretion rate is:\n",
    "$$\\left<\\dot{M}\\right>  \\approx \\frac{c_s^3}{G}$$\n",
    "\n",
    "i.e., it's independent of the initial density."
   ]
  },
  {
   "cell_type": "markdown",
   "id": "94e90ed9",
   "metadata": {
    "slideshow": {
     "slide_type": "fragment"
    }
   },
   "source": [
    "For a typical molecular cloud, with $c_s=0.2$ km/s, the rate is:"
   ]
  },
  {
   "cell_type": "code",
   "execution_count": 29,
   "id": "89391dda",
   "metadata": {
    "slideshow": {
     "slide_type": "-"
    }
   },
   "outputs": [
    {
     "data": {
      "text/latex": [
       "$1.9023145 \\times 10^{-6} \\; \\mathrm{\\frac{M_{\\odot}}{yr}}$"
      ],
      "text/plain": [
       "<Quantity 1.90231451e-06 solMass / yr>"
      ]
     },
     "execution_count": 29,
     "metadata": {
      "slideshow": {
       "slide_type": "slide"
      }
     },
     "output_type": "execute_result"
    }
   ],
   "source": [
    "((0.2*u.km/u.s)**3/constants.G).to(u.M_sun/u.yr)"
   ]
  },
  {
   "cell_type": "markdown",
   "id": "59fb068e",
   "metadata": {
    "slideshow": {
     "slide_type": "-"
    }
   },
   "source": [
    "which is not unreasonable for formation of a 1-solar-mass star, giving a timescale for formation between $10^5$ and $10^6$ years."
   ]
  },
  {
   "cell_type": "code",
   "execution_count": 31,
   "id": "42292f34",
   "metadata": {
    "slideshow": {
     "slide_type": "skip"
    }
   },
   "outputs": [
    {
     "data": {
      "text/latex": [
       "$0.41882049 \\; \\mathrm{\\frac{km}{s}}$"
      ],
      "text/plain": [
       "<Quantity 0.41882049 km / s>"
      ]
     },
     "execution_count": 31,
     "metadata": {
      "slideshow": {
       "slide_type": "slide"
      }
     },
     "output_type": "execute_result"
    }
   ],
   "source": [
    "# sound speed at 50K\n",
    "((constants.k_B*50*u.K / (2.37*u.Da))**0.5).to(u.km/u.s)"
   ]
  },
  {
   "cell_type": "code",
   "execution_count": 32,
   "id": "dd22e69f",
   "metadata": {
    "slideshow": {
     "slide_type": "skip"
    }
   },
   "outputs": [
    {
     "data": {
      "text/latex": [
       "$1.5218516 \\times 10^{-5} \\; \\mathrm{\\frac{M_{\\odot}}{yr}}$"
      ],
      "text/plain": [
       "<Quantity 1.52185161e-05 solMass / yr>"
      ]
     },
     "execution_count": 32,
     "metadata": {
      "slideshow": {
       "slide_type": "slide"
      }
     },
     "output_type": "execute_result"
    }
   ],
   "source": [
    "# accretion rate for c_s=0.4 km/s\n",
    "((0.4*u.km/u.s)**3/constants.G).to(u.M_sun/u.yr)"
   ]
  },
  {
   "cell_type": "markdown",
   "id": "f61aca58",
   "metadata": {
    "slideshow": {
     "slide_type": "slide"
    }
   },
   "source": [
    "## Cloud vs Star\n",
    "\n",
    "Molecular clouds are well-approximated as _isothermal_ because they radiate away energy efficiently as they collapse.\n",
    "\n",
    "Stars are not!  They are _hydrostatic_ because their internal pressure balances gravity at their surfaces."
   ]
  },
  {
   "cell_type": "markdown",
   "id": "50d1133c",
   "metadata": {
    "slideshow": {
     "slide_type": "slide"
    }
   },
   "source": [
    "## The Kelvin-Helmholtz timescale\n",
    "\n",
    "The Kelvin-Helmholtz timescale is the time required to radiate away a star's gravitational energy."
   ]
  },
  {
   "cell_type": "markdown",
   "id": "d715e074",
   "metadata": {
    "slideshow": {
     "slide_type": "slide"
    }
   },
   "source": [
    "From dimensional analysis, we have:\n",
    "$$ t_{KH} = \\frac{\\mathcal{W}}{L}$$\n",
    "where $\\mathcal{W}$ is the gravitational energy and $L$ is the star's luminosity."
   ]
  },
  {
   "cell_type": "markdown",
   "id": "7513de74",
   "metadata": {
    "slideshow": {
     "slide_type": "slide"
    }
   },
   "source": [
    "The gravitational energy is:\n",
    "$$\\mathcal{W} \\approx \\frac{G M_*^2}{R_*}$$\n",
    "i.e., it is the work done by gas falling from infinity to the star's surface."
   ]
  },
  {
   "cell_type": "markdown",
   "id": "3f7d4040",
   "metadata": {
    "slideshow": {
     "slide_type": "slide"
    }
   },
   "source": [
    "For a sun-like star, this is:\n",
    "\n",
    "$$ t_{KH} = \\frac{G M_\\odot^2}{R_\\odot L_\\odot} = 3\\times10^{7} \\mathrm{yr}$$"
   ]
  },
  {
   "cell_type": "code",
   "execution_count": 7,
   "id": "89c2d9e2",
   "metadata": {
    "slideshow": {
     "slide_type": "slide"
    }
   },
   "outputs": [
    {
     "data": {
      "text/latex": [
       "$31.399277 \\; \\mathrm{Myr}$"
      ],
      "text/plain": [
       "<Quantity 31.39927676 Myr>"
      ]
     },
     "execution_count": 7,
     "metadata": {
      "slideshow": {
       "slide_type": "slide"
      }
     },
     "output_type": "execute_result"
    }
   ],
   "source": [
    "t_kh = (constants.G * u.M_sun**2 / (u.R_sun * u.L_sun)).to(u.Myr)\n",
    "t_kh"
   ]
  },
  {
   "cell_type": "markdown",
   "id": "29de5515",
   "metadata": {
    "slideshow": {
     "slide_type": "slide"
    }
   },
   "source": [
    "However, for a protostar, the radius and luminosity are both larger, so a reasonable approximation is instead \n",
    "$$ t_{KH} = \\frac{G M_\\odot^2}{10 R_\\odot 10 L_\\odot} = 3\\times10^{5} \\mathrm{yr}$$"
   ]
  },
  {
   "cell_type": "markdown",
   "id": "bb8298ba",
   "metadata": {
    "slideshow": {
     "slide_type": "slide"
    }
   },
   "source": [
    "The sound-crossing time in a star is short, much shorter than $t_{KH}$.\n",
    "\n",
    "It can be approximated as $t_s = R_* / c_s$, where, if we assume the star is in equilibrium between gas pressure and gravity, we can approximate $c_s = \\sqrt{GM/R}$, so:\n",
    "$$t_s = \\sqrt{\\frac{R^3}{GM}} = 14 \\mathrm{h} << t_{kh}$$"
   ]
  },
  {
   "cell_type": "code",
   "execution_count": 9,
   "id": "94e96c50",
   "metadata": {
    "slideshow": {
     "slide_type": "slide"
    }
   },
   "outputs": [
    {
     "data": {
      "text/latex": [
       "$13.991835 \\; \\mathrm{h}$"
      ],
      "text/plain": [
       "<Quantity 13.99183539 h>"
      ]
     },
     "execution_count": 9,
     "metadata": {
      "slideshow": {
       "slide_type": "slide"
      }
     },
     "output_type": "execute_result"
    }
   ],
   "source": [
    "sound_crossing_time = ((10*u.R_sun)**(3/2) / (constants.G * u.M_sun)**(1/2)).to(u.hour)\n",
    "sound_crossing_time"
   ]
  },
  {
   "cell_type": "markdown",
   "id": "7af89cd9",
   "metadata": {
    "slideshow": {
     "slide_type": "slide"
    }
   },
   "source": [
    "## Interactive questions\n",
    "\n",
    "What is the Kelvin-Helmholtz timescale for a brown dwarf (assume $M=0.05 \\mathrm{M}_\\odot$, $R= 1 \\mathrm{R}_\\odot$, and $L=4 \\pi R^2 T^4 \\sigma_{SB}$ with $T=500$ K)?\n",
    "\n",
    "What about for an O-star ($M=50 \\mathrm{M}_\\odot$, $R=20 \\mathrm{R}_\\odot$, $T=30,000$ K)?"
   ]
  },
  {
   "cell_type": "markdown",
   "id": "54d8454e",
   "metadata": {
    "slideshow": {
     "slide_type": "slide"
    }
   },
   "source": []
  },
  {
   "cell_type": "code",
   "execution_count": 27,
   "id": "f58ad1dc",
   "metadata": {
    "slideshow": {
     "slide_type": "slide"
    }
   },
   "outputs": [
    {
     "data": {
      "text/latex": [
       "$1394.0744 \\; \\mathrm{Myr}$"
      ],
      "text/plain": [
       "<Quantity 1394.07441848 Myr>"
      ]
     },
     "execution_count": 27,
     "metadata": {
      "slideshow": {
       "slide_type": "slide"
      }
     },
     "output_type": "execute_result"
    }
   ],
   "source": [
    "tkh_bd = (constants.G * (0.05*u.M_sun)**2 / (1 * u.R_sun * (4*np.pi*(1*u.R_sun)**2*constants.sigma_sb*(500*u.K)**4))).to(u.Myr)\n",
    "tkh_bd"
   ]
  },
  {
   "cell_type": "code",
   "execution_count": 28,
   "id": "8bc6276b",
   "metadata": {
    "slideshow": {
     "slide_type": "slide"
    }
   },
   "outputs": [
    {
     "data": {
      "text/latex": [
       "$0.013445934 \\; \\mathrm{Myr}$"
      ],
      "text/plain": [
       "<Quantity 0.01344593 Myr>"
      ]
     },
     "execution_count": 28,
     "metadata": {
      "slideshow": {
       "slide_type": "slide"
      }
     },
     "output_type": "execute_result"
    }
   ],
   "source": [
    "tkh_o= (constants.G * (50*u.M_sun)**2 / (20 * u.R_sun * (4*np.pi*(20*u.R_sun)**2*constants.sigma_sb*(30000*u.K)**4))).to(u.Myr)\n",
    "tkh_o"
   ]
  },
  {
   "cell_type": "code",
   "execution_count": null,
   "id": "9400f063",
   "metadata": {
    "slideshow": {
     "slide_type": "slide"
    }
   },
   "outputs": [],
   "source": []
  }
 ],
 "metadata": {
  "celltoolbar": "Slideshow",
  "kernelspec": {
   "display_name": "Python 3.9",
   "language": "python",
   "name": "py39"
  },
  "language_info": {
   "codemirror_mode": {
    "name": "ipython",
    "version": 3
   },
   "file_extension": ".py",
   "mimetype": "text/x-python",
   "name": "python",
   "nbconvert_exporter": "python",
   "pygments_lexer": "ipython3",
   "version": "3.9.6"
  },
  "rise": {
   "transition": "none"
  }
 },
 "nbformat": 4,
 "nbformat_minor": 5
}
