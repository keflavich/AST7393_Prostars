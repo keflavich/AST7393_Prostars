{
 "cells": [
  {
   "cell_type": "markdown",
   "id": "2da21a4a",
   "metadata": {},
   "source": [
    " * [Krumholz](http://bender.astro.sunysb.edu/oab/star_formation_notes/sfnotes.pdf) ch 17"
   ]
  },
  {
   "cell_type": "markdown",
   "id": "80f72498",
   "metadata": {
    "slideshow": {
     "slide_type": "slide"
    }
   },
   "source": [
    "## Further collapse: from cloud to star\n",
    "\n",
    "Molecular clouds are well-approximated as _isothermal_ because they radiate away energy efficiently as they collapse.\n",
    "\n",
    "Stars are not!  They are _hydrostatic_ because their internal pressure balances gravity at their surfaces."
   ]
  },
  {
   "cell_type": "markdown",
   "id": "da421bd1",
   "metadata": {
    "slideshow": {
     "slide_type": "slide"
    }
   },
   "source": [
    "## The Kelvin-Helmholtz timescale\n",
    "\n",
    "The Kelvin-Helmholtz timescale is the time required to radiate away a star's gravitational energy."
   ]
  },
  {
   "cell_type": "markdown",
   "id": "1746695e",
   "metadata": {
    "slideshow": {
     "slide_type": "slide"
    }
   },
   "source": [
    "From dimensional analysis, we have:\n",
    "\\begin{equation}\n",
    " t_{KH} = \\frac{\\mathcal{W}}{L}\n",
    "\\end{equation}\n",
    "where $\\mathcal{W}$ is the gravitational energy and $L$ is the star's luminosity."
   ]
  },
  {
   "cell_type": "markdown",
   "id": "9df7e312",
   "metadata": {
    "slideshow": {
     "slide_type": "slide"
    }
   },
   "source": [
    "The gravitational energy is:\n",
    "\\begin{equation}\n",
    "\\mathcal{W} \\approx \\frac{G M_*^2}{R_*}\n",
    "\\end{equation}\n",
    "i.e., it is the work done by gas falling from infinity to the star's surface."
   ]
  },
  {
   "cell_type": "markdown",
   "id": "29202d2f",
   "metadata": {
    "slideshow": {
     "slide_type": "slide"
    }
   },
   "source": [
    "For a sun-like star, this is:\n",
    "\n",
    "\\begin{equation}\n",
    " t_{KH} = \\frac{G M_\\odot^2}{R_\\odot L_\\odot} = 3\\times10^{7} \\mathrm{yr}\n",
    "\\end{equation}"
   ]
  },
  {
   "cell_type": "code",
   "execution_count": 7,
   "id": "1d9cc981",
   "metadata": {
    "slideshow": {
     "slide_type": "slide"
    }
   },
   "outputs": [
    {
     "data": {
      "text/latex": [
       "$31.399277 \\; \\mathrm{Myr}$"
      ],
      "text/plain": [
       "<Quantity 31.39927676 Myr>"
      ]
     },
     "execution_count": 7,
     "metadata": {
      "slideshow": {
       "slide_type": "slide"
      }
     },
     "output_type": "execute_result"
    }
   ],
   "source": [
    "t_kh = (constants.G * u.M_sun**2 / (u.R_sun * u.L_sun)).to(u.Myr)\n",
    "t_kh"
   ]
  },
  {
   "cell_type": "markdown",
   "id": "ea140777",
   "metadata": {
    "slideshow": {
     "slide_type": "slide"
    }
   },
   "source": [
    "However, for a protostar, the radius and luminosity are both larger, so a reasonable approximation is instead \n",
    "\\begin{equation}\n",
    " t_{KH} = \\frac{G M_\\odot^2}{10 R_\\odot 10 L_\\odot} = 3\\times10^{5} \\mathrm{yr}\n",
    "\\end{equation}"
   ]
  },
  {
   "cell_type": "markdown",
   "id": "b0420a50",
   "metadata": {
    "slideshow": {
     "slide_type": "slide"
    }
   },
   "source": [
    "The sound-crossing time in a star is short, much shorter than $t_{KH}$.\n",
    "\n",
    "It can be approximated as $t_s = R_* / c_s$, where, if we assume the star is in equilibrium between gas pressure and gravity, we can approximate $c_s = \\sqrt{GM/R}$, so:\n",
    "\\begin{equation}\n",
    "t_s = \\sqrt{\\frac{R^3}{GM}} = 14 \\mathrm{h} << t_{kh}\n",
    "\\end{equation}"
   ]
  },
  {
   "cell_type": "code",
   "execution_count": 9,
   "id": "c63347d3",
   "metadata": {
    "slideshow": {
     "slide_type": "slide"
    }
   },
   "outputs": [
    {
     "data": {
      "text/latex": [
       "$13.991835 \\; \\mathrm{h}$"
      ],
      "text/plain": [
       "<Quantity 13.99183539 h>"
      ]
     },
     "execution_count": 9,
     "metadata": {
      "slideshow": {
       "slide_type": "slide"
      }
     },
     "output_type": "execute_result"
    }
   ],
   "source": [
    "sound_crossing_time = ((10*u.R_sun)**(3/2) / (constants.G * u.M_sun)**(1/2)).to(u.hour)\n",
    "sound_crossing_time"
   ]
  },
  {
   "cell_type": "markdown",
   "id": "b2bb07ff",
   "metadata": {
    "slideshow": {
     "slide_type": "slide"
    }
   },
   "source": [
    "## Interactive questions\n",
    "\n",
    "What is the Kelvin-Helmholtz timescale for a brown dwarf (assume $M=0.05 \\mathrm{M}_\\odot$, $R= 1 \\mathrm{R}_\\odot$, and $L=4 \\pi R^2 T^4 \\sigma_{SB}$ with $T=500$ K)?\n",
    "\n",
    "What about for an O-star ($M=50 \\mathrm{M}_\\odot$, $R=20 \\mathrm{R}_\\odot$, $T=30,000$ K)?"
   ]
  },
  {
   "cell_type": "markdown",
   "id": "08b72b31",
   "metadata": {
    "slideshow": {
     "slide_type": "slide"
    }
   },
   "source": []
  },
  {
   "cell_type": "code",
   "execution_count": 27,
   "id": "086a700c",
   "metadata": {
    "slideshow": {
     "slide_type": "slide"
    }
   },
   "outputs": [
    {
     "data": {
      "text/latex": [
       "$1394.0744 \\; \\mathrm{Myr}$"
      ],
      "text/plain": [
       "<Quantity 1394.07441848 Myr>"
      ]
     },
     "execution_count": 27,
     "metadata": {
      "slideshow": {
       "slide_type": "slide"
      }
     },
     "output_type": "execute_result"
    }
   ],
   "source": [
    "tkh_bd = (constants.G * (0.05*u.M_sun)**2 / (1 * u.R_sun * (4*np.pi*(1*u.R_sun)**2*constants.sigma_sb*(500*u.K)**4))).to(u.Myr)\n",
    "tkh_bd"
   ]
  },
  {
   "cell_type": "code",
   "execution_count": 28,
   "id": "5f7f5648",
   "metadata": {
    "slideshow": {
     "slide_type": "slide"
    }
   },
   "outputs": [
    {
     "data": {
      "text/latex": [
       "$0.013445934 \\; \\mathrm{Myr}$"
      ],
      "text/plain": [
       "<Quantity 0.01344593 Myr>"
      ]
     },
     "execution_count": 28,
     "metadata": {
      "slideshow": {
       "slide_type": "slide"
      }
     },
     "output_type": "execute_result"
    }
   ],
   "source": [
    "tkh_o= (constants.G * (50*u.M_sun)**2 / (20 * u.R_sun * (4*np.pi*(20*u.R_sun)**2*constants.sigma_sb*(30000*u.K)**4))).to(u.Myr)\n",
    "tkh_o"
   ]
  },
  {
   "cell_type": "code",
   "execution_count": null,
   "id": "0c83ba43",
   "metadata": {},
   "outputs": [],
   "source": []
  }
 ],
 "metadata": {
  "kernelspec": {
   "display_name": "Python 3.9",
   "language": "python",
   "name": "py39"
  },
  "language_info": {
   "codemirror_mode": {
    "name": "ipython",
    "version": 3
   },
   "file_extension": ".py",
   "mimetype": "text/x-python",
   "name": "python",
   "nbconvert_exporter": "python",
   "pygments_lexer": "ipython3",
   "version": "3.9.6"
  },
  "rise": {
   "transition": "none"
  }
 },
 "nbformat": 4,
 "nbformat_minor": 5
}
